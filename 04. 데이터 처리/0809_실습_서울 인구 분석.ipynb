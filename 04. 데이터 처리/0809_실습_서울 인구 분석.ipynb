{
 "cells": [
  {
   "cell_type": "markdown",
   "metadata": {
    "id": "Xi_yurwiORB7"
   },
   "source": [
    "# 서울시 인구 분석"
   ]
  },
  {
   "cell_type": "markdown",
   "metadata": {
    "id": "4wk8yXgF1FYk"
   },
   "source": [
    "<img src='https://raw.githubusercontent.com/Jangrae/img/master/people2.png' width=\"650\" align=\"left\">"
   ]
  },
  {
   "cell_type": "markdown",
   "metadata": {
    "id": "0uNXxebRGrd8"
   },
   "source": [
    "## 1. 라이브러리 불러오기\n",
    "\n",
    "- 사용할 라이브러리를 불러옵니다."
   ]
  },
  {
   "cell_type": "code",
   "execution_count": 1,
   "metadata": {
    "id": "p3lUS_fyqvnh"
   },
   "outputs": [],
   "source": [
    "import pandas as pd\n",
    "import numpy as np\n",
    "import matplotlib.pyplot as plt\n",
    "import seaborn as sns"
   ]
  },
  {
   "cell_type": "markdown",
   "metadata": {
    "id": "ul8zKgxCqvnh"
   },
   "source": [
    "* 데이터 불러오기\n",
    "\n",
    "    - 다음 경로의 파일을 읽어와 pop01, pop02, pop03 데이터프레임을 만듭니다.\n",
    "    - 파일 경로1: https://raw.githubusercontent.com/Jangrae/csv/master/seoul_pop_h01.csv\n",
    "    - 파일 경로2: https://raw.githubusercontent.com/Jangrae/csv/master/seoul_pop_h02.csv\n",
    "    - 파일 경로3: https://raw.githubusercontent.com/Jangrae/csv/master/seoul_pop_h03.csv"
   ]
  },
  {
   "cell_type": "code",
   "execution_count": 2,
   "metadata": {
    "id": "91c9vKQ0E1A4"
   },
   "outputs": [
    {
     "data": {
      "text/html": [
       "<div>\n",
       "<style scoped>\n",
       "    .dataframe tbody tr th:only-of-type {\n",
       "        vertical-align: middle;\n",
       "    }\n",
       "\n",
       "    .dataframe tbody tr th {\n",
       "        vertical-align: top;\n",
       "    }\n",
       "\n",
       "    .dataframe thead th {\n",
       "        text-align: right;\n",
       "    }\n",
       "</style>\n",
       "<table border=\"1\" class=\"dataframe\">\n",
       "  <thead>\n",
       "    <tr style=\"text-align: right;\">\n",
       "      <th></th>\n",
       "      <th>year</th>\n",
       "      <th>k_male</th>\n",
       "      <th>k_female</th>\n",
       "    </tr>\n",
       "  </thead>\n",
       "  <tbody>\n",
       "    <tr>\n",
       "      <th>0</th>\n",
       "      <td>1981</td>\n",
       "      <td>4160</td>\n",
       "      <td>4191</td>\n",
       "    </tr>\n",
       "    <tr>\n",
       "      <th>1</th>\n",
       "      <td>1982</td>\n",
       "      <td>4160</td>\n",
       "      <td>4191</td>\n",
       "    </tr>\n",
       "    <tr>\n",
       "      <th>2</th>\n",
       "      <td>1983</td>\n",
       "      <td>4160</td>\n",
       "      <td>4191</td>\n",
       "    </tr>\n",
       "    <tr>\n",
       "      <th>3</th>\n",
       "      <td>1984</td>\n",
       "      <td>4160</td>\n",
       "      <td>4191</td>\n",
       "    </tr>\n",
       "    <tr>\n",
       "      <th>4</th>\n",
       "      <td>1985</td>\n",
       "      <td>4160</td>\n",
       "      <td>4191</td>\n",
       "    </tr>\n",
       "  </tbody>\n",
       "</table>\n",
       "</div>"
      ],
      "text/plain": [
       "   year  k_male  k_female\n",
       "0  1981    4160      4191\n",
       "1  1982    4160      4191\n",
       "2  1983    4160      4191\n",
       "3  1984    4160      4191\n",
       "4  1985    4160      4191"
      ]
     },
     "execution_count": 2,
     "metadata": {},
     "output_type": "execute_result"
    }
   ],
   "source": [
    "pop1 = pd.read_csv('https://raw.githubusercontent.com/Jangrae/csv/master/seoul_pop_h01.csv')\n",
    "pop1.head()"
   ]
  },
  {
   "cell_type": "code",
   "execution_count": 3,
   "metadata": {
    "id": "QSedynVWEp3W"
   },
   "outputs": [
    {
     "data": {
      "text/html": [
       "<div>\n",
       "<style scoped>\n",
       "    .dataframe tbody tr th:only-of-type {\n",
       "        vertical-align: middle;\n",
       "    }\n",
       "\n",
       "    .dataframe tbody tr th {\n",
       "        vertical-align: top;\n",
       "    }\n",
       "\n",
       "    .dataframe thead th {\n",
       "        text-align: right;\n",
       "    }\n",
       "</style>\n",
       "<table border=\"1\" class=\"dataframe\">\n",
       "  <thead>\n",
       "    <tr style=\"text-align: right;\">\n",
       "      <th></th>\n",
       "      <th>year</th>\n",
       "      <th>f_male</th>\n",
       "      <th>f_female</th>\n",
       "    </tr>\n",
       "  </thead>\n",
       "  <tbody>\n",
       "    <tr>\n",
       "      <th>0</th>\n",
       "      <td>1985</td>\n",
       "      <td>7</td>\n",
       "      <td>6</td>\n",
       "    </tr>\n",
       "    <tr>\n",
       "      <th>1</th>\n",
       "      <td>1986</td>\n",
       "      <td>7</td>\n",
       "      <td>5</td>\n",
       "    </tr>\n",
       "    <tr>\n",
       "      <th>2</th>\n",
       "      <td>1987</td>\n",
       "      <td>6</td>\n",
       "      <td>5</td>\n",
       "    </tr>\n",
       "    <tr>\n",
       "      <th>3</th>\n",
       "      <td>1988</td>\n",
       "      <td>5</td>\n",
       "      <td>5</td>\n",
       "    </tr>\n",
       "    <tr>\n",
       "      <th>4</th>\n",
       "      <td>1989</td>\n",
       "      <td>6</td>\n",
       "      <td>5</td>\n",
       "    </tr>\n",
       "  </tbody>\n",
       "</table>\n",
       "</div>"
      ],
      "text/plain": [
       "   year  f_male  f_female\n",
       "0  1985       7         6\n",
       "1  1986       7         5\n",
       "2  1987       6         5\n",
       "3  1988       5         5\n",
       "4  1989       6         5"
      ]
     },
     "execution_count": 3,
     "metadata": {},
     "output_type": "execute_result"
    }
   ],
   "source": [
    "pop2 = pd.read_csv('https://raw.githubusercontent.com/Jangrae/csv/master/seoul_pop_h02.csv')\n",
    "pop2.head()"
   ]
  },
  {
   "cell_type": "code",
   "execution_count": 4,
   "metadata": {
    "id": "OPfgGedaEqnw"
   },
   "outputs": [
    {
     "data": {
      "text/html": [
       "<div>\n",
       "<style scoped>\n",
       "    .dataframe tbody tr th:only-of-type {\n",
       "        vertical-align: middle;\n",
       "    }\n",
       "\n",
       "    .dataframe tbody tr th {\n",
       "        vertical-align: top;\n",
       "    }\n",
       "\n",
       "    .dataframe thead th {\n",
       "        text-align: right;\n",
       "    }\n",
       "</style>\n",
       "<table border=\"1\" class=\"dataframe\">\n",
       "  <thead>\n",
       "    <tr style=\"text-align: right;\">\n",
       "      <th></th>\n",
       "      <th>year</th>\n",
       "      <th>household</th>\n",
       "      <th>older_65</th>\n",
       "    </tr>\n",
       "  </thead>\n",
       "  <tbody>\n",
       "    <tr>\n",
       "      <th>0</th>\n",
       "      <td>1981</td>\n",
       "      <td>1915</td>\n",
       "      <td>246</td>\n",
       "    </tr>\n",
       "    <tr>\n",
       "      <th>1</th>\n",
       "      <td>1982</td>\n",
       "      <td>2001</td>\n",
       "      <td>260</td>\n",
       "    </tr>\n",
       "    <tr>\n",
       "      <th>2</th>\n",
       "      <td>1983</td>\n",
       "      <td>2116</td>\n",
       "      <td>260</td>\n",
       "    </tr>\n",
       "    <tr>\n",
       "      <th>3</th>\n",
       "      <td>1984</td>\n",
       "      <td>2246</td>\n",
       "      <td>275</td>\n",
       "    </tr>\n",
       "    <tr>\n",
       "      <th>4</th>\n",
       "      <td>1985</td>\n",
       "      <td>2338</td>\n",
       "      <td>211</td>\n",
       "    </tr>\n",
       "  </tbody>\n",
       "</table>\n",
       "</div>"
      ],
      "text/plain": [
       "   year  household  older_65\n",
       "0  1981       1915       246\n",
       "1  1982       2001       260\n",
       "2  1983       2116       260\n",
       "3  1984       2246       275\n",
       "4  1985       2338       211"
      ]
     },
     "execution_count": 4,
     "metadata": {},
     "output_type": "execute_result"
    }
   ],
   "source": [
    "pop3 = pd.read_csv('https://raw.githubusercontent.com/Jangrae/csv/master/seoul_pop_h03.csv')\n",
    "pop3.head()"
   ]
  },
  {
   "cell_type": "markdown",
   "metadata": {
    "id": "YskAXv8avBKD"
   },
   "source": [
    "## 2. 데이터 탐색\n",
    "\n",
    "다음과 같은 정보 확인을 통해 처리할 대상 데이터를 이해합니다.\n",
    "- 상/하위 데이터 확인\n",
    "- 데이터프레임 크기 확인\n",
    "- 열 이름, 데이터 형식, 값 개수 등 확인\n",
    "- 기초 통계정보 확인\n",
    "- 결측치 확인\n",
    "- 범주형 데이터 확인\n",
    "- 개별 열 값 상세 확인 등"
   ]
  },
  {
   "cell_type": "markdown",
   "metadata": {
    "id": "DGGFZli-V9pv"
   },
   "source": [
    "**1) 데이터프레임 크기 확인**\n",
    "\n",
    "- 세 개의 데이터프레임 크기(행 수, 열 수)를 확인합니다."
   ]
  },
  {
   "cell_type": "code",
   "execution_count": 5,
   "metadata": {
    "id": "rLzk_ydnvQzs"
   },
   "outputs": [
    {
     "data": {
      "text/plain": [
       "((40, 3), (36, 3), (40, 3))"
      ]
     },
     "execution_count": 5,
     "metadata": {},
     "output_type": "execute_result"
    }
   ],
   "source": [
    "pop1.shape, pop2.shape, pop3.shape\n",
    "# pop2가 행 4개가 적다 "
   ]
  },
  {
   "cell_type": "markdown",
   "metadata": {
    "id": "PvfJBoYFWD7d"
   },
   "source": [
    "**2) year 최솟값, 최댓값 확인**\n",
    "\n",
    "- 세 개의 데이터프레임 year열 최솟값, 최댓값 크기를 비교해 차이가 있는 지 각각 확인합니다."
   ]
  },
  {
   "cell_type": "code",
   "execution_count": 6,
   "metadata": {
    "id": "HLYDQZLSwlic"
   },
   "outputs": [
    {
     "data": {
      "text/plain": [
       "min    1981\n",
       "max    2020\n",
       "Name: year, dtype: int64"
      ]
     },
     "execution_count": 6,
     "metadata": {},
     "output_type": "execute_result"
    }
   ],
   "source": [
    "pop1.loc[:,'year'].agg({'min', 'max'})"
   ]
  },
  {
   "cell_type": "code",
   "execution_count": 7,
   "metadata": {},
   "outputs": [
    {
     "data": {
      "text/plain": [
       "min    1985\n",
       "max    2020\n",
       "Name: year, dtype: int64"
      ]
     },
     "execution_count": 7,
     "metadata": {},
     "output_type": "execute_result"
    }
   ],
   "source": [
    "pop2.loc[:,'year'].agg({'min', 'max'})\n",
    "# 없는 행 4개가 1981, 1982, 1983, 1984 인 거 같다"
   ]
  },
  {
   "cell_type": "code",
   "execution_count": 8,
   "metadata": {},
   "outputs": [
    {
     "data": {
      "text/plain": [
       "min    1981\n",
       "max    2020\n",
       "Name: year, dtype: int64"
      ]
     },
     "execution_count": 8,
     "metadata": {},
     "output_type": "execute_result"
    }
   ],
   "source": [
    "pop3.loc[:,'year'].agg({'min', 'max'})"
   ]
  },
  {
   "cell_type": "markdown",
   "metadata": {
    "id": "ia5a8bYdWRRY"
   },
   "source": [
    "**3) 결측치 확인**\n",
    "\n",
    "- 세 개의 데이터프레임에 결측치가 있는 지 각각 확인합니다."
   ]
  },
  {
   "cell_type": "code",
   "execution_count": 9,
   "metadata": {
    "id": "eGIIvQrPx1aj"
   },
   "outputs": [
    {
     "data": {
      "text/plain": [
       "year        0\n",
       "k_male      0\n",
       "k_female    0\n",
       "dtype: int64"
      ]
     },
     "execution_count": 9,
     "metadata": {},
     "output_type": "execute_result"
    }
   ],
   "source": [
    "pop1.isna().sum()"
   ]
  },
  {
   "cell_type": "code",
   "execution_count": 10,
   "metadata": {},
   "outputs": [
    {
     "data": {
      "text/plain": [
       "year        0\n",
       "f_male      0\n",
       "f_female    0\n",
       "dtype: int64"
      ]
     },
     "execution_count": 10,
     "metadata": {},
     "output_type": "execute_result"
    }
   ],
   "source": [
    "pop2.isna().sum()"
   ]
  },
  {
   "cell_type": "code",
   "execution_count": 11,
   "metadata": {},
   "outputs": [
    {
     "data": {
      "text/plain": [
       "year         0\n",
       "household    0\n",
       "older_65     0\n",
       "dtype: int64"
      ]
     },
     "execution_count": 11,
     "metadata": {},
     "output_type": "execute_result"
    }
   ],
   "source": [
    "pop3.isna().sum()"
   ]
  },
  {
   "cell_type": "markdown",
   "metadata": {
    "id": "1OSzZhf-7oqD"
   },
   "source": [
    "**4) 열 정보 확인**\n",
    "\n",
    "- 세 개의 데이터프레임의 열 정보를 확인합니다."
   ]
  },
  {
   "cell_type": "code",
   "execution_count": 12,
   "metadata": {
    "id": "HXq3am7Q7oqD",
    "scrolled": true
   },
   "outputs": [
    {
     "name": "stdout",
     "output_type": "stream",
     "text": [
      "<class 'pandas.core.frame.DataFrame'>\n",
      "RangeIndex: 40 entries, 0 to 39\n",
      "Data columns (total 3 columns):\n",
      " #   Column    Non-Null Count  Dtype\n",
      "---  ------    --------------  -----\n",
      " 0   year      40 non-null     int64\n",
      " 1   k_male    40 non-null     int64\n",
      " 2   k_female  40 non-null     int64\n",
      "dtypes: int64(3)\n",
      "memory usage: 1.1 KB\n"
     ]
    }
   ],
   "source": [
    "pop1.info()"
   ]
  },
  {
   "cell_type": "code",
   "execution_count": 13,
   "metadata": {},
   "outputs": [
    {
     "name": "stdout",
     "output_type": "stream",
     "text": [
      "<class 'pandas.core.frame.DataFrame'>\n",
      "RangeIndex: 36 entries, 0 to 35\n",
      "Data columns (total 3 columns):\n",
      " #   Column    Non-Null Count  Dtype\n",
      "---  ------    --------------  -----\n",
      " 0   year      36 non-null     int64\n",
      " 1   f_male    36 non-null     int64\n",
      " 2   f_female  36 non-null     int64\n",
      "dtypes: int64(3)\n",
      "memory usage: 992.0 bytes\n"
     ]
    }
   ],
   "source": [
    "pop2.info()"
   ]
  },
  {
   "cell_type": "code",
   "execution_count": 14,
   "metadata": {},
   "outputs": [
    {
     "name": "stdout",
     "output_type": "stream",
     "text": [
      "<class 'pandas.core.frame.DataFrame'>\n",
      "RangeIndex: 40 entries, 0 to 39\n",
      "Data columns (total 3 columns):\n",
      " #   Column     Non-Null Count  Dtype\n",
      "---  ------     --------------  -----\n",
      " 0   year       40 non-null     int64\n",
      " 1   household  40 non-null     int64\n",
      " 2   older_65   40 non-null     int64\n",
      "dtypes: int64(3)\n",
      "memory usage: 1.1 KB\n"
     ]
    }
   ],
   "source": [
    "pop3.info()"
   ]
  },
  {
   "cell_type": "markdown",
   "metadata": {
    "id": "90Xyn_eRsjM1"
   },
   "source": [
    "## 3. 데이터 전처리\n",
    "\n",
    "전처리 과정에서 다음과 같은 처리를 할 수 있습니다.\n",
    "\n",
    "- 결측치 처리\n",
    "- 값 변경\n",
    "- 열 추가\n",
    "- 불필요한 열 제거\n",
    "- 열 이름 변경\n",
    "- 데이터 통합(연결 또는 조인)\n",
    "- 가변수화 등"
   ]
  },
  {
   "cell_type": "markdown",
   "metadata": {
    "id": "RVYiMiblt05b"
   },
   "source": [
    "**1) 데이터 통합**\n",
    "\n",
    "- concat을 사용해 연결하면 인덱스 값을 기준으로 연결되어 데이터가 어긋납니다.\n",
    "- **year** 열을 기준으로 **outer** 방식으로 조인(병합)합니다.\n",
    "- 외국인 정보가 1981 ~ 1984년이 누락되어 결측치가 발생할 것입니다.\n",
    "- 세 개의 데이터프레임을 병합(조인)하여 pop 데이터프레임을 선언합니다.\n",
    "- 이후의 모든 작업은 pop 데이터프레임을 대상으로 진행합니다."
   ]
  },
  {
   "cell_type": "code",
   "execution_count": 15,
   "metadata": {
    "id": "oQVSJrJishiQ",
    "scrolled": true
   },
   "outputs": [
    {
     "data": {
      "text/html": [
       "<div>\n",
       "<style scoped>\n",
       "    .dataframe tbody tr th:only-of-type {\n",
       "        vertical-align: middle;\n",
       "    }\n",
       "\n",
       "    .dataframe tbody tr th {\n",
       "        vertical-align: top;\n",
       "    }\n",
       "\n",
       "    .dataframe thead th {\n",
       "        text-align: right;\n",
       "    }\n",
       "</style>\n",
       "<table border=\"1\" class=\"dataframe\">\n",
       "  <thead>\n",
       "    <tr style=\"text-align: right;\">\n",
       "      <th></th>\n",
       "      <th>year</th>\n",
       "      <th>k_male</th>\n",
       "      <th>k_female</th>\n",
       "      <th>f_male</th>\n",
       "      <th>f_female</th>\n",
       "    </tr>\n",
       "  </thead>\n",
       "  <tbody>\n",
       "    <tr>\n",
       "      <th>0</th>\n",
       "      <td>1981</td>\n",
       "      <td>4160</td>\n",
       "      <td>4191</td>\n",
       "      <td>NaN</td>\n",
       "      <td>NaN</td>\n",
       "    </tr>\n",
       "    <tr>\n",
       "      <th>1</th>\n",
       "      <td>1982</td>\n",
       "      <td>4160</td>\n",
       "      <td>4191</td>\n",
       "      <td>NaN</td>\n",
       "      <td>NaN</td>\n",
       "    </tr>\n",
       "    <tr>\n",
       "      <th>2</th>\n",
       "      <td>1983</td>\n",
       "      <td>4160</td>\n",
       "      <td>4191</td>\n",
       "      <td>NaN</td>\n",
       "      <td>NaN</td>\n",
       "    </tr>\n",
       "    <tr>\n",
       "      <th>3</th>\n",
       "      <td>1984</td>\n",
       "      <td>4160</td>\n",
       "      <td>4191</td>\n",
       "      <td>NaN</td>\n",
       "      <td>NaN</td>\n",
       "    </tr>\n",
       "    <tr>\n",
       "      <th>4</th>\n",
       "      <td>1985</td>\n",
       "      <td>4160</td>\n",
       "      <td>4191</td>\n",
       "      <td>7.0</td>\n",
       "      <td>6.0</td>\n",
       "    </tr>\n",
       "  </tbody>\n",
       "</table>\n",
       "</div>"
      ],
      "text/plain": [
       "   year  k_male  k_female  f_male  f_female\n",
       "0  1981    4160      4191     NaN       NaN\n",
       "1  1982    4160      4191     NaN       NaN\n",
       "2  1983    4160      4191     NaN       NaN\n",
       "3  1984    4160      4191     NaN       NaN\n",
       "4  1985    4160      4191     7.0       6.0"
      ]
     },
     "execution_count": 15,
     "metadata": {},
     "output_type": "execute_result"
    }
   ],
   "source": [
    "temp = pd.merge(pop1, pop2, how='outer',on='year')\n",
    "temp.head()"
   ]
  },
  {
   "cell_type": "code",
   "execution_count": 16,
   "metadata": {},
   "outputs": [
    {
     "data": {
      "text/html": [
       "<div>\n",
       "<style scoped>\n",
       "    .dataframe tbody tr th:only-of-type {\n",
       "        vertical-align: middle;\n",
       "    }\n",
       "\n",
       "    .dataframe tbody tr th {\n",
       "        vertical-align: top;\n",
       "    }\n",
       "\n",
       "    .dataframe thead th {\n",
       "        text-align: right;\n",
       "    }\n",
       "</style>\n",
       "<table border=\"1\" class=\"dataframe\">\n",
       "  <thead>\n",
       "    <tr style=\"text-align: right;\">\n",
       "      <th></th>\n",
       "      <th>year</th>\n",
       "      <th>k_male</th>\n",
       "      <th>k_female</th>\n",
       "      <th>f_male</th>\n",
       "      <th>f_female</th>\n",
       "      <th>household</th>\n",
       "      <th>older_65</th>\n",
       "    </tr>\n",
       "  </thead>\n",
       "  <tbody>\n",
       "    <tr>\n",
       "      <th>0</th>\n",
       "      <td>1981</td>\n",
       "      <td>4160</td>\n",
       "      <td>4191</td>\n",
       "      <td>NaN</td>\n",
       "      <td>NaN</td>\n",
       "      <td>1915</td>\n",
       "      <td>246</td>\n",
       "    </tr>\n",
       "    <tr>\n",
       "      <th>1</th>\n",
       "      <td>1982</td>\n",
       "      <td>4160</td>\n",
       "      <td>4191</td>\n",
       "      <td>NaN</td>\n",
       "      <td>NaN</td>\n",
       "      <td>2001</td>\n",
       "      <td>260</td>\n",
       "    </tr>\n",
       "    <tr>\n",
       "      <th>2</th>\n",
       "      <td>1983</td>\n",
       "      <td>4160</td>\n",
       "      <td>4191</td>\n",
       "      <td>NaN</td>\n",
       "      <td>NaN</td>\n",
       "      <td>2116</td>\n",
       "      <td>260</td>\n",
       "    </tr>\n",
       "    <tr>\n",
       "      <th>3</th>\n",
       "      <td>1984</td>\n",
       "      <td>4160</td>\n",
       "      <td>4191</td>\n",
       "      <td>NaN</td>\n",
       "      <td>NaN</td>\n",
       "      <td>2246</td>\n",
       "      <td>275</td>\n",
       "    </tr>\n",
       "    <tr>\n",
       "      <th>4</th>\n",
       "      <td>1985</td>\n",
       "      <td>4160</td>\n",
       "      <td>4191</td>\n",
       "      <td>7.0</td>\n",
       "      <td>6.0</td>\n",
       "      <td>2338</td>\n",
       "      <td>211</td>\n",
       "    </tr>\n",
       "    <tr>\n",
       "      <th>5</th>\n",
       "      <td>1986</td>\n",
       "      <td>4899</td>\n",
       "      <td>4888</td>\n",
       "      <td>7.0</td>\n",
       "      <td>5.0</td>\n",
       "      <td>2428</td>\n",
       "      <td>305</td>\n",
       "    </tr>\n",
       "    <tr>\n",
       "      <th>6</th>\n",
       "      <td>1987</td>\n",
       "      <td>5000</td>\n",
       "      <td>4979</td>\n",
       "      <td>6.0</td>\n",
       "      <td>5.0</td>\n",
       "      <td>2518</td>\n",
       "      <td>329</td>\n",
       "    </tr>\n",
       "    <tr>\n",
       "      <th>7</th>\n",
       "      <td>1988</td>\n",
       "      <td>5156</td>\n",
       "      <td>5120</td>\n",
       "      <td>5.0</td>\n",
       "      <td>5.0</td>\n",
       "      <td>2658</td>\n",
       "      <td>349</td>\n",
       "    </tr>\n",
       "    <tr>\n",
       "      <th>8</th>\n",
       "      <td>1989</td>\n",
       "      <td>5305</td>\n",
       "      <td>5261</td>\n",
       "      <td>6.0</td>\n",
       "      <td>5.0</td>\n",
       "      <td>2817</td>\n",
       "      <td>363</td>\n",
       "    </tr>\n",
       "    <tr>\n",
       "      <th>9</th>\n",
       "      <td>1990</td>\n",
       "      <td>5321</td>\n",
       "      <td>5282</td>\n",
       "      <td>5.0</td>\n",
       "      <td>4.0</td>\n",
       "      <td>2820</td>\n",
       "      <td>363</td>\n",
       "    </tr>\n",
       "  </tbody>\n",
       "</table>\n",
       "</div>"
      ],
      "text/plain": [
       "   year  k_male  k_female  f_male  f_female  household  older_65\n",
       "0  1981    4160      4191     NaN       NaN       1915       246\n",
       "1  1982    4160      4191     NaN       NaN       2001       260\n",
       "2  1983    4160      4191     NaN       NaN       2116       260\n",
       "3  1984    4160      4191     NaN       NaN       2246       275\n",
       "4  1985    4160      4191     7.0       6.0       2338       211\n",
       "5  1986    4899      4888     7.0       5.0       2428       305\n",
       "6  1987    5000      4979     6.0       5.0       2518       329\n",
       "7  1988    5156      5120     5.0       5.0       2658       349\n",
       "8  1989    5305      5261     6.0       5.0       2817       363\n",
       "9  1990    5321      5282     5.0       4.0       2820       363"
      ]
     },
     "execution_count": 16,
     "metadata": {},
     "output_type": "execute_result"
    }
   ],
   "source": [
    "pop = pd.merge(temp, pop3, how='outer', on='year')\n",
    "pop.head(10)"
   ]
  },
  {
   "cell_type": "markdown",
   "metadata": {
    "id": "hdjxpxxFzxCT"
   },
   "source": [
    "**2) 결측치 확인**\n",
    "\n",
    "- 결측치가 있는지 확인합니다."
   ]
  },
  {
   "cell_type": "code",
   "execution_count": 17,
   "metadata": {
    "id": "NyjTg23zz5XS"
   },
   "outputs": [
    {
     "data": {
      "text/plain": [
       "year         0\n",
       "k_male       0\n",
       "k_female     0\n",
       "f_male       4\n",
       "f_female     4\n",
       "household    0\n",
       "older_65     0\n",
       "dtype: int64"
      ]
     },
     "execution_count": 17,
     "metadata": {},
     "output_type": "execute_result"
    }
   ],
   "source": [
    "pop.isna().sum()"
   ]
  },
  {
   "cell_type": "markdown",
   "metadata": {
    "id": "E6MZV3nW0QUv"
   },
   "source": [
    "**3) 결측치 처리**\n",
    "\n",
    "- 연도별 인구 현황이므로 임의의 값을 채우는 것이 바람직하지 않아 보입니다.\n",
    "- 이후 값, 즉 1985년 값으로 채우는 것도 정확한 분석을 방해할 것 같습니다.\n",
    "- 이에 결측치가 있는 1981년~1984년 행을 제거할 것입니다."
   ]
  },
  {
   "cell_type": "code",
   "execution_count": 18,
   "metadata": {
    "id": "TZ38gSP31CYM"
   },
   "outputs": [
    {
     "data": {
      "text/plain": [
       "year         0\n",
       "k_male       0\n",
       "k_female     0\n",
       "f_male       0\n",
       "f_female     0\n",
       "household    0\n",
       "older_65     0\n",
       "dtype: int64"
      ]
     },
     "execution_count": 18,
     "metadata": {},
     "output_type": "execute_result"
    }
   ],
   "source": [
    "pop.dropna(axis=0, inplace=True)\n",
    "pop.isna().sum()"
   ]
  },
  {
   "cell_type": "code",
   "execution_count": 19,
   "metadata": {},
   "outputs": [
    {
     "data": {
      "text/plain": [
       "(36, 7)"
      ]
     },
     "execution_count": 19,
     "metadata": {},
     "output_type": "execute_result"
    }
   ],
   "source": [
    "pop.shape"
   ]
  },
  {
   "cell_type": "markdown",
   "metadata": {
    "id": "WAGgvzDv2klV"
   },
   "source": [
    "**3) 열 추가**\n",
    "\n",
    "- 이후 분석의 편의를 위해 다음과 같은 의미를 갖는 열을 추가하고자 합니다.\n",
    "    - k_total = 전체 한국인 인구수\n",
    "    - f_total = 전체 외국인 인구수\n",
    "    - male = 전체 남자 인구수\n",
    "    - female = 전체 여자 인구수\n",
    "    - total = 전체 인구수\n",
    "- 추가할 열에 대한 공식은 다음과 같습니다.\n",
    "    - k_total = k_male + k_female\n",
    "    - f_total = f_male + f_female\n",
    "    - male = k_male + f_male\n",
    "    - female = k_female + f_female\n",
    "    - total = k_total + f_total\n",
    "- 정리한 공식에 따라 데이터프레임에 열을 추가합니다."
   ]
  },
  {
   "cell_type": "code",
   "execution_count": 20,
   "metadata": {
    "id": "_2UJfoL4Deyq"
   },
   "outputs": [
    {
     "data": {
      "text/html": [
       "<div>\n",
       "<style scoped>\n",
       "    .dataframe tbody tr th:only-of-type {\n",
       "        vertical-align: middle;\n",
       "    }\n",
       "\n",
       "    .dataframe tbody tr th {\n",
       "        vertical-align: top;\n",
       "    }\n",
       "\n",
       "    .dataframe thead th {\n",
       "        text-align: right;\n",
       "    }\n",
       "</style>\n",
       "<table border=\"1\" class=\"dataframe\">\n",
       "  <thead>\n",
       "    <tr style=\"text-align: right;\">\n",
       "      <th></th>\n",
       "      <th>year</th>\n",
       "      <th>k_male</th>\n",
       "      <th>k_female</th>\n",
       "      <th>f_male</th>\n",
       "      <th>f_female</th>\n",
       "      <th>household</th>\n",
       "      <th>older_65</th>\n",
       "      <th>k_total</th>\n",
       "      <th>f_total</th>\n",
       "      <th>male</th>\n",
       "      <th>female</th>\n",
       "      <th>total</th>\n",
       "    </tr>\n",
       "  </thead>\n",
       "  <tbody>\n",
       "    <tr>\n",
       "      <th>4</th>\n",
       "      <td>1985</td>\n",
       "      <td>4160</td>\n",
       "      <td>4191</td>\n",
       "      <td>7.0</td>\n",
       "      <td>6.0</td>\n",
       "      <td>2338</td>\n",
       "      <td>211</td>\n",
       "      <td>8351</td>\n",
       "      <td>13.0</td>\n",
       "      <td>4167.0</td>\n",
       "      <td>4197.0</td>\n",
       "      <td>8364.0</td>\n",
       "    </tr>\n",
       "    <tr>\n",
       "      <th>5</th>\n",
       "      <td>1986</td>\n",
       "      <td>4899</td>\n",
       "      <td>4888</td>\n",
       "      <td>7.0</td>\n",
       "      <td>5.0</td>\n",
       "      <td>2428</td>\n",
       "      <td>305</td>\n",
       "      <td>9787</td>\n",
       "      <td>12.0</td>\n",
       "      <td>4906.0</td>\n",
       "      <td>4893.0</td>\n",
       "      <td>9799.0</td>\n",
       "    </tr>\n",
       "    <tr>\n",
       "      <th>6</th>\n",
       "      <td>1987</td>\n",
       "      <td>5000</td>\n",
       "      <td>4979</td>\n",
       "      <td>6.0</td>\n",
       "      <td>5.0</td>\n",
       "      <td>2518</td>\n",
       "      <td>329</td>\n",
       "      <td>9979</td>\n",
       "      <td>11.0</td>\n",
       "      <td>5006.0</td>\n",
       "      <td>4984.0</td>\n",
       "      <td>9990.0</td>\n",
       "    </tr>\n",
       "    <tr>\n",
       "      <th>7</th>\n",
       "      <td>1988</td>\n",
       "      <td>5156</td>\n",
       "      <td>5120</td>\n",
       "      <td>5.0</td>\n",
       "      <td>5.0</td>\n",
       "      <td>2658</td>\n",
       "      <td>349</td>\n",
       "      <td>10276</td>\n",
       "      <td>10.0</td>\n",
       "      <td>5161.0</td>\n",
       "      <td>5125.0</td>\n",
       "      <td>10286.0</td>\n",
       "    </tr>\n",
       "    <tr>\n",
       "      <th>8</th>\n",
       "      <td>1989</td>\n",
       "      <td>5305</td>\n",
       "      <td>5261</td>\n",
       "      <td>6.0</td>\n",
       "      <td>5.0</td>\n",
       "      <td>2817</td>\n",
       "      <td>363</td>\n",
       "      <td>10566</td>\n",
       "      <td>11.0</td>\n",
       "      <td>5311.0</td>\n",
       "      <td>5266.0</td>\n",
       "      <td>10577.0</td>\n",
       "    </tr>\n",
       "  </tbody>\n",
       "</table>\n",
       "</div>"
      ],
      "text/plain": [
       "   year  k_male  k_female  f_male  f_female  household  older_65  k_total  \\\n",
       "4  1985    4160      4191     7.0       6.0       2338       211     8351   \n",
       "5  1986    4899      4888     7.0       5.0       2428       305     9787   \n",
       "6  1987    5000      4979     6.0       5.0       2518       329     9979   \n",
       "7  1988    5156      5120     5.0       5.0       2658       349    10276   \n",
       "8  1989    5305      5261     6.0       5.0       2817       363    10566   \n",
       "\n",
       "   f_total    male  female    total  \n",
       "4     13.0  4167.0  4197.0   8364.0  \n",
       "5     12.0  4906.0  4893.0   9799.0  \n",
       "6     11.0  5006.0  4984.0   9990.0  \n",
       "7     10.0  5161.0  5125.0  10286.0  \n",
       "8     11.0  5311.0  5266.0  10577.0  "
      ]
     },
     "execution_count": 20,
     "metadata": {},
     "output_type": "execute_result"
    }
   ],
   "source": [
    "pop['k_total'] = pop['k_male']+pop['k_female']\n",
    "pop['f_total'] = pop['f_male']+pop['f_female']\n",
    "pop['male'] = pop['k_male']+pop['f_male']\n",
    "pop['female'] = pop['k_female']+pop['f_female']\n",
    "pop['total'] = pop['k_total']+pop['f_total']\n",
    "pop.head()"
   ]
  },
  {
   "cell_type": "markdown",
   "metadata": {
    "id": "BUlYrjII22qA"
   },
   "source": [
    "**4) 열 순서 변경**\n",
    "\n",
    "- 데이터 이해를 돕기 위해 다음과 같은 순서로 데이터프레임 열 순서를 변경합니다.\n",
    "- year, household, total, male, female, k_total, k_male, k_female, f_total, f_male, f_female, older_65\n"
   ]
  },
  {
   "cell_type": "code",
   "execution_count": 21,
   "metadata": {
    "id": "w_e2NR6W3Sw0"
   },
   "outputs": [],
   "source": [
    "pop = pop[['year', 'household', 'total', 'male', 'female', 'k_total', 'k_male', 'k_female', 'f_total', 'f_male', 'f_female', 'older_65']].head()"
   ]
  },
  {
   "cell_type": "markdown",
   "metadata": {
    "id": "YqROKu_R3t03"
   },
   "source": [
    "**5) 인덱스 초기화**\n",
    "\n",
    "- 인덱스가 0부터 시작하는 일련 변호를 갖지 않는다면 인덱스를 초기화합니다."
   ]
  },
  {
   "cell_type": "code",
   "execution_count": 22,
   "metadata": {
    "id": "E6hQeKB533r9"
   },
   "outputs": [
    {
     "data": {
      "text/html": [
       "<div>\n",
       "<style scoped>\n",
       "    .dataframe tbody tr th:only-of-type {\n",
       "        vertical-align: middle;\n",
       "    }\n",
       "\n",
       "    .dataframe tbody tr th {\n",
       "        vertical-align: top;\n",
       "    }\n",
       "\n",
       "    .dataframe thead th {\n",
       "        text-align: right;\n",
       "    }\n",
       "</style>\n",
       "<table border=\"1\" class=\"dataframe\">\n",
       "  <thead>\n",
       "    <tr style=\"text-align: right;\">\n",
       "      <th></th>\n",
       "      <th>year</th>\n",
       "      <th>household</th>\n",
       "      <th>total</th>\n",
       "      <th>male</th>\n",
       "      <th>female</th>\n",
       "      <th>k_total</th>\n",
       "      <th>k_male</th>\n",
       "      <th>k_female</th>\n",
       "      <th>f_total</th>\n",
       "      <th>f_male</th>\n",
       "      <th>f_female</th>\n",
       "      <th>older_65</th>\n",
       "    </tr>\n",
       "  </thead>\n",
       "  <tbody>\n",
       "    <tr>\n",
       "      <th>4</th>\n",
       "      <td>1985</td>\n",
       "      <td>2338</td>\n",
       "      <td>8364.0</td>\n",
       "      <td>4167.0</td>\n",
       "      <td>4197.0</td>\n",
       "      <td>8351</td>\n",
       "      <td>4160</td>\n",
       "      <td>4191</td>\n",
       "      <td>13.0</td>\n",
       "      <td>7.0</td>\n",
       "      <td>6.0</td>\n",
       "      <td>211</td>\n",
       "    </tr>\n",
       "    <tr>\n",
       "      <th>5</th>\n",
       "      <td>1986</td>\n",
       "      <td>2428</td>\n",
       "      <td>9799.0</td>\n",
       "      <td>4906.0</td>\n",
       "      <td>4893.0</td>\n",
       "      <td>9787</td>\n",
       "      <td>4899</td>\n",
       "      <td>4888</td>\n",
       "      <td>12.0</td>\n",
       "      <td>7.0</td>\n",
       "      <td>5.0</td>\n",
       "      <td>305</td>\n",
       "    </tr>\n",
       "    <tr>\n",
       "      <th>6</th>\n",
       "      <td>1987</td>\n",
       "      <td>2518</td>\n",
       "      <td>9990.0</td>\n",
       "      <td>5006.0</td>\n",
       "      <td>4984.0</td>\n",
       "      <td>9979</td>\n",
       "      <td>5000</td>\n",
       "      <td>4979</td>\n",
       "      <td>11.0</td>\n",
       "      <td>6.0</td>\n",
       "      <td>5.0</td>\n",
       "      <td>329</td>\n",
       "    </tr>\n",
       "    <tr>\n",
       "      <th>7</th>\n",
       "      <td>1988</td>\n",
       "      <td>2658</td>\n",
       "      <td>10286.0</td>\n",
       "      <td>5161.0</td>\n",
       "      <td>5125.0</td>\n",
       "      <td>10276</td>\n",
       "      <td>5156</td>\n",
       "      <td>5120</td>\n",
       "      <td>10.0</td>\n",
       "      <td>5.0</td>\n",
       "      <td>5.0</td>\n",
       "      <td>349</td>\n",
       "    </tr>\n",
       "    <tr>\n",
       "      <th>8</th>\n",
       "      <td>1989</td>\n",
       "      <td>2817</td>\n",
       "      <td>10577.0</td>\n",
       "      <td>5311.0</td>\n",
       "      <td>5266.0</td>\n",
       "      <td>10566</td>\n",
       "      <td>5305</td>\n",
       "      <td>5261</td>\n",
       "      <td>11.0</td>\n",
       "      <td>6.0</td>\n",
       "      <td>5.0</td>\n",
       "      <td>363</td>\n",
       "    </tr>\n",
       "  </tbody>\n",
       "</table>\n",
       "</div>"
      ],
      "text/plain": [
       "   year  household    total    male  female  k_total  k_male  k_female  \\\n",
       "4  1985       2338   8364.0  4167.0  4197.0     8351    4160      4191   \n",
       "5  1986       2428   9799.0  4906.0  4893.0     9787    4899      4888   \n",
       "6  1987       2518   9990.0  5006.0  4984.0     9979    5000      4979   \n",
       "7  1988       2658  10286.0  5161.0  5125.0    10276    5156      5120   \n",
       "8  1989       2817  10577.0  5311.0  5266.0    10566    5305      5261   \n",
       "\n",
       "   f_total  f_male  f_female  older_65  \n",
       "4     13.0     7.0       6.0       211  \n",
       "5     12.0     7.0       5.0       305  \n",
       "6     11.0     6.0       5.0       329  \n",
       "7     10.0     5.0       5.0       349  \n",
       "8     11.0     6.0       5.0       363  "
      ]
     },
     "execution_count": 22,
     "metadata": {},
     "output_type": "execute_result"
    }
   ],
   "source": [
    "pop.head()"
   ]
  },
  {
   "cell_type": "code",
   "execution_count": 23,
   "metadata": {},
   "outputs": [
    {
     "data": {
      "text/html": [
       "<div>\n",
       "<style scoped>\n",
       "    .dataframe tbody tr th:only-of-type {\n",
       "        vertical-align: middle;\n",
       "    }\n",
       "\n",
       "    .dataframe tbody tr th {\n",
       "        vertical-align: top;\n",
       "    }\n",
       "\n",
       "    .dataframe thead th {\n",
       "        text-align: right;\n",
       "    }\n",
       "</style>\n",
       "<table border=\"1\" class=\"dataframe\">\n",
       "  <thead>\n",
       "    <tr style=\"text-align: right;\">\n",
       "      <th></th>\n",
       "      <th>year</th>\n",
       "      <th>household</th>\n",
       "      <th>total</th>\n",
       "      <th>male</th>\n",
       "      <th>female</th>\n",
       "      <th>k_total</th>\n",
       "      <th>k_male</th>\n",
       "      <th>k_female</th>\n",
       "      <th>f_total</th>\n",
       "      <th>f_male</th>\n",
       "      <th>f_female</th>\n",
       "      <th>older_65</th>\n",
       "    </tr>\n",
       "  </thead>\n",
       "  <tbody>\n",
       "    <tr>\n",
       "      <th>0</th>\n",
       "      <td>1985</td>\n",
       "      <td>2338</td>\n",
       "      <td>8364.0</td>\n",
       "      <td>4167.0</td>\n",
       "      <td>4197.0</td>\n",
       "      <td>8351</td>\n",
       "      <td>4160</td>\n",
       "      <td>4191</td>\n",
       "      <td>13.0</td>\n",
       "      <td>7.0</td>\n",
       "      <td>6.0</td>\n",
       "      <td>211</td>\n",
       "    </tr>\n",
       "    <tr>\n",
       "      <th>1</th>\n",
       "      <td>1986</td>\n",
       "      <td>2428</td>\n",
       "      <td>9799.0</td>\n",
       "      <td>4906.0</td>\n",
       "      <td>4893.0</td>\n",
       "      <td>9787</td>\n",
       "      <td>4899</td>\n",
       "      <td>4888</td>\n",
       "      <td>12.0</td>\n",
       "      <td>7.0</td>\n",
       "      <td>5.0</td>\n",
       "      <td>305</td>\n",
       "    </tr>\n",
       "    <tr>\n",
       "      <th>2</th>\n",
       "      <td>1987</td>\n",
       "      <td>2518</td>\n",
       "      <td>9990.0</td>\n",
       "      <td>5006.0</td>\n",
       "      <td>4984.0</td>\n",
       "      <td>9979</td>\n",
       "      <td>5000</td>\n",
       "      <td>4979</td>\n",
       "      <td>11.0</td>\n",
       "      <td>6.0</td>\n",
       "      <td>5.0</td>\n",
       "      <td>329</td>\n",
       "    </tr>\n",
       "    <tr>\n",
       "      <th>3</th>\n",
       "      <td>1988</td>\n",
       "      <td>2658</td>\n",
       "      <td>10286.0</td>\n",
       "      <td>5161.0</td>\n",
       "      <td>5125.0</td>\n",
       "      <td>10276</td>\n",
       "      <td>5156</td>\n",
       "      <td>5120</td>\n",
       "      <td>10.0</td>\n",
       "      <td>5.0</td>\n",
       "      <td>5.0</td>\n",
       "      <td>349</td>\n",
       "    </tr>\n",
       "    <tr>\n",
       "      <th>4</th>\n",
       "      <td>1989</td>\n",
       "      <td>2817</td>\n",
       "      <td>10577.0</td>\n",
       "      <td>5311.0</td>\n",
       "      <td>5266.0</td>\n",
       "      <td>10566</td>\n",
       "      <td>5305</td>\n",
       "      <td>5261</td>\n",
       "      <td>11.0</td>\n",
       "      <td>6.0</td>\n",
       "      <td>5.0</td>\n",
       "      <td>363</td>\n",
       "    </tr>\n",
       "  </tbody>\n",
       "</table>\n",
       "</div>"
      ],
      "text/plain": [
       "   year  household    total    male  female  k_total  k_male  k_female  \\\n",
       "0  1985       2338   8364.0  4167.0  4197.0     8351    4160      4191   \n",
       "1  1986       2428   9799.0  4906.0  4893.0     9787    4899      4888   \n",
       "2  1987       2518   9990.0  5006.0  4984.0     9979    5000      4979   \n",
       "3  1988       2658  10286.0  5161.0  5125.0    10276    5156      5120   \n",
       "4  1989       2817  10577.0  5311.0  5266.0    10566    5305      5261   \n",
       "\n",
       "   f_total  f_male  f_female  older_65  \n",
       "0     13.0     7.0       6.0       211  \n",
       "1     12.0     7.0       5.0       305  \n",
       "2     11.0     6.0       5.0       329  \n",
       "3     10.0     5.0       5.0       349  \n",
       "4     11.0     6.0       5.0       363  "
      ]
     },
     "execution_count": 23,
     "metadata": {},
     "output_type": "execute_result"
    }
   ],
   "source": [
    "pop.reset_index(drop=True, inplace=True)\n",
    "pop.head()"
   ]
  },
  {
   "cell_type": "markdown",
   "metadata": {
    "id": "gVFIrpZmrsjq"
   },
   "source": [
    "## 4. 추가 전처리"
   ]
  },
  {
   "cell_type": "markdown",
   "metadata": {
    "id": "kdnCJKxP-GiC"
   },
   "source": [
    "* x, y 구분\n",
    "\n",
    "    - x : feature\n",
    "    - y : target <- total"
   ]
  },
  {
   "cell_type": "code",
   "execution_count": 29,
   "metadata": {
    "id": "eg2YEK6-8k9c"
   },
   "outputs": [
    {
     "data": {
      "text/plain": [
       "(5, 12)"
      ]
     },
     "execution_count": 29,
     "metadata": {},
     "output_type": "execute_result"
    }
   ],
   "source": [
    "target = 'total'\n",
    "pop.shape"
   ]
  },
  {
   "cell_type": "code",
   "execution_count": 25,
   "metadata": {
    "id": "bqB7UDBj8k96"
   },
   "outputs": [],
   "source": [
    "X = pop.drop(target, axis=1)\n",
    "y = pop.loc[:, target]"
   ]
  },
  {
   "cell_type": "code",
   "execution_count": 28,
   "metadata": {},
   "outputs": [
    {
     "data": {
      "text/plain": [
       "((5, 11), (5,))"
      ]
     },
     "execution_count": 28,
     "metadata": {},
     "output_type": "execute_result"
    }
   ],
   "source": [
    "X.shape, y.shape"
   ]
  },
  {
   "cell_type": "markdown",
   "metadata": {
    "id": "w6LVMNBb-EYK"
   },
   "source": [
    "* train test split"
   ]
  },
  {
   "cell_type": "code",
   "execution_count": 30,
   "metadata": {
    "id": "ldUH83Zh9gdE"
   },
   "outputs": [],
   "source": [
    "from sklearn.model_selection import train_test_split"
   ]
  },
  {
   "cell_type": "code",
   "execution_count": 31,
   "metadata": {
    "id": "ePTa2bih9JRU"
   },
   "outputs": [],
   "source": [
    "train_x, test_x, train_y, test_y = train_test_split(X, y, test_size=0.3, random_state=1)"
   ]
  },
  {
   "cell_type": "code",
   "execution_count": 32,
   "metadata": {
    "id": "CuSR6VJ89X4J"
   },
   "outputs": [
    {
     "data": {
      "text/plain": [
       "((3, 11), (3,))"
      ]
     },
     "execution_count": 32,
     "metadata": {},
     "output_type": "execute_result"
    }
   ],
   "source": [
    "train_x.shape, train_y.shape"
   ]
  },
  {
   "cell_type": "markdown",
   "metadata": {
    "id": "Q898Fe_Y9b4B"
   },
   "source": [
    "* Scaling\n",
    "\n",
    "    - min-max scaling"
   ]
  },
  {
   "cell_type": "code",
   "execution_count": 33,
   "metadata": {
    "id": "Z6xdipwP9ZTq"
   },
   "outputs": [],
   "source": [
    "from sklearn.preprocessing import MinMaxScaler"
   ]
  },
  {
   "cell_type": "code",
   "execution_count": 34,
   "metadata": {
    "id": "NBXz7AVZ9npr"
   },
   "outputs": [],
   "source": [
    "scaler = MinMaxScaler()"
   ]
  },
  {
   "cell_type": "code",
   "execution_count": 35,
   "metadata": {
    "id": "0MsrmONV96Cd"
   },
   "outputs": [],
   "source": [
    "train_x = scaler.fit_transform(train_x)\n",
    "test_x = scaler.fit_transform(test_x)"
   ]
  },
  {
   "cell_type": "code",
   "execution_count": 36,
   "metadata": {
    "id": "jaAGAJ9S97uK"
   },
   "outputs": [
    {
     "data": {
      "text/html": [
       "<div>\n",
       "<style scoped>\n",
       "    .dataframe tbody tr th:only-of-type {\n",
       "        vertical-align: middle;\n",
       "    }\n",
       "\n",
       "    .dataframe tbody tr th {\n",
       "        vertical-align: top;\n",
       "    }\n",
       "\n",
       "    .dataframe thead th {\n",
       "        text-align: right;\n",
       "    }\n",
       "</style>\n",
       "<table border=\"1\" class=\"dataframe\">\n",
       "  <thead>\n",
       "    <tr style=\"text-align: right;\">\n",
       "      <th></th>\n",
       "      <th>0</th>\n",
       "      <th>1</th>\n",
       "      <th>2</th>\n",
       "      <th>3</th>\n",
       "      <th>4</th>\n",
       "      <th>5</th>\n",
       "      <th>6</th>\n",
       "      <th>7</th>\n",
       "      <th>8</th>\n",
       "      <th>9</th>\n",
       "      <th>10</th>\n",
       "    </tr>\n",
       "  </thead>\n",
       "  <tbody>\n",
       "    <tr>\n",
       "      <th>count</th>\n",
       "      <td>3.000000</td>\n",
       "      <td>3.000000</td>\n",
       "      <td>3.000000</td>\n",
       "      <td>3.000000</td>\n",
       "      <td>3.000000</td>\n",
       "      <td>3.000000</td>\n",
       "      <td>3.000000</td>\n",
       "      <td>3.000000</td>\n",
       "      <td>3.00</td>\n",
       "      <td>3.000000</td>\n",
       "      <td>3.000000</td>\n",
       "    </tr>\n",
       "    <tr>\n",
       "      <th>mean</th>\n",
       "      <td>0.583333</td>\n",
       "      <td>0.556019</td>\n",
       "      <td>0.622960</td>\n",
       "      <td>0.622700</td>\n",
       "      <td>0.623025</td>\n",
       "      <td>0.623290</td>\n",
       "      <td>0.622741</td>\n",
       "      <td>0.444444</td>\n",
       "      <td>0.50</td>\n",
       "      <td>0.333333</td>\n",
       "      <td>0.635965</td>\n",
       "    </tr>\n",
       "    <tr>\n",
       "      <th>std</th>\n",
       "      <td>0.520416</td>\n",
       "      <td>0.509328</td>\n",
       "      <td>0.543468</td>\n",
       "      <td>0.543292</td>\n",
       "      <td>0.543512</td>\n",
       "      <td>0.543692</td>\n",
       "      <td>0.543320</td>\n",
       "      <td>0.509175</td>\n",
       "      <td>0.50</td>\n",
       "      <td>0.577350</td>\n",
       "      <td>0.552684</td>\n",
       "    </tr>\n",
       "    <tr>\n",
       "      <th>min</th>\n",
       "      <td>0.000000</td>\n",
       "      <td>0.000000</td>\n",
       "      <td>0.000000</td>\n",
       "      <td>0.000000</td>\n",
       "      <td>0.000000</td>\n",
       "      <td>0.000000</td>\n",
       "      <td>0.000000</td>\n",
       "      <td>0.000000</td>\n",
       "      <td>0.00</td>\n",
       "      <td>0.000000</td>\n",
       "      <td>0.000000</td>\n",
       "    </tr>\n",
       "    <tr>\n",
       "      <th>25%</th>\n",
       "      <td>0.375000</td>\n",
       "      <td>0.334029</td>\n",
       "      <td>0.434441</td>\n",
       "      <td>0.434051</td>\n",
       "      <td>0.434537</td>\n",
       "      <td>0.434934</td>\n",
       "      <td>0.434112</td>\n",
       "      <td>0.166667</td>\n",
       "      <td>0.25</td>\n",
       "      <td>0.000000</td>\n",
       "      <td>0.453947</td>\n",
       "    </tr>\n",
       "    <tr>\n",
       "      <th>50%</th>\n",
       "      <td>0.750000</td>\n",
       "      <td>0.668058</td>\n",
       "      <td>0.868881</td>\n",
       "      <td>0.868101</td>\n",
       "      <td>0.869074</td>\n",
       "      <td>0.869869</td>\n",
       "      <td>0.868224</td>\n",
       "      <td>0.333333</td>\n",
       "      <td>0.50</td>\n",
       "      <td>0.000000</td>\n",
       "      <td>0.907895</td>\n",
       "    </tr>\n",
       "    <tr>\n",
       "      <th>75%</th>\n",
       "      <td>0.875000</td>\n",
       "      <td>0.834029</td>\n",
       "      <td>0.934441</td>\n",
       "      <td>0.934051</td>\n",
       "      <td>0.934537</td>\n",
       "      <td>0.934934</td>\n",
       "      <td>0.934112</td>\n",
       "      <td>0.666667</td>\n",
       "      <td>0.75</td>\n",
       "      <td>0.500000</td>\n",
       "      <td>0.953947</td>\n",
       "    </tr>\n",
       "    <tr>\n",
       "      <th>max</th>\n",
       "      <td>1.000000</td>\n",
       "      <td>1.000000</td>\n",
       "      <td>1.000000</td>\n",
       "      <td>1.000000</td>\n",
       "      <td>1.000000</td>\n",
       "      <td>1.000000</td>\n",
       "      <td>1.000000</td>\n",
       "      <td>1.000000</td>\n",
       "      <td>1.00</td>\n",
       "      <td>1.000000</td>\n",
       "      <td>1.000000</td>\n",
       "    </tr>\n",
       "  </tbody>\n",
       "</table>\n",
       "</div>"
      ],
      "text/plain": [
       "             0         1         2         3         4         5         6   \\\n",
       "count  3.000000  3.000000  3.000000  3.000000  3.000000  3.000000  3.000000   \n",
       "mean   0.583333  0.556019  0.622960  0.622700  0.623025  0.623290  0.622741   \n",
       "std    0.520416  0.509328  0.543468  0.543292  0.543512  0.543692  0.543320   \n",
       "min    0.000000  0.000000  0.000000  0.000000  0.000000  0.000000  0.000000   \n",
       "25%    0.375000  0.334029  0.434441  0.434051  0.434537  0.434934  0.434112   \n",
       "50%    0.750000  0.668058  0.868881  0.868101  0.869074  0.869869  0.868224   \n",
       "75%    0.875000  0.834029  0.934441  0.934051  0.934537  0.934934  0.934112   \n",
       "max    1.000000  1.000000  1.000000  1.000000  1.000000  1.000000  1.000000   \n",
       "\n",
       "             7     8         9         10  \n",
       "count  3.000000  3.00  3.000000  3.000000  \n",
       "mean   0.444444  0.50  0.333333  0.635965  \n",
       "std    0.509175  0.50  0.577350  0.552684  \n",
       "min    0.000000  0.00  0.000000  0.000000  \n",
       "25%    0.166667  0.25  0.000000  0.453947  \n",
       "50%    0.333333  0.50  0.000000  0.907895  \n",
       "75%    0.666667  0.75  0.500000  0.953947  \n",
       "max    1.000000  1.00  1.000000  1.000000  "
      ]
     },
     "execution_count": 36,
     "metadata": {},
     "output_type": "execute_result"
    }
   ],
   "source": [
    "pd.DataFrame(train_x).describe()"
   ]
  },
  {
   "cell_type": "code",
   "execution_count": 37,
   "metadata": {
    "id": "3kG4eVvD_NJi"
   },
   "outputs": [
    {
     "data": {
      "text/html": [
       "<div>\n",
       "<style scoped>\n",
       "    .dataframe tbody tr th:only-of-type {\n",
       "        vertical-align: middle;\n",
       "    }\n",
       "\n",
       "    .dataframe tbody tr th {\n",
       "        vertical-align: top;\n",
       "    }\n",
       "\n",
       "    .dataframe thead th {\n",
       "        text-align: right;\n",
       "    }\n",
       "</style>\n",
       "<table border=\"1\" class=\"dataframe\">\n",
       "  <thead>\n",
       "    <tr style=\"text-align: right;\">\n",
       "      <th></th>\n",
       "      <th>0</th>\n",
       "      <th>1</th>\n",
       "      <th>2</th>\n",
       "      <th>3</th>\n",
       "      <th>4</th>\n",
       "      <th>5</th>\n",
       "      <th>6</th>\n",
       "      <th>7</th>\n",
       "      <th>8</th>\n",
       "      <th>9</th>\n",
       "      <th>10</th>\n",
       "    </tr>\n",
       "  </thead>\n",
       "  <tbody>\n",
       "    <tr>\n",
       "      <th>count</th>\n",
       "      <td>2.000000</td>\n",
       "      <td>2.000000</td>\n",
       "      <td>2.000000</td>\n",
       "      <td>2.000000</td>\n",
       "      <td>2.000000</td>\n",
       "      <td>2.000000</td>\n",
       "      <td>2.000000</td>\n",
       "      <td>2.000000</td>\n",
       "      <td>2.000000</td>\n",
       "      <td>2.0</td>\n",
       "      <td>2.000000</td>\n",
       "    </tr>\n",
       "    <tr>\n",
       "      <th>mean</th>\n",
       "      <td>0.500000</td>\n",
       "      <td>0.500000</td>\n",
       "      <td>0.500000</td>\n",
       "      <td>0.500000</td>\n",
       "      <td>0.500000</td>\n",
       "      <td>0.500000</td>\n",
       "      <td>0.500000</td>\n",
       "      <td>0.500000</td>\n",
       "      <td>0.500000</td>\n",
       "      <td>0.0</td>\n",
       "      <td>0.500000</td>\n",
       "    </tr>\n",
       "    <tr>\n",
       "      <th>std</th>\n",
       "      <td>0.707107</td>\n",
       "      <td>0.707107</td>\n",
       "      <td>0.707107</td>\n",
       "      <td>0.707107</td>\n",
       "      <td>0.707107</td>\n",
       "      <td>0.707107</td>\n",
       "      <td>0.707107</td>\n",
       "      <td>0.707107</td>\n",
       "      <td>0.707107</td>\n",
       "      <td>0.0</td>\n",
       "      <td>0.707107</td>\n",
       "    </tr>\n",
       "    <tr>\n",
       "      <th>min</th>\n",
       "      <td>0.000000</td>\n",
       "      <td>0.000000</td>\n",
       "      <td>0.000000</td>\n",
       "      <td>0.000000</td>\n",
       "      <td>0.000000</td>\n",
       "      <td>0.000000</td>\n",
       "      <td>0.000000</td>\n",
       "      <td>0.000000</td>\n",
       "      <td>0.000000</td>\n",
       "      <td>0.0</td>\n",
       "      <td>0.000000</td>\n",
       "    </tr>\n",
       "    <tr>\n",
       "      <th>25%</th>\n",
       "      <td>0.250000</td>\n",
       "      <td>0.250000</td>\n",
       "      <td>0.250000</td>\n",
       "      <td>0.250000</td>\n",
       "      <td>0.250000</td>\n",
       "      <td>0.250000</td>\n",
       "      <td>0.250000</td>\n",
       "      <td>0.250000</td>\n",
       "      <td>0.250000</td>\n",
       "      <td>0.0</td>\n",
       "      <td>0.250000</td>\n",
       "    </tr>\n",
       "    <tr>\n",
       "      <th>50%</th>\n",
       "      <td>0.500000</td>\n",
       "      <td>0.500000</td>\n",
       "      <td>0.500000</td>\n",
       "      <td>0.500000</td>\n",
       "      <td>0.500000</td>\n",
       "      <td>0.500000</td>\n",
       "      <td>0.500000</td>\n",
       "      <td>0.500000</td>\n",
       "      <td>0.500000</td>\n",
       "      <td>0.0</td>\n",
       "      <td>0.500000</td>\n",
       "    </tr>\n",
       "    <tr>\n",
       "      <th>75%</th>\n",
       "      <td>0.750000</td>\n",
       "      <td>0.750000</td>\n",
       "      <td>0.750000</td>\n",
       "      <td>0.750000</td>\n",
       "      <td>0.750000</td>\n",
       "      <td>0.750000</td>\n",
       "      <td>0.750000</td>\n",
       "      <td>0.750000</td>\n",
       "      <td>0.750000</td>\n",
       "      <td>0.0</td>\n",
       "      <td>0.750000</td>\n",
       "    </tr>\n",
       "    <tr>\n",
       "      <th>max</th>\n",
       "      <td>1.000000</td>\n",
       "      <td>1.000000</td>\n",
       "      <td>1.000000</td>\n",
       "      <td>1.000000</td>\n",
       "      <td>1.000000</td>\n",
       "      <td>1.000000</td>\n",
       "      <td>1.000000</td>\n",
       "      <td>1.000000</td>\n",
       "      <td>1.000000</td>\n",
       "      <td>0.0</td>\n",
       "      <td>1.000000</td>\n",
       "    </tr>\n",
       "  </tbody>\n",
       "</table>\n",
       "</div>"
      ],
      "text/plain": [
       "             0         1         2         3         4         5         6   \\\n",
       "count  2.000000  2.000000  2.000000  2.000000  2.000000  2.000000  2.000000   \n",
       "mean   0.500000  0.500000  0.500000  0.500000  0.500000  0.500000  0.500000   \n",
       "std    0.707107  0.707107  0.707107  0.707107  0.707107  0.707107  0.707107   \n",
       "min    0.000000  0.000000  0.000000  0.000000  0.000000  0.000000  0.000000   \n",
       "25%    0.250000  0.250000  0.250000  0.250000  0.250000  0.250000  0.250000   \n",
       "50%    0.500000  0.500000  0.500000  0.500000  0.500000  0.500000  0.500000   \n",
       "75%    0.750000  0.750000  0.750000  0.750000  0.750000  0.750000  0.750000   \n",
       "max    1.000000  1.000000  1.000000  1.000000  1.000000  1.000000  1.000000   \n",
       "\n",
       "             7         8    9         10  \n",
       "count  2.000000  2.000000  2.0  2.000000  \n",
       "mean   0.500000  0.500000  0.0  0.500000  \n",
       "std    0.707107  0.707107  0.0  0.707107  \n",
       "min    0.000000  0.000000  0.0  0.000000  \n",
       "25%    0.250000  0.250000  0.0  0.250000  \n",
       "50%    0.500000  0.500000  0.0  0.500000  \n",
       "75%    0.750000  0.750000  0.0  0.750000  \n",
       "max    1.000000  1.000000  0.0  1.000000  "
      ]
     },
     "execution_count": 37,
     "metadata": {},
     "output_type": "execute_result"
    }
   ],
   "source": [
    "pd.DataFrame(test_x).describe()"
   ]
  },
  {
   "cell_type": "markdown",
   "metadata": {
    "id": "RunXx5ob-L9j"
   },
   "source": [
    "## 5. 모델링"
   ]
  },
  {
   "cell_type": "markdown",
   "metadata": {
    "id": "KpBgwLU5-b7m"
   },
   "source": [
    "* 모델 선언"
   ]
  },
  {
   "cell_type": "code",
   "execution_count": 38,
   "metadata": {
    "id": "xJivOe31-DMG"
   },
   "outputs": [],
   "source": [
    "from sklearn.linear_model import LinearRegression # 선형회귀\n",
    "from sklearn.metrics import mean_squared_error # 잔차제곱의 평균"
   ]
  },
  {
   "cell_type": "code",
   "execution_count": 39,
   "metadata": {
    "id": "A1a9ZTWi-Tah"
   },
   "outputs": [],
   "source": [
    "# 모델 선언\n",
    "model = LinearRegression()"
   ]
  },
  {
   "cell_type": "markdown",
   "metadata": {
    "id": "ByOJ40rx-aBU"
   },
   "source": [
    "* 모델 학습"
   ]
  },
  {
   "cell_type": "code",
   "execution_count": 40,
   "metadata": {
    "id": "7BZYUjNt-WRT"
   },
   "outputs": [
    {
     "data": {
      "text/plain": [
       "LinearRegression()"
      ]
     },
     "execution_count": 40,
     "metadata": {},
     "output_type": "execute_result"
    }
   ],
   "source": [
    "model.fit(train_x, train_y)"
   ]
  },
  {
   "cell_type": "markdown",
   "metadata": {
    "id": "NaGKHZJS-ktc"
   },
   "source": [
    "* 학습한 모델 기반으로 예측값 생성"
   ]
  },
  {
   "cell_type": "code",
   "execution_count": 42,
   "metadata": {
    "id": "AtqR6q1u-pYA"
   },
   "outputs": [
    {
     "data": {
      "text/plain": [
       "(2,)"
      ]
     },
     "execution_count": 42,
     "metadata": {},
     "output_type": "execute_result"
    }
   ],
   "source": [
    "test_pred = model.predict(test_x)\n",
    "test_pred.shape"
   ]
  },
  {
   "cell_type": "code",
   "execution_count": 44,
   "metadata": {
    "id": "AyJLAYoN-s3r"
   },
   "outputs": [
    {
     "data": {
      "text/plain": [
       "array([10615.35655954,  8577.02668107])"
      ]
     },
     "execution_count": 44,
     "metadata": {},
     "output_type": "execute_result"
    }
   ],
   "source": [
    "test_pred"
   ]
  },
  {
   "cell_type": "code",
   "execution_count": 46,
   "metadata": {
    "id": "DMlL2Z-N-wRq"
   },
   "outputs": [
    {
     "data": {
      "text/plain": [
       "[2    9990.0\n",
       " 1    9799.0\n",
       " Name: total, dtype: float64]"
      ]
     },
     "execution_count": 46,
     "metadata": {},
     "output_type": "execute_result"
    }
   ],
   "source": [
    "test_y"
   ]
  },
  {
   "cell_type": "markdown",
   "metadata": {
    "id": "_rDg0DGJ-2vp"
   },
   "source": [
    "## 6. 평가"
   ]
  },
  {
   "cell_type": "code",
   "execution_count": 47,
   "metadata": {
    "id": "7PmPZpse-2D2"
   },
   "outputs": [
    {
     "data": {
      "text/plain": [
       "970.641442223591"
      ]
     },
     "execution_count": 47,
     "metadata": {},
     "output_type": "execute_result"
    }
   ],
   "source": [
    "mean_squared_error(test_y, test_pred, squared=False)"
   ]
  },
  {
   "cell_type": "raw",
   "metadata": {
    "id": "jBiVt9Uv_WXG"
   },
   "source": [
    "total = 전체 한국인 인구수 + 전체 외국인 인구수\n",
    "실제 total값과 예측 total값의 차이가 약 970 정도 차이 난다"
   ]
  },
  {
   "cell_type": "code",
   "execution_count": null,
   "metadata": {
    "id": "d0TSKy87_gCL"
   },
   "outputs": [],
   "source": []
  }
 ],
 "metadata": {
  "colab": {
   "collapsed_sections": [],
   "name": "추가_서울 인구 분석.ipynb",
   "provenance": []
  },
  "kernelspec": {
   "display_name": "Python 3",
   "language": "python",
   "name": "python3"
  },
  "language_info": {
   "codemirror_mode": {
    "name": "ipython",
    "version": 3
   },
   "file_extension": ".py",
   "mimetype": "text/x-python",
   "name": "python",
   "nbconvert_exporter": "python",
   "pygments_lexer": "ipython3",
   "version": "3.8.8"
  }
 },
 "nbformat": 4,
 "nbformat_minor": 4
}
