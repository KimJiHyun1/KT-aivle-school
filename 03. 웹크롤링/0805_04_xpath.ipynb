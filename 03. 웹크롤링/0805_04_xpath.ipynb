{
 "cells": [
  {
   "cell_type": "markdown",
   "id": "cc154402-984c-4ead-a353-ce7a40cc867a",
   "metadata": {},
   "source": [
    "#### xpath\n",
    "- hteml element를 선택하는 방법\n",
    "- css selector와 같은 역할 \n",
    "- scrapy에서 기본적으로 사용하는 selector\n",
    "\n",
    "##### scrapy : 파이썬 코드로 웹페이지의 데이터를 수집하는 프레임워크"
   ]
  },
  {
   "cell_type": "code",
   "execution_count": 3,
   "id": "3bc7bd5b-2eca-4293-9257-eef00ec0bda3",
   "metadata": {},
   "outputs": [],
   "source": [
    "import scrapy, requests\n",
    "from scrapy.http import TextResponse \n",
    "# TextResponse: scrapy에서 xpath를 사용해서 element를 선택할 수 있게 도와주는"
   ]
  },
  {
   "cell_type": "code",
   "execution_count": null,
   "id": "6e896cb7-0a6f-400b-b4c2-778ab8fa3c04",
   "metadata": {},
   "outputs": [],
   "source": [
    "# 네이버 연관 검색어 수집 (using xpath)"
   ]
  },
  {
   "cell_type": "code",
   "execution_count": 6,
   "id": "d6f34dc1-d2ef-4c5a-bcbc-464cb76ab73a",
   "metadata": {},
   "outputs": [
    {
     "data": {
      "text/plain": [
       "'https://search.naver.com/search.naver?query=kt'"
      ]
     },
     "execution_count": 6,
     "metadata": {},
     "output_type": "execute_result"
    }
   ],
   "source": [
    "query = 'kt'\n",
    "url = f'https://search.naver.com/search.naver?query={query}' # 중간에 어쩌구저쩌구들 지워도 잘 검색됨\n",
    "url"
   ]
  },
  {
   "cell_type": "code",
   "execution_count": 9,
   "id": "1a37cdfe-5763-4c07-9d82-0c6764766558",
   "metadata": {},
   "outputs": [],
   "source": [
    "response = requests.get(url)\n",
    "dom = TextResponse(response.url, body=response.text, encoding='utf-8')"
   ]
  },
  {
   "cell_type": "code",
   "execution_count": null,
   "id": "73f93781-c864-4e2a-a985-8cedc8be9293",
   "metadata": {},
   "outputs": [],
   "source": [
    "# xpath syntax\n",
    "# xpath : //*[@id=\"nx_footer_related_keywords\"]/div/div[2]/ul/li[1]/a/div\n",
    "# // : 최상위 element\n",
    "# * : 모든 하위 element : css selector(.wrap p) 공백\n",
    "# [@id=\"nx_footer_related_keywords\"] : 속성값으로 element 선택 \n",
    "# / : 한단계 하위 element : css selecotr(.wrap > p) >\n",
    "# [n] : n번째 element"
   ]
  },
  {
   "cell_type": "code",
   "execution_count": 14,
   "id": "9c056f42-59c7-4cb2-b44f-be0e3fbb6e6b",
   "metadata": {},
   "outputs": [
    {
     "data": {
      "text/plain": [
       "[<Selector xpath='//*[@id=\"nx_footer_related_keywords\"]/div/div[2]/ul/li[1]/a/div' data='<div class=\"tit\">삼성전자</div>'>]"
      ]
     },
     "execution_count": 14,
     "metadata": {},
     "output_type": "execute_result"
    }
   ],
   "source": [
    "dom.xpath('//*[@id=\"nx_footer_related_keywords\"]/div/div[2]/ul/li[1]/a/div') # li[1] = li 1번째"
   ]
  },
  {
   "cell_type": "code",
   "execution_count": 16,
   "id": "91d3d7dd-c008-41b3-9d40-1506d1eb190c",
   "metadata": {},
   "outputs": [
    {
     "data": {
      "text/plain": [
       "[<Selector xpath='//*[@id=\"nx_footer_related_keywords\"]/div/div[2]/ul/li/a/div' data='<div class=\"tit\">삼성전자</div>'>,\n",
       " <Selector xpath='//*[@id=\"nx_footer_related_keywords\"]/div/div[2]/ul/li/a/div' data='<div class=\"tit\">kt 고객센터</div>'>]"
      ]
     },
     "execution_count": 16,
     "metadata": {},
     "output_type": "execute_result"
    }
   ],
   "source": [
    "# xpath를 쓰면 반복문 없이 다 가져올 수 있다 (css selector보다 더 효율적)\n",
    "dom.xpath('//*[@id=\"nx_footer_related_keywords\"]/div/div[2]/ul/li/a/div')[:2] # li = li에 있는 모든 거"
   ]
  },
  {
   "cell_type": "code",
   "execution_count": 21,
   "id": "873ac7ca-c558-4e02-962b-328dbe96d4c8",
   "metadata": {},
   "outputs": [
    {
     "name": "stdout",
     "output_type": "stream",
     "text": [
      "['삼성전자', 'kt 고객센터', 'kt 인터넷', 'ky', '환율', 'kt 대리점', 'kr', '날씨', 'SKT', 'kt 고객센터 전화번호']\n"
     ]
    }
   ],
   "source": [
    "# text 수집 : xpath 끝에 /text()를 붙이고 extract한다\n",
    "keywords = dom.xpath('//*[@id=\"nx_footer_related_keywords\"]/div/div[2]/ul/li/a/div/text()').extract()\n",
    "print(keywords)"
   ]
  },
  {
   "cell_type": "code",
   "execution_count": null,
   "id": "ce0d3b6d-ac4a-4446-8d04-be482d0f8a36",
   "metadata": {},
   "outputs": [],
   "source": [
    "# selenium에서의 xpath는 반복문 사용해서 데이터 수집해야함\n",
    "# 왜냐면 이거는 scrapy에서 동작되는 xpath라서..."
   ]
  }
 ],
 "metadata": {
  "kernelspec": {
   "display_name": "Python 3",
   "language": "python",
   "name": "python3"
  },
  "language_info": {
   "codemirror_mode": {
    "name": "ipython",
    "version": 3
   },
   "file_extension": ".py",
   "mimetype": "text/x-python",
   "name": "python",
   "nbconvert_exporter": "python",
   "pygments_lexer": "ipython3",
   "version": "3.8.8"
  }
 },
 "nbformat": 4,
 "nbformat_minor": 5
}
