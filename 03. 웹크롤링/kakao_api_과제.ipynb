{
 "cells": [
  {
   "cell_type": "markdown",
   "id": "02699bca-ed25-4e71-a0dd-7529bbaff56e",
   "metadata": {},
   "source": [
    "### 과제 : 카카오 API 사용해보기 (주소 > 위도, 경도, 우편번호 / 위도, 경도 > 주소)\n",
    "- REST API 키 사용\n",
    "- 문서 > 로컬 > 개발 가이드 (https://developers.kakao.com/docs/latest/ko/local/dev-guide)"
   ]
  },
  {
   "cell_type": "code",
   "execution_count": 23,
   "id": "7bc7d457-a8ae-4331-a84a-763407a2fd35",
   "metadata": {},
   "outputs": [],
   "source": [
    "import requests\n",
    "import pandas as pd"
   ]
  },
  {
   "cell_type": "code",
   "execution_count": null,
   "id": "684f80fe-7ec5-409a-ad65-c2addb7998e3",
   "metadata": {},
   "outputs": [],
   "source": [
    "# 1. 주소 > 위도, 경도, 우편번호 "
   ]
  },
  {
   "cell_type": "code",
   "execution_count": 26,
   "id": "002b13ab-164b-43a6-9245-03824bf92010",
   "metadata": {},
   "outputs": [],
   "source": [
    "REST_API_KEY = 'REST_API_KEY'"
   ]
  },
  {
   "cell_type": "code",
   "execution_count": 27,
   "id": "19daaae8-c016-48e1-beac-78500af55093",
   "metadata": {},
   "outputs": [],
   "source": [
    "addr = '경기도 성남시 분당구 불정로 90'\n",
    "url = f'https://dapi.kakao.com/v2/local/search/address.json?query={addr}'\n",
    "headers = {'Authorization': 'KakaoAK ' + REST_API_KEY}"
   ]
  },
  {
   "cell_type": "code",
   "execution_count": 28,
   "id": "bb08d541-e718-4d72-8d0b-15dbf7706f2f",
   "metadata": {},
   "outputs": [
    {
     "data": {
      "text/plain": [
       "<Response [200]>"
      ]
     },
     "execution_count": 28,
     "metadata": {},
     "output_type": "execute_result"
    }
   ],
   "source": [
    "response = requests.get(url, headers=headers)\n",
    "response"
   ]
  },
  {
   "cell_type": "code",
   "execution_count": 6,
   "id": "dd2d5282-f2f9-40e9-a1a1-b0a9ee591d3b",
   "metadata": {},
   "outputs": [
    {
     "data": {
      "text/plain": [
       "'{\"documents\":[{\"address\":{\"address_name\":\"경기 성남시 분당구 정자동 206\",\"b_code\":\"4113510300\",\"h_code\":\"4113557000\",\"main_address_no\":\"206\",\"mountain_yn\":\"N\",\"region_1depth_name\":\"경기\",\"region_2depth_name\":\"성남시 분당구\",\"region_3depth_h_name\":\"정자3동\",\"region_3depth_name\":\"정자동\",\"sub_address_no\":\"\",\"x\":\"127.114936252'"
      ]
     },
     "execution_count": 6,
     "metadata": {},
     "output_type": "execute_result"
    }
   ],
   "source": [
    "response.text[:300]"
   ]
  },
  {
   "cell_type": "code",
   "execution_count": 7,
   "id": "dbda1c20-07b2-47db-b66f-1cd5c6a64797",
   "metadata": {},
   "outputs": [
    {
     "data": {
      "text/plain": [
       "[{'address': {'address_name': '경기 성남시 분당구 정자동 206',\n",
       "   'b_code': '4113510300',\n",
       "   'h_code': '4113557000',\n",
       "   'main_address_no': '206',\n",
       "   'mountain_yn': 'N',\n",
       "   'region_1depth_name': '경기',\n",
       "   'region_2depth_name': '성남시 분당구',\n",
       "   'region_3depth_h_name': '정자3동',\n",
       "   'region_3depth_name': '정자동',\n",
       "   'sub_address_no': '',\n",
       "   'x': '127.114936252016',\n",
       "   'y': '37.3587823498654'},\n",
       "  'address_name': '경기 성남시 분당구 불정로 90',\n",
       "  'address_type': 'ROAD_ADDR',\n",
       "  'road_address': {'address_name': '경기 성남시 분당구 불정로 90',\n",
       "   'building_name': 'KT본사',\n",
       "   'main_building_no': '90',\n",
       "   'region_1depth_name': '경기',\n",
       "   'region_2depth_name': '성남시 분당구',\n",
       "   'region_3depth_name': '정자동',\n",
       "   'road_name': '불정로',\n",
       "   'sub_building_no': '',\n",
       "   'underground_yn': 'N',\n",
       "   'x': '127.114936252016',\n",
       "   'y': '37.3587823498654',\n",
       "   'zone_no': '13606'},\n",
       "  'x': '127.114936252016',\n",
       "  'y': '37.3587823498654'}]"
      ]
     },
     "execution_count": 7,
     "metadata": {},
     "output_type": "execute_result"
    }
   ],
   "source": [
    "data = response.json()['documents']\n",
    "data"
   ]
  },
  {
   "cell_type": "code",
   "execution_count": 8,
   "id": "54988f7d-cfb8-4bae-a0d2-f6742af9a0ea",
   "metadata": {},
   "outputs": [
    {
     "data": {
      "text/plain": [
       "{'address_name': '경기 성남시 분당구 불정로 90',\n",
       " 'building_name': 'KT본사',\n",
       " 'main_building_no': '90',\n",
       " 'region_1depth_name': '경기',\n",
       " 'region_2depth_name': '성남시 분당구',\n",
       " 'region_3depth_name': '정자동',\n",
       " 'road_name': '불정로',\n",
       " 'sub_building_no': '',\n",
       " 'underground_yn': 'N',\n",
       " 'x': '127.114936252016',\n",
       " 'y': '37.3587823498654',\n",
       " 'zone_no': '13606'}"
      ]
     },
     "execution_count": 8,
     "metadata": {},
     "output_type": "execute_result"
    }
   ],
   "source": [
    "data[0]['road_address'] # 우편번호는 도로명 주소(road addr) 상세 정보에 있다"
   ]
  },
  {
   "cell_type": "code",
   "execution_count": 9,
   "id": "0d7c3d5c-f7c9-40f6-933f-7726f3da4b20",
   "metadata": {},
   "outputs": [],
   "source": [
    "def addr_search(addr):\n",
    "    REST_API_KEY = 'REST_API_KEY'\n",
    "    url = f'https://dapi.kakao.com/v2/local/search/address.json?query={addr}'\n",
    "    headers = {'Authorization': 'KakaoAK ' + REST_API_KEY}\n",
    "    \n",
    "    response = requests.get(url, headers=headers)\n",
    "    data = response.json()['documents'][0]\n",
    "    \n",
    "    lng = data['road_address']['x'] # 경도\n",
    "    lat = data['road_address']['y'] # 위도\n",
    "    zip_code = data['road_address']['zone_no']\n",
    "    \n",
    "    print(f'위도: {lat}\\n경도: {lng}\\n우편번호: {zip_code}')"
   ]
  },
  {
   "cell_type": "code",
   "execution_count": 10,
   "id": "265e1fc8-9ac5-47bc-8f6b-18a97a48233b",
   "metadata": {},
   "outputs": [
    {
     "name": "stdout",
     "output_type": "stream",
     "text": [
      "위도: 37.3587823498654\n",
      "경도: 127.114936252016\n",
      "우편번호: 13606\n"
     ]
    }
   ],
   "source": [
    "addr_search('경기도 성남시 분당구 불정로 90')"
   ]
  },
  {
   "cell_type": "code",
   "execution_count": null,
   "id": "b2d101be-6e0b-4fbc-8dc7-8e83357fa313",
   "metadata": {},
   "outputs": [],
   "source": []
  },
  {
   "cell_type": "code",
   "execution_count": null,
   "id": "432c38ec-14ac-4a44-9e69-768144733ba7",
   "metadata": {},
   "outputs": [],
   "source": [
    "# 2. 위도, 경도 > 주소 "
   ]
  },
  {
   "cell_type": "code",
   "execution_count": 11,
   "id": "35aea479-291c-469c-b3dd-02bf32232072",
   "metadata": {},
   "outputs": [],
   "source": [
    "REST_API_KEY = 'REST_API_KEY'\n",
    "x = 127.114936252016 # lng\n",
    "y = 37.3587823498654 # lat\n",
    "url = f'https://dapi.kakao.com/v2/local/geo/coord2address.json?x={x}&y={y}&input_coord=WGS84'\n",
    "headers = {'Authorization': 'KakaoAK ' + REST_API_KEY}"
   ]
  },
  {
   "cell_type": "code",
   "execution_count": 12,
   "id": "b270a070-eb31-44ef-9253-8294ae1a84e0",
   "metadata": {},
   "outputs": [
    {
     "data": {
      "text/plain": [
       "<Response [200]>"
      ]
     },
     "execution_count": 12,
     "metadata": {},
     "output_type": "execute_result"
    }
   ],
   "source": [
    "reponse = requests.get(url, headers=headers)\n",
    "response"
   ]
  },
  {
   "cell_type": "code",
   "execution_count": 13,
   "id": "90ea1e50-4cc2-4d76-93a7-4b8b2257b3e3",
   "metadata": {},
   "outputs": [
    {
     "data": {
      "text/plain": [
       "'{\"documents\":[{\"address\":{\"address_name\":\"경기 성남시 분당구 정자동 206\",\"b_code\":\"4113510300\",\"h_code\":\"4113557000\",\"main_address_no\":\"206\",\"mountain_yn\":\"N\",\"region_1depth_name\":\"경기\",\"region_2depth_name\":\"성남시 분당구\",\"region_3depth_h_name\":\"정자3동\",\"region_3depth_name\":\"정자동\",\"sub_address_no\":\"\",\"x\":\"127.114936252'"
      ]
     },
     "execution_count": 13,
     "metadata": {},
     "output_type": "execute_result"
    }
   ],
   "source": [
    "response.text[:300]"
   ]
  },
  {
   "cell_type": "code",
   "execution_count": 14,
   "id": "961ce439-4dd4-4d43-81e2-9fa90cf349d1",
   "metadata": {},
   "outputs": [
    {
     "data": {
      "text/plain": [
       "('경기 성남시 분당구 정자동 206', '경기 성남시 분당구 불정로 90')"
      ]
     },
     "execution_count": 14,
     "metadata": {},
     "output_type": "execute_result"
    }
   ],
   "source": [
    "data = response.json()['documents']\n",
    "addr_name = data[0]['address']['address_name']\n",
    "road_addr_name = data[0]['road_address']['address_name']\n",
    "addr_name, road_addr_name"
   ]
  },
  {
   "cell_type": "code",
   "execution_count": 15,
   "id": "0d453c19-e54d-49d1-b743-6bbadcea814e",
   "metadata": {},
   "outputs": [],
   "source": [
    "def xy_search(x, y):\n",
    "    REST_API_KEY = 'REST_API_KEY'\n",
    "    url = f'https://dapi.kakao.com/v2/local/geo/coord2address.json?x={x}&y={y}&input_coord=WGS84'\n",
    "    headers = {'Authorization': 'KakaoAK ' + REST_API_KEY}\n",
    "    \n",
    "    response = requests.get(url, headers=headers)\n",
    "    data = response.json()['documents'][0]\n",
    "    \n",
    "    addr_name = data['address']['address_name']\n",
    "    road_addr_name = data['road_address']['address_name']\n",
    "    \n",
    "    print(f'지번 주소: {addr_name}\\n도로명 주소: {road_addr_name}')"
   ]
  },
  {
   "cell_type": "code",
   "execution_count": 16,
   "id": "dab25900-6d5c-4ef5-86eb-e5124f47c55b",
   "metadata": {},
   "outputs": [
    {
     "name": "stdout",
     "output_type": "stream",
     "text": [
      "지번 주소: 경기 성남시 분당구 정자동 206\n",
      "도로명 주소: 경기도 성남시 분당구 불정로 90\n"
     ]
    }
   ],
   "source": [
    "x = 127.114936252016 # lng\n",
    "y = 37.3587823498654 # lat\n",
    "xy_search(x,y)"
   ]
  },
  {
   "cell_type": "code",
   "execution_count": null,
   "id": "56c3282a-6edc-4c11-b23c-e7a5c539e171",
   "metadata": {},
   "outputs": [],
   "source": []
  },
  {
   "cell_type": "code",
   "execution_count": 17,
   "id": "c5b8dc53-bf70-4d2c-a9b0-5d388b7e3a5c",
   "metadata": {},
   "outputs": [],
   "source": [
    "# 우리집 주소"
   ]
  },
  {
   "cell_type": "code",
   "execution_count": 18,
   "id": "1cb433ec-11f6-4b36-81b8-09e058a19110",
   "metadata": {},
   "outputs": [
    {
     "name": "stdout",
     "output_type": "stream",
     "text": [
      "위도: 37.3728500250828\n",
      "경도: 126.944923276711\n",
      "우편번호: 15809\n"
     ]
    }
   ],
   "source": [
    "addr_search('엘에스로 143')"
   ]
  },
  {
   "cell_type": "code",
   "execution_count": 19,
   "id": "2159f3f4-970d-42aa-abf2-7fc34bd99594",
   "metadata": {},
   "outputs": [
    {
     "name": "stdout",
     "output_type": "stream",
     "text": [
      "지번 주소: 경기 군포시 금정동 916\n",
      "도로명 주소: 경기도 군포시 엘에스로 143\n"
     ]
    }
   ],
   "source": [
    "x = 126.944923276711\n",
    "y = 37.3728500250828\n",
    "xy_search(x, y)"
   ]
  }
 ],
 "metadata": {
  "kernelspec": {
   "display_name": "Python 3",
   "language": "python",
   "name": "python3"
  },
  "language_info": {
   "codemirror_mode": {
    "name": "ipython",
    "version": 3
   },
   "file_extension": ".py",
   "mimetype": "text/x-python",
   "name": "python",
   "nbconvert_exporter": "python",
   "pygments_lexer": "ipython3",
   "version": "3.8.8"
  }
 },
 "nbformat": 4,
 "nbformat_minor": 5
}
