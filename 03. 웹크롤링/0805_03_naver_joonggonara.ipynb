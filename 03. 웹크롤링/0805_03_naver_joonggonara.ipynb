{
 "cells": [
  {
   "cell_type": "markdown",
   "id": "771f3810-68a4-4b48-a792-57a328b9d527",
   "metadata": {},
   "source": [
    "#### 네이버 중고나라 게시글 데이터 수집\n",
    "- https://cafe.naver.com/joonggonara.cafe\n",
    "- selenium에서 iframe에 있는 데이터 수집"
   ]
  },
  {
   "cell_type": "code",
   "execution_count": 1,
   "id": "aa726772-2863-4249-9449-1f19ef1f31dd",
   "metadata": {},
   "outputs": [],
   "source": [
    "from selenium import webdriver\n",
    "from selenium.webdriver.common.by import By"
   ]
  },
  {
   "cell_type": "code",
   "execution_count": 2,
   "id": "a029747a-28ed-4732-997a-7e661fba9680",
   "metadata": {},
   "outputs": [],
   "source": [
    "url = 'https://cafe.naver.com/joonggonara.cafe'"
   ]
  },
  {
   "cell_type": "code",
   "execution_count": null,
   "id": "9b83c951-8ede-41d0-a4e0-a4c499f7704f",
   "metadata": {},
   "outputs": [],
   "source": [
    "# 1. 웹브라우저 열기 및 페이지 이동"
   ]
  },
  {
   "cell_type": "code",
   "execution_count": 3,
   "id": "cbfb2239-6884-41d8-890b-8239d3ca8ae8",
   "metadata": {},
   "outputs": [],
   "source": [
    "driver = webdriver.Chrome()\n",
    "driver.get(url)"
   ]
  },
  {
   "cell_type": "code",
   "execution_count": null,
   "id": "8ff2bc3a-d271-45e1-b7b2-4507e7ccb293",
   "metadata": {},
   "outputs": [],
   "source": [
    "# 2. 검색창에 \"맥북\"을 입력하고, 검색 버튼 클릭 "
   ]
  },
  {
   "cell_type": "code",
   "execution_count": 4,
   "id": "97a4f99f-5415-4a85-9e32-5aa8eae7fed6",
   "metadata": {},
   "outputs": [],
   "source": [
    "keyword = \"맥북\"\n",
    "driver.find_element(By.CSS_SELECTOR, '#topLayerQueryInput').send_keys(keyword)"
   ]
  },
  {
   "cell_type": "code",
   "execution_count": 5,
   "id": "87dd25e9-4e8f-4355-9912-0dc94bd010a7",
   "metadata": {},
   "outputs": [],
   "source": [
    "# onclick = 클릭\n",
    "driver.execute_script(\"searchBoard();\")"
   ]
  },
  {
   "cell_type": "code",
   "execution_count": null,
   "id": "75d1d4d3-aa95-4c59-87f0-852457c756ee",
   "metadata": {},
   "outputs": [],
   "source": [
    "# 3. 게시글 목록 데이터 수집 (첫페이지만) *** 여기가 중요함 !!!\n",
    "# iframe"
   ]
  },
  {
   "cell_type": "code",
   "execution_count": 6,
   "id": "9c34d101-04e2-4641-83c8-3f7ba7a2c055",
   "metadata": {},
   "outputs": [
    {
     "data": {
      "text/plain": [
       "0"
      ]
     },
     "execution_count": 6,
     "metadata": {},
     "output_type": "execute_result"
    }
   ],
   "source": [
    "selector = \".article-board > table > tbody > tr\"\n",
    "elements = driver.find_elements(By.CSS_SELECTOR, selector)\n",
    "len(elements) \n",
    "# 0 = 출력이 안됨..! why? 게시글 부분이 iframe으로 되어있다.\n",
    "# 페이지 안에 페이지가 있다는 것이다!\n",
    "#  지금 우리는 iframe 밖에 있다. 그러므로 iframe으로 포커스를 이동해줘야함."
   ]
  },
  {
   "cell_type": "code",
   "execution_count": 7,
   "id": "5ce887e1-f86b-45be-a06a-7dc96b0efa4d",
   "metadata": {},
   "outputs": [
    {
     "data": {
      "text/plain": [
       "<selenium.webdriver.remote.webelement.WebElement (session=\"2a388e3e91344f3c782543592774eeb2\", element=\"c5b26ddb-fdc7-4b92-8360-69d3fe112ca2\")>"
      ]
     },
     "execution_count": 7,
     "metadata": {},
     "output_type": "execute_result"
    }
   ],
   "source": [
    "## iframe으로 driver 이동\n",
    "iframe = driver.find_element(By.CSS_SELECTOR,'#cafe_main')\n",
    "# iframe 객체 1개 선택이라 find_element임\n",
    "iframe"
   ]
  },
  {
   "cell_type": "code",
   "execution_count": 8,
   "id": "deab1e9e-4f1c-418d-9df9-e4890d183eb8",
   "metadata": {},
   "outputs": [],
   "source": [
    "driver.switch_to.frame(iframe) # iframe으로 이동"
   ]
  },
  {
   "cell_type": "code",
   "execution_count": 10,
   "id": "decaf8de-1547-479b-a7af-14da970ef19e",
   "metadata": {},
   "outputs": [
    {
     "data": {
      "text/plain": [
       "15"
      ]
     },
     "execution_count": 10,
     "metadata": {},
     "output_type": "execute_result"
    }
   ],
   "source": [
    "selector = \".article-board > table > tbody > tr\"\n",
    "elements = driver.find_elements(By.CSS_SELECTOR, selector)\n",
    "len(elements)"
   ]
  },
  {
   "cell_type": "code",
   "execution_count": null,
   "id": "1513b342-2159-425b-9c16-32ee1b6907ec",
   "metadata": {},
   "outputs": [],
   "source": [
    "# 원래 default frame으로 이동하기\n",
    "# driver.switch_to.default_content()"
   ]
  },
  {
   "cell_type": "code",
   "execution_count": 16,
   "id": "13bec36a-4e53-49b7-88b9-a0b41e299499",
   "metadata": {},
   "outputs": [
    {
     "data": {
      "text/plain": [
       "'14인치 M1PRO M1MAX 엠원프로 엠원맥스 맥북프로 애플노트북'"
      ]
     },
     "execution_count": 16,
     "metadata": {},
     "output_type": "execute_result"
    }
   ],
   "source": [
    "element = elements[0]\n",
    "title = element.find_element(By.CSS_SELECTOR,'.article').text\n",
    "title"
   ]
  },
  {
   "cell_type": "code",
   "execution_count": 17,
   "id": "a71272fb-7ced-4955-959e-c959bd4340dc",
   "metadata": {},
   "outputs": [
    {
     "data": {
      "text/plain": [
       "'topontopcom'"
      ]
     },
     "execution_count": 17,
     "metadata": {},
     "output_type": "execute_result"
    }
   ],
   "source": [
    "writer = element.find_element(By.CSS_SELECTOR,'.p-nick').text\n",
    "writer"
   ]
  },
  {
   "cell_type": "code",
   "execution_count": 18,
   "id": "a6d539ef-7304-4f69-be13-8ea24f48306b",
   "metadata": {},
   "outputs": [
    {
     "data": {
      "text/html": [
       "<div>\n",
       "<style scoped>\n",
       "    .dataframe tbody tr th:only-of-type {\n",
       "        vertical-align: middle;\n",
       "    }\n",
       "\n",
       "    .dataframe tbody tr th {\n",
       "        vertical-align: top;\n",
       "    }\n",
       "\n",
       "    .dataframe thead th {\n",
       "        text-align: right;\n",
       "    }\n",
       "</style>\n",
       "<table border=\"1\" class=\"dataframe\">\n",
       "  <thead>\n",
       "    <tr style=\"text-align: right;\">\n",
       "      <th></th>\n",
       "      <th>title</th>\n",
       "      <th>writer</th>\n",
       "    </tr>\n",
       "  </thead>\n",
       "  <tbody>\n",
       "    <tr>\n",
       "      <th>13</th>\n",
       "      <td>2021 M1 맥북프로 16인치 스페이스그레이</td>\n",
       "      <td>흐루두두</td>\n",
       "    </tr>\n",
       "    <tr>\n",
       "      <th>14</th>\n",
       "      <td>맥북에어m1 16g 512 스페이스그레이+매직마우스2+파우치+거치대+독+허브 증정</td>\n",
       "      <td>lyc891010</td>\n",
       "    </tr>\n",
       "  </tbody>\n",
       "</table>\n",
       "</div>"
      ],
      "text/plain": [
       "                                            title     writer\n",
       "13                      2021 M1 맥북프로 16인치 스페이스그레이       흐루두두\n",
       "14  맥북에어m1 16g 512 스페이스그레이+매직마우스2+파우치+거치대+독+허브 증정  lyc891010"
      ]
     },
     "execution_count": 18,
     "metadata": {},
     "output_type": "execute_result"
    }
   ],
   "source": [
    "data = []\n",
    "for element in elements:\n",
    "    data.append({\n",
    "        'title': element.find_element(By.CSS_SELECTOR,'.article').text,\n",
    "        'writer': element.find_element(By.CSS_SELECTOR,'.p-nick').text,\n",
    "    })\n",
    "df = pd.DataFrame(data)\n",
    "df.tail(2)"
   ]
  },
  {
   "cell_type": "code",
   "execution_count": null,
   "id": "143cc965-cc3b-4d60-8506-c7930607a97b",
   "metadata": {},
   "outputs": [],
   "source": [
    "# 4. 웹브라우저 종료 "
   ]
  },
  {
   "cell_type": "code",
   "execution_count": 19,
   "id": "f0ed6c55-cc69-4583-91af-bdc5bd5574c1",
   "metadata": {},
   "outputs": [],
   "source": [
    "driver.quit()"
   ]
  },
  {
   "cell_type": "code",
   "execution_count": null,
   "id": "7340fe29-ba29-4ae2-b9b5-ccc91e784839",
   "metadata": {},
   "outputs": [],
   "source": []
  },
  {
   "cell_type": "code",
   "execution_count": null,
   "id": "c14a1318-e64b-475d-8df3-01eb7abbd134",
   "metadata": {},
   "outputs": [],
   "source": [
    "# 한 셀에서 다 실행하면 오류 날 수 있음\n",
    "# 왜냐면 렌더링하는 시간이 걸리기 때문에!\n",
    "# 그래서 url 불러오는 사이에 time.sleep(3) 이런 거 넣어서 3초를 기다리게 한다\n",
    "\n",
    "# 화면에 안보이는 걸 클릭하려고 하면 에러가 날 수 있다 => 스크롤 이동해서 클릭한다 "
   ]
  },
  {
   "cell_type": "code",
   "execution_count": 20,
   "id": "721f04c8-3b8f-4cf5-9b57-68bf0bb4f77e",
   "metadata": {},
   "outputs": [],
   "source": [
    "import time"
   ]
  },
  {
   "cell_type": "code",
   "execution_count": 21,
   "id": "7473ded3-2b84-4634-83a5-a9372bbce4d4",
   "metadata": {},
   "outputs": [
    {
     "name": "stdout",
     "output_type": "stream",
     "text": [
      "1\n",
      "2\n"
     ]
    }
   ],
   "source": [
    "# 예시 \n",
    "print(1)\n",
    "time.sleep(3)\n",
    "print(2)"
   ]
  },
  {
   "cell_type": "code",
   "execution_count": null,
   "id": "3fc98393-c7c1-4df9-b9e6-1aeb32576fac",
   "metadata": {},
   "outputs": [],
   "source": [
    "# 정리 \n",
    "url = 'https://cafe.naver.com/joonggonara.cafe'\n",
    "\n",
    "driver = webdriver.Chrome()\n",
    "driver.get(url)\n",
    "time.sleep(3)\n",
    "\n",
    "keyword = \"맥북\"\n",
    "driver.find_element(By.CSS_SELECTOR, '#topLayerQueryInput').send_keys(keyword)\n",
    "\n",
    "driver.execute_script(\"searchBoard();\")\n",
    "\n",
    "iframe = driver.find_element(By.CSS_SELECTOR,'#cafe_main')\n",
    "driver.switch_to.frame(iframe)\n",
    "selector = \".article-board > table > tbody > tr\"\n",
    "elements = driver.find_elements(By.CSS_SELECTOR, selector)\n",
    "\n",
    "data = []\n",
    "for element in elements:\n",
    "    data.append({\n",
    "        'title': element.find_element(By.CSS_SELECTOR,'.article').text,\n",
    "        'writer': element.find_element(By.CSS_SELECTOR,'.p-nick').text,\n",
    "    })\n",
    "df = pd.DataFrame(data)\n",
    "df.tail(2)\n",
    "\n",
    "driver.quit()"
   ]
  }
 ],
 "metadata": {
  "kernelspec": {
   "display_name": "Python 3",
   "language": "python",
   "name": "python3"
  },
  "language_info": {
   "codemirror_mode": {
    "name": "ipython",
    "version": 3
   },
   "file_extension": ".py",
   "mimetype": "text/x-python",
   "name": "python",
   "nbconvert_exporter": "python",
   "pygments_lexer": "ipython3",
   "version": "3.8.8"
  }
 },
 "nbformat": 4,
 "nbformat_minor": 5
}
