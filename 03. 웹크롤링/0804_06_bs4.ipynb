{
 "cells": [
  {
   "cell_type": "markdown",
   "id": "5f02d622-fc4b-42dd-af37-d2aefec98152",
   "metadata": {},
   "source": [
    "### 정적 페이지 데이터 수집\n",
    "- 네이버 연관 검색어 수집\n",
    "- bs7 : BeautifulSoup : HTML(str) > CSS Selector 이용하여 element를 선택\n",
    "- HTML(str)은 list, dict으로 만들기 어렵다. 그러므로 BeautifulSoup 객체로 만든다"
   ]
  },
  {
   "cell_type": "code",
   "execution_count": 1,
   "id": "93805818-539a-4923-81e7-898331cede6e",
   "metadata": {},
   "outputs": [],
   "source": [
    "import pandas as pd\n",
    "import requests\n",
    "from bs4 import BeautifulSoup"
   ]
  },
  {
   "cell_type": "code",
   "execution_count": null,
   "id": "6a6fbc44-1a03-4339-b06c-871613d46aae",
   "metadata": {},
   "outputs": [],
   "source": [
    "# 1. 웹서비스 분석 : URL"
   ]
  },
  {
   "cell_type": "code",
   "execution_count": 2,
   "id": "fcf10a4a-b454-44ce-be81-9b3131bab817",
   "metadata": {},
   "outputs": [
    {
     "data": {
      "text/plain": [
       "'https://search.naver.com/search.naver?query=kt'"
      ]
     },
     "execution_count": 2,
     "metadata": {},
     "output_type": "execute_result"
    }
   ],
   "source": [
    "keyword = 'kt'\n",
    "url = f'https://search.naver.com/search.naver?query={keyword}' \n",
    "# 링크 중간에 좀 지워도 잘들어가지면 지워도 됨\n",
    "url"
   ]
  },
  {
   "cell_type": "code",
   "execution_count": null,
   "id": "b984cfb7-1a67-49e8-b582-866a4b319b0b",
   "metadata": {},
   "outputs": [],
   "source": [
    "# 2. request(url) > response(html) : HTML(str)"
   ]
  },
  {
   "cell_type": "code",
   "execution_count": 3,
   "id": "2c867afc-a00f-447f-9037-521d8f68e787",
   "metadata": {},
   "outputs": [
    {
     "data": {
      "text/plain": [
       "<Response [200]>"
      ]
     },
     "execution_count": 3,
     "metadata": {},
     "output_type": "execute_result"
    }
   ],
   "source": [
    "response = requests.get(url)\n",
    "response"
   ]
  },
  {
   "cell_type": "code",
   "execution_count": 4,
   "id": "7ed3b207-89e2-4539-be4f-c0985ce97197",
   "metadata": {},
   "outputs": [
    {
     "data": {
      "text/plain": [
       "'<!doctype html> <html lang=\"ko\"> <head> <meta charset=\"utf-8\"> <meta name=\"referrer\" content=\"always\">  <meta name=\"format-detection\" content=\"telephone=no,address=no,email=no\"> <meta name=\"viewport\" content=\"width=device-width,initial-scale=1.0,maximum-scale=2.0\"> <meta property=\"og:title\" content=\"kt : 네이버 통합검색\"/> <meta property=\"og:image\" content=\"https://ssl.pstatic.net/sstatic/search/common/og_v3.png\"> <meta property=\"og:description\" content=\"\\'kt\\'의 네이버 통합검색 결과입니다.\"> <meta name=\"description\"'"
      ]
     },
     "execution_count": 4,
     "metadata": {},
     "output_type": "execute_result"
    }
   ],
   "source": [
    "response.text[:500] # html 포맷의 데이터"
   ]
  },
  {
   "cell_type": "code",
   "execution_count": null,
   "id": "7732d44d-e266-4714-aaa5-2ba33f68e1d5",
   "metadata": {},
   "outputs": [],
   "source": [
    "# 3. HTML(str) > BeautifulSoup Object > BS(CSS Selector) > Data"
   ]
  },
  {
   "cell_type": "code",
   "execution_count": 6,
   "id": "146e06a5-10aa-4a1e-97fc-4cd45664006f",
   "metadata": {},
   "outputs": [
    {
     "data": {
      "text/plain": [
       "bs4.BeautifulSoup"
      ]
     },
     "execution_count": 6,
     "metadata": {},
     "output_type": "execute_result"
    }
   ],
   "source": [
    "dom = BeautifulSoup(response.text, 'html.parser')\n",
    "type(dom) # BeautifulSoup 객체"
   ]
  },
  {
   "cell_type": "code",
   "execution_count": 8,
   "id": "55a54acd-8b9d-4b40-b53c-296fcf1943b1",
   "metadata": {},
   "outputs": [
    {
     "data": {
      "text/plain": [
       "10"
      ]
     },
     "execution_count": 8,
     "metadata": {},
     "output_type": "execute_result"
    }
   ],
   "source": [
    "# BeautifulSoup 객체에서 자주 사용하는 함수\n",
    "# select : element 여러 개 선택\n",
    "# select_one() : element 한 개 선택 \n",
    "\n",
    "# 연관 검색어 다\n",
    "elements = dom.select(\".lst_related_srch > .item\") # lst_related_srch 클래스 안에 item 클래스 선택 \n",
    "len(elements)"
   ]
  },
  {
   "cell_type": "code",
   "execution_count": 9,
   "id": "5f3e3b99-b862-42c6-ac59-fd207ed758b4",
   "metadata": {},
   "outputs": [
    {
     "data": {
      "text/plain": [
       "<li class=\"item\"> <a class=\"keyword\" href=\"?where=nexearch&amp;query=%EC%82%BC%EC%84%B1%EC%A0%84%EC%9E%90&amp;ie=utf8&amp;sm=tab_she&amp;qdt=0\" onclick=\"return goOtherCR(this, 'a=rsk_btm*q.list1&amp;r=1&amp;u=' + urlencode(this.href))\"> <div class=\"tit\">삼성전자</div> </a> </li>"
      ]
     },
     "execution_count": 9,
     "metadata": {},
     "output_type": "execute_result"
    }
   ],
   "source": [
    "elements[0] # 우리가 필요한 건 <div class=\"tit\">삼성전자</div>"
   ]
  },
  {
   "cell_type": "code",
   "execution_count": 14,
   "id": "85be60b0-7c82-426e-9e0c-353095c95f17",
   "metadata": {},
   "outputs": [
    {
     "name": "stdout",
     "output_type": "stream",
     "text": [
      "['삼성전자', 'kt 고객센터', 'kt 인터넷', 'ky', '환율', 'kr', '날씨', 'kt 대리점', 'SKT', 'kt 고객센터 전화번호']\n"
     ]
    }
   ],
   "source": [
    "keywords = []\n",
    "for element in elements:\n",
    "    keyword = element.select_one('.tit').text # 클래스가 tit인 element 하나 선택\n",
    "    keywords.append(keyword)\n",
    "    \n",
    "print(keywords)"
   ]
  },
  {
   "cell_type": "code",
   "execution_count": 16,
   "id": "bd633cb6-dd59-4a62-b21a-0b553dc60d5b",
   "metadata": {},
   "outputs": [
    {
     "name": "stdout",
     "output_type": "stream",
     "text": [
      "['삼성전자', 'kt 고객센터', 'kt 인터넷', 'ky', '환율', 'kr', '날씨', 'kt 대리점', 'SKT', 'kt 고객센터 전화번호']\n"
     ]
    }
   ],
   "source": [
    "# for문 한줄로...\n",
    "keywords = [element.select_one('.tit').text for element in elements]\n",
    "print(keywords)"
   ]
  }
 ],
 "metadata": {
  "kernelspec": {
   "display_name": "Python 3",
   "language": "python",
   "name": "python3"
  },
  "language_info": {
   "codemirror_mode": {
    "name": "ipython",
    "version": 3
   },
   "file_extension": ".py",
   "mimetype": "text/x-python",
   "name": "python",
   "nbconvert_exporter": "python",
   "pygments_lexer": "ipython3",
   "version": "3.8.8"
  }
 },
 "nbformat": 4,
 "nbformat_minor": 5
}
