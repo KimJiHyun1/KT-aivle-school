{
 "cells": [
  {
   "cell_type": "markdown",
   "id": "78cbbc7c-8af5-4328-b93e-705ab524f276",
   "metadata": {},
   "source": [
    "### selenium\n",
    "- 브라우저의 자동화 목적으로 만들어진 다양한 브라우저와 언어를 지원하는 라이브러리\n",
    "- 브라우저를 파이썬 코드로 컨트롤 해서 브라우저에 있는 데이터 수집 "
   ]
  },
  {
   "cell_type": "markdown",
   "id": "9328e382-0425-4740-bc91-f6296a635344",
   "metadata": {},
   "source": [
    "### 크롤링 방법\n",
    "- 1. requests : JSON : 웹페이지의 API 트래픽을 분석해서 데이터 수집 : naver stock\n",
    "- 2.  requests : JSON : 공식 API를 application key를 받아서 데이터 수집 : naver api(papago, trend)\n",
    "- 3. requests : HTML, BeautifulSoup(css-selector) : 웹페이지의 html 코드 받아서 데이터 수집 : gmarket\n",
    "- 4. selenium : browser - python : 브라우저를 파이썬 코드로 컨트롤 해서 데이터 수집 : ted\n",
    "- 크롤링할 때 좋은 순서 : 2 > 1 > 3 > 4"
   ]
  },
  {
   "cell_type": "markdown",
   "id": "f720c0ab-916c-4363-8530-5db3d5a532e5",
   "metadata": {},
   "source": [
    "#### 환경설정\n",
    "- 크롬 브라우저 설치\n",
    "- 크롬 브라우저 드라이버 다운로드 : 크롬 브라우저와 같은 버전 : 크롬 브라우저 - 파이썬 코드 연결\n",
    "- selenium 패키지 설치 \n",
    "- opt. : 크롬 브라우저의 드라이버 파일을 환경변수로 등록하면 좀 더 쉽게 selenium 사용 가능 "
   ]
  },
  {
   "cell_type": "code",
   "execution_count": 27,
   "id": "2aa2e17f-1684-425f-819d-bd86a24303ab",
   "metadata": {},
   "outputs": [],
   "source": [
    "from selenium import webdriver\n",
    "from selenium.webdriver.common.by import By"
   ]
  },
  {
   "cell_type": "code",
   "execution_count": 28,
   "id": "abfb1a7f-d067-4279-a694-9ef56c949bab",
   "metadata": {},
   "outputs": [],
   "source": [
    "# 1. 브라우저 띄우기\n",
    "driver = webdriver.Chrome()"
   ]
  },
  {
   "cell_type": "code",
   "execution_count": 29,
   "id": "0c2ec08f-093d-4fe6-a2aa-553f877af393",
   "metadata": {},
   "outputs": [],
   "source": [
    "# 2. 페이지 이동 \n",
    "driver.get('https://daum.net')"
   ]
  },
  {
   "cell_type": "code",
   "execution_count": 30,
   "id": "dae58375-0627-4461-81f3-d9a7da7e839a",
   "metadata": {},
   "outputs": [],
   "source": [
    "# 3. 브라우저 사이즈 조절 \n",
    "driver.set_window_size(200, 600)"
   ]
  },
  {
   "cell_type": "code",
   "execution_count": 31,
   "id": "931566c0-07c7-4f52-96ee-9a6645a05597",
   "metadata": {},
   "outputs": [],
   "source": [
    "# 4. 브라우저 스크롤 조절 (javascript 코드 실행)\n",
    "driver.execute_script('window.scrollTo(200,300);')"
   ]
  },
  {
   "cell_type": "code",
   "execution_count": 32,
   "id": "628a7373-e783-45d2-986e-1124e53475d6",
   "metadata": {},
   "outputs": [],
   "source": [
    "# 5. alert 다루기\n",
    "driver.execute_script(\"alert('hello selenium!');\")"
   ]
  },
  {
   "cell_type": "code",
   "execution_count": 33,
   "id": "ae3bb157-94a3-4597-bbc2-f45761132ff5",
   "metadata": {},
   "outputs": [],
   "source": [
    "alert = driver.switch_to.alert\n",
    "alert.accept()"
   ]
  },
  {
   "cell_type": "code",
   "execution_count": 34,
   "id": "67b5e54d-a612-4b89-b853-81ff693c52d6",
   "metadata": {},
   "outputs": [],
   "source": [
    "driver.execute_script('window.scrollTo(0,0);')"
   ]
  },
  {
   "cell_type": "code",
   "execution_count": 35,
   "id": "69a76886-2cf5-40eb-b341-e2d93916dce1",
   "metadata": {},
   "outputs": [],
   "source": [
    "# 6. input 창에 문자열 입력 \n",
    "# driver.find_element(By.CSS_SELECTOR, \"#q\") # 검색창 선택\n",
    "driver.find_element(By.CSS_SELECTOR, \"#q\").send_keys(\"파이썬\") # 문자열 입력"
   ]
  },
  {
   "cell_type": "code",
   "execution_count": 37,
   "id": "6aa4141a-0efb-4658-afc4-67d823d89778",
   "metadata": {},
   "outputs": [],
   "source": [
    "# 7. 검색 버튼 클릭 \n",
    "#driver.find_element(By.CSS_SELECTOR, \".ico_pctop.btn_search\") # .ico_pctop.btn_search 이거만 쓰면 다른 데 또 저게 있는지 실행이 안됨\n",
    "driver.find_element(By.CSS_SELECTOR, \".inner_search > .ico_pctop.btn_search\").click()"
   ]
  },
  {
   "cell_type": "code",
   "execution_count": 38,
   "id": "4c5c4b81-5aa6-4b69-8b73-ae98f132ecb5",
   "metadata": {},
   "outputs": [],
   "source": [
    "# 8. 브라우저 종료\n",
    "driver.quit()"
   ]
  },
  {
   "cell_type": "code",
   "execution_count": 39,
   "id": "09398f8b-0fd8-467c-9e3e-869ce8aa5fb8",
   "metadata": {},
   "outputs": [],
   "source": [
    "# 브라우저 자동화\n",
    "driver = webdriver.Chrome()\n",
    "driver.get('https://daum.net')\n",
    "driver.set_window_size(200, 600)\n",
    "driver.execute_script('window.scrollTo(200,300);')\n",
    "driver.execute_script(\"alert('hello selenium!');\")\n",
    "alert = driver.switch_to.alert\n",
    "alert.accept()\n",
    "driver.execute_script('window.scrollTo(0,0);')\n",
    "driver.find_element(By.CSS_SELECTOR, \"#q\").send_keys(\"파이썬\")\n",
    "driver.find_element(By.CSS_SELECTOR, \".inner_search > .ico_pctop.btn_search\").click()\n",
    "driver.quit()"
   ]
  },
  {
   "cell_type": "code",
   "execution_count": null,
   "id": "40f1b65d-6f47-449f-9916-4ab69f1e308f",
   "metadata": {},
   "outputs": [],
   "source": []
  },
  {
   "cell_type": "code",
   "execution_count": null,
   "id": "d3df3c94-22fc-4f8a-b7b9-b12a54bfca41",
   "metadata": {},
   "outputs": [],
   "source": [
    "# 간단하게 머신러닝 사용 "
   ]
  },
  {
   "cell_type": "code",
   "execution_count": 40,
   "id": "4ca7cb4d-05be-41c6-9c8d-4d9c5a20242a",
   "metadata": {},
   "outputs": [
    {
     "name": "stdout",
     "output_type": "stream",
     "text": [
      " C 드라이브의 볼륨에는 이름이 없습니다.\n",
      " 볼륨 일련 번호: 7C6C-FC35\n",
      "\n",
      " C:\\Users\\User\\Downloads\\AIVLE SCHOOL\\웹크롤링\\day3 디렉터리\n",
      "\n",
      "2022-08-05  오후 12:04               477 premierleague.csv\n",
      "               1개 파일                 477 바이트\n",
      "               0개 디렉터리  133,875,924,992 바이트 남음\n"
     ]
    }
   ],
   "source": [
    "%ls premierleague.csv"
   ]
  },
  {
   "cell_type": "code",
   "execution_count": 49,
   "id": "2f96cbb1-1481-4625-89b9-57bdb53bb5c0",
   "metadata": {},
   "outputs": [
    {
     "data": {
      "text/html": [
       "<div>\n",
       "<style scoped>\n",
       "    .dataframe tbody tr th:only-of-type {\n",
       "        vertical-align: middle;\n",
       "    }\n",
       "\n",
       "    .dataframe tbody tr th {\n",
       "        vertical-align: top;\n",
       "    }\n",
       "\n",
       "    .dataframe thead th {\n",
       "        text-align: right;\n",
       "    }\n",
       "</style>\n",
       "<table border=\"1\" class=\"dataframe\">\n",
       "  <thead>\n",
       "    <tr style=\"text-align: right;\">\n",
       "      <th></th>\n",
       "      <th>name</th>\n",
       "      <th>gf</th>\n",
       "      <th>ga</th>\n",
       "      <th>points</th>\n",
       "    </tr>\n",
       "  </thead>\n",
       "  <tbody>\n",
       "    <tr>\n",
       "      <th>0</th>\n",
       "      <td>Manchester City</td>\n",
       "      <td>106</td>\n",
       "      <td>27</td>\n",
       "      <td>100</td>\n",
       "    </tr>\n",
       "    <tr>\n",
       "      <th>1</th>\n",
       "      <td>Manchester United</td>\n",
       "      <td>68</td>\n",
       "      <td>28</td>\n",
       "      <td>81</td>\n",
       "    </tr>\n",
       "    <tr>\n",
       "      <th>2</th>\n",
       "      <td>Tottenham Hotspur</td>\n",
       "      <td>74</td>\n",
       "      <td>36</td>\n",
       "      <td>77</td>\n",
       "    </tr>\n",
       "    <tr>\n",
       "      <th>3</th>\n",
       "      <td>Liverpool</td>\n",
       "      <td>84</td>\n",
       "      <td>38</td>\n",
       "      <td>75</td>\n",
       "    </tr>\n",
       "    <tr>\n",
       "      <th>4</th>\n",
       "      <td>Chelsea</td>\n",
       "      <td>62</td>\n",
       "      <td>38</td>\n",
       "      <td>70</td>\n",
       "    </tr>\n",
       "  </tbody>\n",
       "</table>\n",
       "</div>"
      ],
      "text/plain": [
       "                name   gf  ga  points\n",
       "0    Manchester City  106  27     100\n",
       "1  Manchester United   68  28      81\n",
       "2  Tottenham Hotspur   74  36      77\n",
       "3          Liverpool   84  38      75\n",
       "4            Chelsea   62  38      70"
      ]
     },
     "execution_count": 49,
     "metadata": {},
     "output_type": "execute_result"
    }
   ],
   "source": [
    "df = pd.read_csv('premierleague.csv')\n",
    "df.head(5) # 이름, 득점, 실점, 승점 "
   ]
  },
  {
   "cell_type": "code",
   "execution_count": null,
   "id": "1e1879b9-ec3e-4f95-8172-1ca9c3ee282e",
   "metadata": {},
   "outputs": [],
   "source": [
    "# 득점, 실점을 입력하면 승점을 입력하는 인공지능 만들기 "
   ]
  },
  {
   "cell_type": "code",
   "execution_count": 42,
   "id": "9a46029d-e942-4816-8b02-1aba1453c9c0",
   "metadata": {},
   "outputs": [],
   "source": [
    "feature = df[['gf', 'ga']]\n",
    "target = df['points']"
   ]
  },
  {
   "cell_type": "code",
   "execution_count": 44,
   "id": "8f9af554-188d-49bd-9e21-547e4e959493",
   "metadata": {},
   "outputs": [],
   "source": [
    "from sklearn.linear_model import LinearRegression # 회귀\n",
    "model = LinearRegression().fit(feature, target)"
   ]
  },
  {
   "cell_type": "code",
   "execution_count": 48,
   "id": "319b2ce5-46ac-4b2f-abe0-d0c3462ea0dd",
   "metadata": {},
   "outputs": [
    {
     "data": {
      "text/plain": [
       "array([79.])"
      ]
     },
     "execution_count": 48,
     "metadata": {},
     "output_type": "execute_result"
    }
   ],
   "source": [
    "# 데이터 예측 : 득점 80, 실점 36\n",
    "np.round(model.predict([[80, 36]]))\n",
    "# 득점이 80이고 실점이 36이면 승점이 79 => 득80 실 36이더라도 맨유(81) 못이김"
   ]
  },
  {
   "cell_type": "code",
   "execution_count": 50,
   "id": "dd17bfb7-73fd-4aae-9db5-2551da669b92",
   "metadata": {},
   "outputs": [],
   "source": [
    "## warning message 안뜨게 하기\n",
    "import warnings\n",
    "warnings.filterwarnings('ignore')"
   ]
  },
  {
   "cell_type": "code",
   "execution_count": null,
   "id": "812360c6-d765-494a-bed6-16922c217c32",
   "metadata": {},
   "outputs": [],
   "source": [
    "# data를 train하는데 8시간 걸림 > model은 ram(메모리)에 저장 > coumputer off => model 날아감!\n",
    "# 그래서 model > ssd나 hdd에 저장해서 사용"
   ]
  },
  {
   "cell_type": "code",
   "execution_count": 52,
   "id": "41ee852f-4909-41ca-bd05-0521da749d64",
   "metadata": {},
   "outputs": [],
   "source": [
    "import pickle"
   ]
  },
  {
   "cell_type": "code",
   "execution_count": 57,
   "id": "920591b0-7e6b-4d17-b79a-2829ff390dee",
   "metadata": {},
   "outputs": [],
   "source": [
    "# ram > ssd\n",
    "with open(\"model.pkl\", \"wb\") as file:\n",
    "    pickle.dump(model, file)"
   ]
  },
  {
   "cell_type": "code",
   "execution_count": 58,
   "id": "b0c86dc3-5c38-45fc-8d9c-7a86cdbd8459",
   "metadata": {},
   "outputs": [],
   "source": [
    "# ssd > ram\n",
    "with open(\"model.pkl\", \"rb\") as file:\n",
    "    load_model = pickle.load(file)"
   ]
  },
  {
   "cell_type": "code",
   "execution_count": null,
   "id": "c445cb24-a8ec-4b30-9f29-aaf1d61b3b42",
   "metadata": {},
   "outputs": [],
   "source": []
  },
  {
   "cell_type": "markdown",
   "id": "0875346c-dc70-4a56-8710-77caa8729c76",
   "metadata": {},
   "source": [
    "#### 텍스트 데이터 수집\n",
    "- TED 사이터 : https://ted.com/talks"
   ]
  },
  {
   "cell_type": "code",
   "execution_count": null,
   "id": "bdaaf025-b58e-4659-8afa-de80e3744c20",
   "metadata": {},
   "outputs": [],
   "source": [
    "# 1. 브라우저 열기"
   ]
  },
  {
   "cell_type": "code",
   "execution_count": 64,
   "id": "f3737196-9b18-410f-bca0-40a806ec020d",
   "metadata": {},
   "outputs": [],
   "source": [
    "driver = webdriver.Chrome()"
   ]
  },
  {
   "cell_type": "code",
   "execution_count": null,
   "id": "37a75253-6d02-468d-9dfd-7ab1047c9cd5",
   "metadata": {},
   "outputs": [],
   "source": [
    "# 2. 페이지 이동"
   ]
  },
  {
   "cell_type": "code",
   "execution_count": 65,
   "id": "b40f493e-9197-49f0-9ddd-929d423992d4",
   "metadata": {},
   "outputs": [],
   "source": [
    "driver.get(\"https://ted.com/talks\")"
   ]
  },
  {
   "cell_type": "code",
   "execution_count": null,
   "id": "cb96a279-6f31-477b-a63d-fa8edf4a1dc3",
   "metadata": {},
   "outputs": [],
   "source": [
    "# 3. 제목 데이터 텍스트 수집"
   ]
  },
  {
   "cell_type": "code",
   "execution_count": 66,
   "id": "a8971f72-c7ab-456f-b2a2-95a1b94059f2",
   "metadata": {},
   "outputs": [
    {
     "data": {
      "text/plain": [
       "'Join TED Recommends to get the best ideas, selected just for you'"
      ]
     },
     "execution_count": 66,
     "metadata": {},
     "output_type": "execute_result"
    }
   ],
   "source": [
    "sub_title = driver.find_element(By.CSS_SELECTOR,\"#banner-secondary\").text\n",
    "sub_title"
   ]
  },
  {
   "cell_type": "code",
   "execution_count": null,
   "id": "1c37a357-cc21-4e8b-8ae8-4408bba5d569",
   "metadata": {},
   "outputs": [],
   "source": [
    "# 4. select box에서 한국어 메뉴 클릭"
   ]
  },
  {
   "cell_type": "code",
   "execution_count": 68,
   "id": "5ed634fc-979b-4ec1-bc3c-90fc750a6eec",
   "metadata": {},
   "outputs": [],
   "source": [
    "driver.find_element(By.CSS_SELECTOR,\"#languages [lang='ko']\").click()"
   ]
  },
  {
   "cell_type": "code",
   "execution_count": 69,
   "id": "6b795c4a-f865-41ee-9183-34317bad3960",
   "metadata": {},
   "outputs": [
    {
     "data": {
      "text/plain": [
       "36"
      ]
     },
     "execution_count": 69,
     "metadata": {},
     "output_type": "execute_result"
    }
   ],
   "source": [
    "# 5. 전제 데이터의 제목과 링크 데이터 수집 (find_element = select_one , find_elements = select)\n",
    "elements = driver.find_elements(By.CSS_SELECTOR, \"#browse-results > .row > div\")\n",
    "len(elements) # 36개 = 잘 선택됐다!"
   ]
  },
  {
   "cell_type": "code",
   "execution_count": 72,
   "id": "ed70354f-0344-45ce-9ea6-a3caa747a4a5",
   "metadata": {},
   "outputs": [
    {
     "data": {
      "text/plain": [
       "'5:04'"
      ]
     },
     "execution_count": 72,
     "metadata": {},
     "output_type": "execute_result"
    }
   ],
   "source": [
    "element = elements[0]\n",
    "element.find_element(By.CSS_SELECTOR, \".ga-link\").text\n",
    "# 제대로 안나옴 why? ga-link를 가진 게 많아서!"
   ]
  },
  {
   "cell_type": "code",
   "execution_count": 73,
   "id": "05215a45-abed-402f-aa1c-2c6c44b1a519",
   "metadata": {},
   "outputs": [
    {
     "data": {
      "text/plain": [
       "'스페인어의 역사 - 일란 스타반스(Ilan Stavans)'"
      ]
     },
     "execution_count": 73,
     "metadata": {},
     "output_type": "execute_result"
    }
   ],
   "source": [
    "title = element.find_element(By.CSS_SELECTOR, \"h4 > .ga-link\").text\n",
    "title"
   ]
  },
  {
   "cell_type": "code",
   "execution_count": 74,
   "id": "1e2c5b8f-1639-496d-a69d-785d532a2617",
   "metadata": {},
   "outputs": [
    {
     "data": {
      "text/plain": [
       "'https://www.ted.com/talks/ilan_stavans_a_brief_history_of_spanish?language=ko'"
      ]
     },
     "execution_count": 74,
     "metadata": {},
     "output_type": "execute_result"
    }
   ],
   "source": [
    "link = element.find_element(By.CSS_SELECTOR, \"h4 > .ga-link\").get_attribute(\"href\")\n",
    "link"
   ]
  },
  {
   "cell_type": "code",
   "execution_count": null,
   "id": "3e134b84-0a0a-404b-afa0-938a2fb4d943",
   "metadata": {},
   "outputs": [],
   "source": [
    "# 6. DataFrame으로 만들기 "
   ]
  },
  {
   "cell_type": "code",
   "execution_count": 75,
   "id": "ea9c1c5c-6ea7-4b8d-bf90-cf6b2ded8b3d",
   "metadata": {},
   "outputs": [
    {
     "data": {
      "text/html": [
       "<div>\n",
       "<style scoped>\n",
       "    .dataframe tbody tr th:only-of-type {\n",
       "        vertical-align: middle;\n",
       "    }\n",
       "\n",
       "    .dataframe tbody tr th {\n",
       "        vertical-align: top;\n",
       "    }\n",
       "\n",
       "    .dataframe thead th {\n",
       "        text-align: right;\n",
       "    }\n",
       "</style>\n",
       "<table border=\"1\" class=\"dataframe\">\n",
       "  <thead>\n",
       "    <tr style=\"text-align: right;\">\n",
       "      <th></th>\n",
       "      <th>title</th>\n",
       "      <th>link</th>\n",
       "    </tr>\n",
       "  </thead>\n",
       "  <tbody>\n",
       "    <tr>\n",
       "      <th>34</th>\n",
       "      <td>두려움을 극복하기 위한 올림픽 챔피언의 사고방식</td>\n",
       "      <td>https://www.ted.com/talks/allyson_felix_an_oly...</td>\n",
       "    </tr>\n",
       "    <tr>\n",
       "      <th>35</th>\n",
       "      <td>바퀴벌레를 없애는 것은 왜 이렇게 어려울까요? - 아메야 곤달레카르</td>\n",
       "      <td>https://www.ted.com/talks/ameya_gondhalekar_wh...</td>\n",
       "    </tr>\n",
       "  </tbody>\n",
       "</table>\n",
       "</div>"
      ],
      "text/plain": [
       "                                    title  \\\n",
       "34             두려움을 극복하기 위한 올림픽 챔피언의 사고방식   \n",
       "35  바퀴벌레를 없애는 것은 왜 이렇게 어려울까요? - 아메야 곤달레카르   \n",
       "\n",
       "                                                 link  \n",
       "34  https://www.ted.com/talks/allyson_felix_an_oly...  \n",
       "35  https://www.ted.com/talks/ameya_gondhalekar_wh...  "
      ]
     },
     "execution_count": 75,
     "metadata": {},
     "output_type": "execute_result"
    }
   ],
   "source": [
    "data = []\n",
    "for element in elements:\n",
    "    data.append({\n",
    "        'title': element.find_element(By.CSS_SELECTOR, \"h4 > .ga-link\").text,\n",
    "        'link': element.find_element(By.CSS_SELECTOR, \"h4 > .ga-link\").get_attribute(\"href\"),\n",
    "    })\n",
    "df = pd.DataFrame(data)\n",
    "df.tail(2)"
   ]
  },
  {
   "cell_type": "code",
   "execution_count": null,
   "id": "4ec04e2a-5c58-4ff6-a3b3-c76fdc95beca",
   "metadata": {},
   "outputs": [],
   "source": []
  },
  {
   "cell_type": "markdown",
   "id": "09ac5428-9173-4396-816b-0e223d0f2ddc",
   "metadata": {},
   "source": [
    "#### Headless\n",
    "- 브라우저를 화면에 띄우지 않고 메모리 상에서만 브라우저를 실행하여 크롤링하는 방법\n",
    "- window가 지원되지 않는 환경에서 selenium 사용 가능 (서버 컴퓨터의 경우...)\n",
    "- 크롬 버전 : 60 이상부터 지원 \n",
    "- 브라우저를 화면에 띄우진 않지만 더 빠르거나 그렇진 않음..."
   ]
  },
  {
   "cell_type": "code",
   "execution_count": 77,
   "id": "911b14a0-6f94-4227-bec1-197d6feb1903",
   "metadata": {},
   "outputs": [
    {
     "data": {
      "text/plain": [
       "'104.0.5112.81'"
      ]
     },
     "execution_count": 77,
     "metadata": {},
     "output_type": "execute_result"
    }
   ],
   "source": [
    "# 크롬 버전 확인\n",
    "driver = webdriver.Chrome()\n",
    "version = driver.capabilities['browserVersion']\n",
    "driver.quit()\n",
    "version"
   ]
  },
  {
   "cell_type": "code",
   "execution_count": 81,
   "id": "a7adb961-a473-4009-a2d1-99ea057a13a3",
   "metadata": {},
   "outputs": [
    {
     "data": {
      "text/plain": [
       "'Join TED Recommends to get the best ideas, selected just for you'"
      ]
     },
     "execution_count": 81,
     "metadata": {},
     "output_type": "execute_result"
    }
   ],
   "source": [
    "options = webdriver.ChromeOptions() # headless 설정 \n",
    "options.add_argument(\"headless\") # 브라우저 기능 추가 : 어떤 기능이 있는지는 selenium 사이트에서 보기  \n",
    "\n",
    "driver = webdriver.Chrome(options=options)\n",
    "\n",
    "driver.get(\"https://ted.com/talks\")\n",
    "sub_title = driver.find_element(By.CSS_SELECTOR,\"#banner-secondary\").text\n",
    "driver.quit()\n",
    "sub_title"
   ]
  }
 ],
 "metadata": {
  "kernelspec": {
   "display_name": "Python 3",
   "language": "python",
   "name": "python3"
  },
  "language_info": {
   "codemirror_mode": {
    "name": "ipython",
    "version": 3
   },
   "file_extension": ".py",
   "mimetype": "text/x-python",
   "name": "python",
   "nbconvert_exporter": "python",
   "pygments_lexer": "ipython3",
   "version": "3.8.8"
  }
 },
 "nbformat": 4,
 "nbformat_minor": 5
}
