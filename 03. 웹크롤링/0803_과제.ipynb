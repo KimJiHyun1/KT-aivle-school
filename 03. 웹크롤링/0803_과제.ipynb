{
 "cells": [
  {
   "cell_type": "code",
   "execution_count": 1,
   "id": "8b321c01-901d-4aff-af94-58a1ea3bc6ef",
   "metadata": {},
   "outputs": [],
   "source": [
    "# 실습 과제\n",
    "# https://finance.daum.net/exchanges\n",
    "# headers에 referer, user-agent 설정해줘야 함"
   ]
  },
  {
   "cell_type": "code",
   "execution_count": 1,
   "id": "c6697cb1-0d7f-41f0-8153-0300110875e3",
   "metadata": {},
   "outputs": [],
   "source": [
    "import pandas as pd\n",
    "import requests"
   ]
  },
  {
   "cell_type": "code",
   "execution_count": 2,
   "id": "54e07520-9c2a-4320-b492-085ebb297f58",
   "metadata": {},
   "outputs": [],
   "source": [
    "# 1. 웹서비스 분석: 크롬 개발자 도구 사용 -> URL, method 알아내기, 동적 페이지이므로 JSON 포맷의 str 타입 데이터를 받아옴\n",
    "\n",
    "url = 'https://finance.daum.net/api/exchanges/FRX.KRWUSD/days?perPage=10&page=2&pagination=true'\n",
    "headers = {'referer': 'https://m.finance.daum.net/', \n",
    "           'user-agent': 'Mozilla/5.0'}"
   ]
  },
  {
   "cell_type": "code",
   "execution_count": 3,
   "id": "22e0eb64-bb6e-4c87-8a20-092bb549f0f2",
   "metadata": {},
   "outputs": [
    {
     "name": "stdout",
     "output_type": "stream",
     "text": [
      "<Response [200]>\n"
     ]
    }
   ],
   "source": [
    "# 2. Request > response\n",
    "\n",
    "response = requests.get(url, headers=headers)\n",
    "print(response) # 200이면 성공!"
   ]
  },
  {
   "cell_type": "code",
   "execution_count": 6,
   "id": "1dc4f3db-5b7a-4646-aab0-4ea8d7ae9b76",
   "metadata": {},
   "outputs": [],
   "source": [
    "# 3. JSON(str) > list, dict > DataFrame\n",
    "\n",
    "data = response.json()\n",
    "# data\n",
    "# data['data']"
   ]
  },
  {
   "cell_type": "code",
   "execution_count": 6,
   "id": "8bf5c4b0-9a6d-44e5-8e05-f3ef140de9b5",
   "metadata": {},
   "outputs": [
    {
     "data": {
      "text/html": [
       "<div>\n",
       "<style scoped>\n",
       "    .dataframe tbody tr th:only-of-type {\n",
       "        vertical-align: middle;\n",
       "    }\n",
       "\n",
       "    .dataframe tbody tr th {\n",
       "        vertical-align: top;\n",
       "    }\n",
       "\n",
       "    .dataframe thead th {\n",
       "        text-align: right;\n",
       "    }\n",
       "</style>\n",
       "<table border=\"1\" class=\"dataframe\">\n",
       "  <thead>\n",
       "    <tr style=\"text-align: right;\">\n",
       "      <th></th>\n",
       "      <th>date</th>\n",
       "      <th>basePrice</th>\n",
       "    </tr>\n",
       "  </thead>\n",
       "  <tbody>\n",
       "    <tr>\n",
       "      <th>0</th>\n",
       "      <td>2022-07-21 23:19:42</td>\n",
       "      <td>1315.0</td>\n",
       "    </tr>\n",
       "    <tr>\n",
       "      <th>1</th>\n",
       "      <td>2022-07-20 23:53:08</td>\n",
       "      <td>1312.0</td>\n",
       "    </tr>\n",
       "    <tr>\n",
       "      <th>2</th>\n",
       "      <td>2022-07-19 23:36:23</td>\n",
       "      <td>1309.0</td>\n",
       "    </tr>\n",
       "    <tr>\n",
       "      <th>3</th>\n",
       "      <td>2022-07-18 23:45:08</td>\n",
       "      <td>1315.5</td>\n",
       "    </tr>\n",
       "    <tr>\n",
       "      <th>4</th>\n",
       "      <td>2022-07-15 21:49:49</td>\n",
       "      <td>1325.0</td>\n",
       "    </tr>\n",
       "  </tbody>\n",
       "</table>\n",
       "</div>"
      ],
      "text/plain": [
       "                  date  basePrice\n",
       "0  2022-07-21 23:19:42     1315.0\n",
       "1  2022-07-20 23:53:08     1312.0\n",
       "2  2022-07-19 23:36:23     1309.0\n",
       "3  2022-07-18 23:45:08     1315.5\n",
       "4  2022-07-15 21:49:49     1325.0"
      ]
     },
     "execution_count": 6,
     "metadata": {},
     "output_type": "execute_result"
    }
   ],
   "source": [
    "df = pd.DataFrame(data['data'])[['date', 'basePrice']] # 날짜, 종가 \n",
    "df.head()"
   ]
  },
  {
   "cell_type": "code",
   "execution_count": null,
   "id": "30422a4c-2dec-4d8d-b3e2-936786c065fe",
   "metadata": {},
   "outputs": [],
   "source": [
    "# 4. 함수 만들기"
   ]
  },
  {
   "cell_type": "code",
   "execution_count": 7,
   "id": "05fdf7a5-da0e-4632-baf5-1e090a263137",
   "metadata": {},
   "outputs": [],
   "source": [
    "def exchange_rate(perPage, page, code = 'USD'):\n",
    "    \n",
    "    \"\"\" This function is crawling exchange rate from daum webpage.\n",
    "    \n",
    "    Params\n",
    "    ------\n",
    "    perPage : int : one page size\n",
    "    page : int : page number\n",
    "    code : str : USD, JPY, CNY, or EUR\n",
    "    \n",
    "    Return\n",
    "    ------\n",
    "    type : DataFrame : display date, price columns\n",
    "    \"\"\"\n",
    "    \n",
    "    url = f'https://finance.daum.net/api/exchanges/FRX.KRW{code}/days?perPage={perPage}&page={page}&pagination=true'\n",
    "    headers = {'referer': 'https://m.finance.daum.net/', \n",
    "               'user-agent': 'Mozilla/5.0'}\n",
    "    \n",
    "    response = requests.get(url, headers=headers)\n",
    "    data = response.json()\n",
    "    df = pd.DataFrame(data['data'])[['date', 'basePrice']]\n",
    "    \n",
    "    return df"
   ]
  },
  {
   "cell_type": "code",
   "execution_count": 8,
   "id": "ca4200a9-29e9-493b-a848-647cb2ffa0ea",
   "metadata": {},
   "outputs": [],
   "source": [
    "usd = exchange_rate(60,1) # 최근 60일치 원달러 환율 데이터\n",
    "eur = exchange_rate(60, 1, 'EUR')\n",
    "jpy = exchange_rate(60, 1, 'JPY')\n",
    "cny = exchange_rate(60, 1, 'CNY')"
   ]
  },
  {
   "cell_type": "code",
   "execution_count": 10,
   "id": "a3840e8e-65e8-44ba-a82d-79ec275b75b9",
   "metadata": {},
   "outputs": [
    {
     "data": {
      "text/html": [
       "<div>\n",
       "<style scoped>\n",
       "    .dataframe tbody tr th:only-of-type {\n",
       "        vertical-align: middle;\n",
       "    }\n",
       "\n",
       "    .dataframe tbody tr th {\n",
       "        vertical-align: top;\n",
       "    }\n",
       "\n",
       "    .dataframe thead th {\n",
       "        text-align: right;\n",
       "    }\n",
       "</style>\n",
       "<table border=\"1\" class=\"dataframe\">\n",
       "  <thead>\n",
       "    <tr style=\"text-align: right;\">\n",
       "      <th></th>\n",
       "      <th>date</th>\n",
       "      <th>basePrice</th>\n",
       "    </tr>\n",
       "  </thead>\n",
       "  <tbody>\n",
       "    <tr>\n",
       "      <th>57</th>\n",
       "      <td>2022-05-13 20:01:14</td>\n",
       "      <td>1284.0</td>\n",
       "    </tr>\n",
       "    <tr>\n",
       "      <th>58</th>\n",
       "      <td>2022-05-12 20:00:49</td>\n",
       "      <td>1290.5</td>\n",
       "    </tr>\n",
       "    <tr>\n",
       "      <th>59</th>\n",
       "      <td>2022-05-11 20:02:00</td>\n",
       "      <td>1274.5</td>\n",
       "    </tr>\n",
       "  </tbody>\n",
       "</table>\n",
       "</div>"
      ],
      "text/plain": [
       "                   date  basePrice\n",
       "57  2022-05-13 20:01:14     1284.0\n",
       "58  2022-05-12 20:00:49     1290.5\n",
       "59  2022-05-11 20:02:00     1274.5"
      ]
     },
     "metadata": {},
     "output_type": "display_data"
    },
    {
     "data": {
      "text/html": [
       "<div>\n",
       "<style scoped>\n",
       "    .dataframe tbody tr th:only-of-type {\n",
       "        vertical-align: middle;\n",
       "    }\n",
       "\n",
       "    .dataframe tbody tr th {\n",
       "        vertical-align: top;\n",
       "    }\n",
       "\n",
       "    .dataframe thead th {\n",
       "        text-align: right;\n",
       "    }\n",
       "</style>\n",
       "<table border=\"1\" class=\"dataframe\">\n",
       "  <thead>\n",
       "    <tr style=\"text-align: right;\">\n",
       "      <th></th>\n",
       "      <th>date</th>\n",
       "      <th>basePrice</th>\n",
       "    </tr>\n",
       "  </thead>\n",
       "  <tbody>\n",
       "    <tr>\n",
       "      <th>57</th>\n",
       "      <td>2022-05-13 20:01:13</td>\n",
       "      <td>1333.82</td>\n",
       "    </tr>\n",
       "    <tr>\n",
       "      <th>58</th>\n",
       "      <td>2022-05-12 20:00:48</td>\n",
       "      <td>1347.02</td>\n",
       "    </tr>\n",
       "    <tr>\n",
       "      <th>59</th>\n",
       "      <td>2022-05-11 20:01:59</td>\n",
       "      <td>1343.77</td>\n",
       "    </tr>\n",
       "  </tbody>\n",
       "</table>\n",
       "</div>"
      ],
      "text/plain": [
       "                   date  basePrice\n",
       "57  2022-05-13 20:01:13    1333.82\n",
       "58  2022-05-12 20:00:48    1347.02\n",
       "59  2022-05-11 20:01:59    1343.77"
      ]
     },
     "metadata": {},
     "output_type": "display_data"
    },
    {
     "data": {
      "text/html": [
       "<div>\n",
       "<style scoped>\n",
       "    .dataframe tbody tr th:only-of-type {\n",
       "        vertical-align: middle;\n",
       "    }\n",
       "\n",
       "    .dataframe tbody tr th {\n",
       "        vertical-align: top;\n",
       "    }\n",
       "\n",
       "    .dataframe thead th {\n",
       "        text-align: right;\n",
       "    }\n",
       "</style>\n",
       "<table border=\"1\" class=\"dataframe\">\n",
       "  <thead>\n",
       "    <tr style=\"text-align: right;\">\n",
       "      <th></th>\n",
       "      <th>date</th>\n",
       "      <th>basePrice</th>\n",
       "    </tr>\n",
       "  </thead>\n",
       "  <tbody>\n",
       "    <tr>\n",
       "      <th>57</th>\n",
       "      <td>2022-05-13 20:01:13</td>\n",
       "      <td>995.46</td>\n",
       "    </tr>\n",
       "    <tr>\n",
       "      <th>58</th>\n",
       "      <td>2022-05-12 20:00:48</td>\n",
       "      <td>1002.68</td>\n",
       "    </tr>\n",
       "    <tr>\n",
       "      <th>59</th>\n",
       "      <td>2022-05-11 20:02:00</td>\n",
       "      <td>981.55</td>\n",
       "    </tr>\n",
       "  </tbody>\n",
       "</table>\n",
       "</div>"
      ],
      "text/plain": [
       "                   date  basePrice\n",
       "57  2022-05-13 20:01:13     995.46\n",
       "58  2022-05-12 20:00:48    1002.68\n",
       "59  2022-05-11 20:02:00     981.55"
      ]
     },
     "metadata": {},
     "output_type": "display_data"
    },
    {
     "data": {
      "text/html": [
       "<div>\n",
       "<style scoped>\n",
       "    .dataframe tbody tr th:only-of-type {\n",
       "        vertical-align: middle;\n",
       "    }\n",
       "\n",
       "    .dataframe tbody tr th {\n",
       "        vertical-align: top;\n",
       "    }\n",
       "\n",
       "    .dataframe thead th {\n",
       "        text-align: right;\n",
       "    }\n",
       "</style>\n",
       "<table border=\"1\" class=\"dataframe\">\n",
       "  <thead>\n",
       "    <tr style=\"text-align: right;\">\n",
       "      <th></th>\n",
       "      <th>date</th>\n",
       "      <th>basePrice</th>\n",
       "    </tr>\n",
       "  </thead>\n",
       "  <tbody>\n",
       "    <tr>\n",
       "      <th>57</th>\n",
       "      <td>2022-05-13 20:01:13</td>\n",
       "      <td>188.65</td>\n",
       "    </tr>\n",
       "    <tr>\n",
       "      <th>58</th>\n",
       "      <td>2022-05-12 20:00:47</td>\n",
       "      <td>189.48</td>\n",
       "    </tr>\n",
       "    <tr>\n",
       "      <th>59</th>\n",
       "      <td>2022-05-11 20:01:59</td>\n",
       "      <td>189.10</td>\n",
       "    </tr>\n",
       "  </tbody>\n",
       "</table>\n",
       "</div>"
      ],
      "text/plain": [
       "                   date  basePrice\n",
       "57  2022-05-13 20:01:13     188.65\n",
       "58  2022-05-12 20:00:47     189.48\n",
       "59  2022-05-11 20:01:59     189.10"
      ]
     },
     "metadata": {},
     "output_type": "display_data"
    }
   ],
   "source": [
    "display(usd.tail(3))\n",
    "display(eur.tail(3))\n",
    "display(jpy.tail(3))\n",
    "display(cny.tail(3))"
   ]
  },
  {
   "cell_type": "code",
   "execution_count": null,
   "id": "2e60f930-eb53-4b8f-9e57-d5dd6f0da867",
   "metadata": {},
   "outputs": [],
   "source": []
  },
  {
   "cell_type": "code",
   "execution_count": 2,
   "id": "d5de916e-b431-4f68-9b58-ceee645c40f9",
   "metadata": {},
   "outputs": [],
   "source": [
    "url = 'https://finance.daum.net/api/exchanges/summaries'\n",
    "headers = {'referer': 'https://m.finance.daum.net/', 'user-agent': 'Mozilla/5.0'}"
   ]
  },
  {
   "cell_type": "code",
   "execution_count": 3,
   "id": "7dd665e2-fc2f-4bae-a538-82100136a061",
   "metadata": {},
   "outputs": [
    {
     "name": "stdout",
     "output_type": "stream",
     "text": [
      "<Response [200]>\n"
     ]
    }
   ],
   "source": [
    "response = requests.get(url, headers=headers)\n",
    "print(response)"
   ]
  },
  {
   "cell_type": "code",
   "execution_count": 8,
   "id": "cf69b8e6-9269-4585-8b38-ca22a28d64d7",
   "metadata": {},
   "outputs": [
    {
     "data": {
      "text/plain": [
       "{'symbolCode': 'FRX.KRWUSD',\n",
       " 'date': '2022-08-03 18:25:47',\n",
       " 'currencyCode': 'USD',\n",
       " 'currencyName': '달러',\n",
       " 'currencyUnit': 1,\n",
       " 'country': '미국',\n",
       " 'region': {'korName': '아메리카', 'engName': 'America'},\n",
       " 'name': '미국 (KRW/USD)',\n",
       " 'recurrenceCount': 419,\n",
       " 'basePrice': 1310.5,\n",
       " 'change': 'FALL',\n",
       " 'changePrice': 1.5,\n",
       " 'changeRate': 0.0011432927,\n",
       " 'cashBuyingPrice': 1333.43,\n",
       " 'cashSellingPrice': 1287.57,\n",
       " 'ttBuyingPrice': 1297.7,\n",
       " 'ttSellingPrice': 1323.3,\n",
       " 'tcBuyingPrice': None,\n",
       " 'fcSellingPrice': None,\n",
       " 'exchangeCommission': 4.1352,\n",
       " 'usDollarRate': 1.0,\n",
       " 'chartImageUrl': {'day': 'https://t1.daumcdn.net/finance/chart/kr/daumforex/d/FRX.KRWUSD.png',\n",
       "  'month': 'https://t1.daumcdn.net/finance/chart/kr/daumforex/m/FRX.KRWUSD.png',\n",
       "  'month3': 'https://t1.daumcdn.net/finance/chart/kr/daumforex/m3/FRX.KRWUSD.png',\n",
       "  'year': 'https://t1.daumcdn.net/finance/chart/kr/daumforex/y/FRX.KRWUSD.png'}}"
      ]
     },
     "execution_count": 8,
     "metadata": {},
     "output_type": "execute_result"
    }
   ],
   "source": [
    "data = response.json()\n",
    "data['data'][0]"
   ]
  },
  {
   "cell_type": "code",
   "execution_count": 9,
   "id": "94c908d0-a4dc-449a-8fdb-5edaf539f59b",
   "metadata": {},
   "outputs": [
    {
     "data": {
      "text/html": [
       "<div>\n",
       "<style scoped>\n",
       "    .dataframe tbody tr th:only-of-type {\n",
       "        vertical-align: middle;\n",
       "    }\n",
       "\n",
       "    .dataframe tbody tr th {\n",
       "        vertical-align: top;\n",
       "    }\n",
       "\n",
       "    .dataframe thead th {\n",
       "        text-align: right;\n",
       "    }\n",
       "</style>\n",
       "<table border=\"1\" class=\"dataframe\">\n",
       "  <thead>\n",
       "    <tr style=\"text-align: right;\">\n",
       "      <th></th>\n",
       "      <th>date</th>\n",
       "      <th>currencyCode</th>\n",
       "      <th>currencyName</th>\n",
       "      <th>country</th>\n",
       "      <th>name</th>\n",
       "      <th>basePrice</th>\n",
       "    </tr>\n",
       "  </thead>\n",
       "  <tbody>\n",
       "    <tr>\n",
       "      <th>0</th>\n",
       "      <td>2022-08-03 18:25:47</td>\n",
       "      <td>USD</td>\n",
       "      <td>달러</td>\n",
       "      <td>미국</td>\n",
       "      <td>미국 (KRW/USD)</td>\n",
       "      <td>1310.50</td>\n",
       "    </tr>\n",
       "    <tr>\n",
       "      <th>1</th>\n",
       "      <td>2022-08-03 18:25:47</td>\n",
       "      <td>JPY</td>\n",
       "      <td>엔</td>\n",
       "      <td>일본</td>\n",
       "      <td>일본 (KRW/JPY100)</td>\n",
       "      <td>984.78</td>\n",
       "    </tr>\n",
       "    <tr>\n",
       "      <th>2</th>\n",
       "      <td>2022-08-03 18:25:46</td>\n",
       "      <td>CNY</td>\n",
       "      <td>위안</td>\n",
       "      <td>중국</td>\n",
       "      <td>중국 (KRW/CNY)</td>\n",
       "      <td>193.90</td>\n",
       "    </tr>\n",
       "    <tr>\n",
       "      <th>3</th>\n",
       "      <td>2022-08-03 18:25:46</td>\n",
       "      <td>EUR</td>\n",
       "      <td>유로</td>\n",
       "      <td>유로</td>\n",
       "      <td>유로 (KRW/EUR)</td>\n",
       "      <td>1335.66</td>\n",
       "    </tr>\n",
       "    <tr>\n",
       "      <th>4</th>\n",
       "      <td>2022-08-03 18:25:47</td>\n",
       "      <td>GBP</td>\n",
       "      <td>파운드</td>\n",
       "      <td>영국</td>\n",
       "      <td>영국 (KRW/GBP)</td>\n",
       "      <td>1597.17</td>\n",
       "    </tr>\n",
       "  </tbody>\n",
       "</table>\n",
       "</div>"
      ],
      "text/plain": [
       "                  date currencyCode currencyName country             name  \\\n",
       "0  2022-08-03 18:25:47          USD           달러      미국     미국 (KRW/USD)   \n",
       "1  2022-08-03 18:25:47          JPY            엔      일본  일본 (KRW/JPY100)   \n",
       "2  2022-08-03 18:25:46          CNY           위안      중국     중국 (KRW/CNY)   \n",
       "3  2022-08-03 18:25:46          EUR           유로      유로     유로 (KRW/EUR)   \n",
       "4  2022-08-03 18:25:47          GBP          파운드      영국     영국 (KRW/GBP)   \n",
       "\n",
       "   basePrice  \n",
       "0    1310.50  \n",
       "1     984.78  \n",
       "2     193.90  \n",
       "3    1335.66  \n",
       "4    1597.17  "
      ]
     },
     "execution_count": 9,
     "metadata": {},
     "output_type": "execute_result"
    }
   ],
   "source": [
    "df = pd.DataFrame(data['data'])[['date', 'currencyCode', 'currencyName', 'country', 'name', 'basePrice']]\n",
    "df.head()"
   ]
  }
 ],
 "metadata": {
  "kernelspec": {
   "display_name": "Python 3",
   "language": "python",
   "name": "python3"
  },
  "language_info": {
   "codemirror_mode": {
    "name": "ipython",
    "version": 3
   },
   "file_extension": ".py",
   "mimetype": "text/x-python",
   "name": "python",
   "nbconvert_exporter": "python",
   "pygments_lexer": "ipython3",
   "version": "3.8.8"
  }
 },
 "nbformat": 4,
 "nbformat_minor": 5
}
