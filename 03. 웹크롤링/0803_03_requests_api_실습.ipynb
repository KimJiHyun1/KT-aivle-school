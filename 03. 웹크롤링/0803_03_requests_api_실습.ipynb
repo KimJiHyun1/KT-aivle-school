{
 "cells": [
  {
   "cell_type": "markdown",
   "id": "5c312d5b-2099-4c52-b0ab-753ac315a92a",
   "metadata": {},
   "source": [
    "### API\n",
    "- Application Programming Interface\n",
    "- **api를 사용**해서 데이터를 수집하는 것은 서비스에 데이터를 제공하는 **공식적인 방법**으로 데이터 수집하는 것이다.\n",
    "- naver api: papago api 번역 서비스"
   ]
  },
  {
   "cell_type": "code",
   "execution_count": 1,
   "id": "3423fa5c-7ce7-49f0-81dd-c196df820fad",
   "metadata": {},
   "outputs": [],
   "source": [
    "# 1. APP 등록 > app_key(requests token) 수집\n",
    "# 2. Naver API Document 확인 > URL 확인\n",
    "# 3. request(url, app_key) > response(json) : JSON(str)\n",
    "# 4. JSON(str) > list or dict > DataFrame"
   ]
  },
  {
   "cell_type": "code",
   "execution_count": 2,
   "id": "03103514-4802-4065-ae66-f8b75816f25d",
   "metadata": {},
   "outputs": [],
   "source": [
    "import requests, json\n",
    "import pandas as pd"
   ]
  },
  {
   "cell_type": "markdown",
   "id": "dfceb8f1-868f-45a6-a18d-4b20b4c7e36e",
   "metadata": {},
   "source": [
    "* 1. APP 등록 > app_key(requests token) 수집"
   ]
  },
  {
   "cell_type": "code",
   "execution_count": 3,
   "id": "11f029a7-bbfe-48b1-a148-01c82e82b00c",
   "metadata": {},
   "outputs": [],
   "source": [
    "# https://developers.naver.com"
   ]
  },
  {
   "cell_type": "code",
   "execution_count": 4,
   "id": "3a171b1a-0b4a-4d7c-9ec0-88d2e2aad26c",
   "metadata": {},
   "outputs": [],
   "source": [
    "CLIENT_ID, CLIENT_SECRET = \"CLIENT_ID\", \"CLIENT_SECRET\""
   ]
  },
  {
   "cell_type": "markdown",
   "id": "22f250c4-12ce-4f9a-8796-cb36b9e072cb",
   "metadata": {},
   "source": [
    "* 2. Naver API Document 확인 > URL 확인 (params, headers)"
   ]
  },
  {
   "cell_type": "code",
   "execution_count": 5,
   "id": "1aba5094-f35d-4ed6-af55-a772aeca3b9b",
   "metadata": {},
   "outputs": [],
   "source": [
    "txt = \"파이썬은 재미있습니다.\"\n",
    "url = \"https://openapi.naver.com/v1/papago/n2mt\"\n",
    "params = { 'source': 'ko', 'target': 'en', 'text': txt}\n",
    "headers = {\n",
    "    'Content-Type': 'application/json',\n",
    "    'X-Naver-Client-Id': CLIENT_ID,\n",
    "    'X-Naver-Client-Secret': CLIENT_SECRET\n",
    "}"
   ]
  },
  {
   "cell_type": "markdown",
   "id": "29cf9de1-2ce7-4739-9a52-ae39a208b63b",
   "metadata": {},
   "source": [
    "* 3. request(url, app_key) > response(json) : JSON(str)"
   ]
  },
  {
   "cell_type": "code",
   "execution_count": 6,
   "id": "02dbda14-996d-48d2-b28e-681040b3815e",
   "metadata": {},
   "outputs": [
    {
     "data": {
      "text/plain": [
       "({'source': 'ko', 'target': 'en', 'text': '파이썬은 재미있습니다.'},\n",
       " '{\"source\": \"ko\", \"target\": \"en\", \"text\": \"\\\\ud30c\\\\uc774\\\\uc36c\\\\uc740 \\\\uc7ac\\\\ubbf8\\\\uc788\\\\uc2b5\\\\ub2c8\\\\ub2e4.\"}')"
      ]
     },
     "execution_count": 6,
     "metadata": {},
     "output_type": "execute_result"
    }
   ],
   "source": [
    "# json.dumps(): \n",
    "# 인터넷 트래픽에서는 영문, 숫자, 특수문자만 사용 가능한데,\n",
    "# 이걸 쓰면 한글과 같은 문자를 인코딩해준다.(영문, 숫자, 특수문자)\n",
    "params, json.dumps(params)"
   ]
  },
  {
   "cell_type": "code",
   "execution_count": 7,
   "id": "ebd01f23-8d45-4075-b501-367c550c26e5",
   "metadata": {},
   "outputs": [
    {
     "data": {
      "text/plain": [
       "<Response [200]>"
      ]
     },
     "execution_count": 7,
     "metadata": {},
     "output_type": "execute_result"
    }
   ],
   "source": [
    "# 여기서는 post 방식이기 때문에 .post()를 쓴다\n",
    "response = requests.post(url, json.dumps(params), headers=headers)\n",
    "response"
   ]
  },
  {
   "cell_type": "code",
   "execution_count": 8,
   "id": "e7e34457-ac01-4f3c-a6d8-ace0deb7fbbf",
   "metadata": {},
   "outputs": [
    {
     "data": {
      "text/plain": [
       "'{\"message\":{\"result\":{\"srcLangType\":\"ko\",\"tarLangType\":\"en\",\"translatedText\":\"Python is fun.\",\"engineType\":\"N2MT\",\"pivot\":null,\"dict\":null,\"tarDict\":null},\"@type\":\"response\",\"@service\":\"naverservice.nmt.proxy\",\"@version\":\"1.0.0\"}}'"
      ]
     },
     "execution_count": 8,
     "metadata": {},
     "output_type": "execute_result"
    }
   ],
   "source": [
    "response.text"
   ]
  },
  {
   "cell_type": "markdown",
   "id": "92ffbf87-a553-4610-a806-5fd042424a36",
   "metadata": {},
   "source": [
    "* 4. JSON(str) > list or dict > DataFrame"
   ]
  },
  {
   "cell_type": "code",
   "execution_count": 10,
   "id": "19d6ef59-5e59-42c8-894f-16fce029ccce",
   "metadata": {},
   "outputs": [
    {
     "data": {
      "text/plain": [
       "'Python is fun.'"
      ]
     },
     "execution_count": 10,
     "metadata": {},
     "output_type": "execute_result"
    }
   ],
   "source": [
    "text_en = response.json()['message']['result']['translatedText']\n",
    "text_en"
   ]
  },
  {
   "cell_type": "code",
   "execution_count": 11,
   "id": "ee4a69ff-d8f7-4a74-86f9-de4222d0f983",
   "metadata": {},
   "outputs": [],
   "source": [
    "# 5. 함수로 작성 "
   ]
  },
  {
   "cell_type": "code",
   "execution_count": 14,
   "id": "d2beb96c-586a-4107-a4a0-5361d352986c",
   "metadata": {},
   "outputs": [],
   "source": [
    "def translate(txt):\n",
    "    CLIENT_ID, CLIENT_SECRET = \"CLIENT_ID\", \"CLIENT_SECRET\"\n",
    "    url = \"https://openapi.naver.com/v1/papago/n2mt\"\n",
    "    params = { 'source': 'ko', 'target': 'en', 'text': txt}\n",
    "    headers = {\n",
    "        'Content-Type': 'application/json',\n",
    "        'X-Naver-Client-Id': CLIENT_ID,\n",
    "        'X-Naver-Client-Secret': CLIENT_SECRET\n",
    "    }\n",
    "    response = requests.post(url, json.dumps(params), headers=headers)\n",
    "    txt_en = response.json()['message']['result']['translatedText']\n",
    "    return txt_en"
   ]
  },
  {
   "cell_type": "code",
   "execution_count": 15,
   "id": "46c17312-83d0-40d2-8ebf-d91beed6e7d0",
   "metadata": {},
   "outputs": [
    {
     "data": {
      "text/plain": [
       "'Web crawling is fun'"
      ]
     },
     "execution_count": 15,
     "metadata": {},
     "output_type": "execute_result"
    }
   ],
   "source": [
    "txt = \"웹크롤링은 재미있습니다\"\n",
    "txt_en = translate(txt)\n",
    "txt_en"
   ]
  },
  {
   "cell_type": "code",
   "execution_count": 16,
   "id": "e89c15c8-5edc-4dc3-bcdf-07c5acfa0893",
   "metadata": {},
   "outputs": [],
   "source": [
    "# 6. 한글 excel 파일을 영문 excel 파일로 변경"
   ]
  },
  {
   "cell_type": "code",
   "execution_count": 21,
   "id": "90d65197-3159-499e-95bd-655e3fb64d0e",
   "metadata": {},
   "outputs": [
    {
     "data": {
      "text/html": [
       "<div>\n",
       "<style scoped>\n",
       "    .dataframe tbody tr th:only-of-type {\n",
       "        vertical-align: middle;\n",
       "    }\n",
       "\n",
       "    .dataframe tbody tr th {\n",
       "        vertical-align: top;\n",
       "    }\n",
       "\n",
       "    .dataframe thead th {\n",
       "        text-align: right;\n",
       "    }\n",
       "</style>\n",
       "<table border=\"1\" class=\"dataframe\">\n",
       "  <thead>\n",
       "    <tr style=\"text-align: right;\">\n",
       "      <th></th>\n",
       "      <th>category</th>\n",
       "      <th>title</th>\n",
       "    </tr>\n",
       "  </thead>\n",
       "  <tbody>\n",
       "    <tr>\n",
       "      <th>4</th>\n",
       "      <td>104</td>\n",
       "      <td>\"코로나 확진자 '0명'인 날은 절대 오지 않는다\" 美전문가</td>\n",
       "    </tr>\n",
       "    <tr>\n",
       "      <th>5</th>\n",
       "      <td>104</td>\n",
       "      <td>올림픽 다가오는데 도쿄 코로나 확산 빨라져...일주일새 25％↑</td>\n",
       "    </tr>\n",
       "  </tbody>\n",
       "</table>\n",
       "</div>"
      ],
      "text/plain": [
       "   category                                title\n",
       "4       104    \"코로나 확진자 '0명'인 날은 절대 오지 않는다\" 美전문가\n",
       "5       104  올림픽 다가오는데 도쿄 코로나 확산 빨라져...일주일새 25％↑"
      ]
     },
     "execution_count": 21,
     "metadata": {},
     "output_type": "execute_result"
    }
   ],
   "source": [
    "covid = pd.read_excel('covid.xlsx')[['category', 'title']]\n",
    "covid.tail(2)"
   ]
  },
  {
   "cell_type": "code",
   "execution_count": 25,
   "id": "4191d64d-6e76-4c3d-8f33-86ae5da26cf0",
   "metadata": {},
   "outputs": [
    {
     "data": {
      "text/plain": [
       "0      SK바이오사이언스, 코로나19 백신 임상 3상 시험계획 제출\n",
       "1               고양시 노래연습장 코로나19 누적확진 41명\n",
       "2          코로나19 신규 감염, 28일 오후 9시까지 542명\n",
       "3              프로야구 수도권 구단서 코로나19 확진자 발생\n",
       "4      \"코로나 확진자 '0명'인 날은 절대 오지 않는다\" 美전문가\n",
       "5    올림픽 다가오는데 도쿄 코로나 확산 빨라져...일주일새 25％↑\n",
       "Name: title, dtype: object"
      ]
     },
     "execution_count": 25,
     "metadata": {},
     "output_type": "execute_result"
    }
   ],
   "source": [
    "covid['title']"
   ]
  },
  {
   "cell_type": "code",
   "execution_count": 24,
   "id": "ac0ff1f1-f396-4191-833e-5361644c0258",
   "metadata": {},
   "outputs": [
    {
     "data": {
      "text/plain": [
       "0    SK Bioscience Submits Phase III Clinical Trial...\n",
       "1    41 cumulative COVID-19 confirmed patients at G...\n",
       "2    New COVID-19 infections, 542 people by 9 p.m. ...\n",
       "3    Covid-19 confirmed cases in professional baseb...\n",
       "4    \"The day when there are zero confirmed cases o...\n",
       "5    As the Olympics are approaching, the spread of...\n",
       "Name: title, dtype: object"
      ]
     },
     "execution_count": 24,
     "metadata": {},
     "output_type": "execute_result"
    }
   ],
   "source": [
    "covid_en = covid['title'].apply(translate)\n",
    "covid_en"
   ]
  },
  {
   "cell_type": "code",
   "execution_count": 27,
   "id": "3af19162-0773-49f1-b3bd-04c9e643372d",
   "metadata": {},
   "outputs": [
    {
     "data": {
      "text/html": [
       "<div>\n",
       "<style scoped>\n",
       "    .dataframe tbody tr th:only-of-type {\n",
       "        vertical-align: middle;\n",
       "    }\n",
       "\n",
       "    .dataframe tbody tr th {\n",
       "        vertical-align: top;\n",
       "    }\n",
       "\n",
       "    .dataframe thead th {\n",
       "        text-align: right;\n",
       "    }\n",
       "</style>\n",
       "<table border=\"1\" class=\"dataframe\">\n",
       "  <thead>\n",
       "    <tr style=\"text-align: right;\">\n",
       "      <th></th>\n",
       "      <th>category</th>\n",
       "      <th>title</th>\n",
       "      <th>title_en</th>\n",
       "    </tr>\n",
       "  </thead>\n",
       "  <tbody>\n",
       "    <tr>\n",
       "      <th>0</th>\n",
       "      <td>101</td>\n",
       "      <td>SK바이오사이언스, 코로나19 백신 임상 3상 시험계획 제출</td>\n",
       "      <td>SK Bioscience Submits Phase III Clinical Trial...</td>\n",
       "    </tr>\n",
       "    <tr>\n",
       "      <th>1</th>\n",
       "      <td>102</td>\n",
       "      <td>고양시 노래연습장 코로나19 누적확진 41명</td>\n",
       "      <td>41 cumulative COVID-19 confirmed patients at G...</td>\n",
       "    </tr>\n",
       "    <tr>\n",
       "      <th>2</th>\n",
       "      <td>103</td>\n",
       "      <td>코로나19 신규 감염, 28일 오후 9시까지 542명</td>\n",
       "      <td>New COVID-19 infections, 542 people by 9 p.m. ...</td>\n",
       "    </tr>\n",
       "    <tr>\n",
       "      <th>3</th>\n",
       "      <td>103</td>\n",
       "      <td>프로야구 수도권 구단서 코로나19 확진자 발생</td>\n",
       "      <td>Covid-19 confirmed cases in professional baseb...</td>\n",
       "    </tr>\n",
       "    <tr>\n",
       "      <th>4</th>\n",
       "      <td>104</td>\n",
       "      <td>\"코로나 확진자 '0명'인 날은 절대 오지 않는다\" 美전문가</td>\n",
       "      <td>\"The day when there are zero confirmed cases o...</td>\n",
       "    </tr>\n",
       "    <tr>\n",
       "      <th>5</th>\n",
       "      <td>104</td>\n",
       "      <td>올림픽 다가오는데 도쿄 코로나 확산 빨라져...일주일새 25％↑</td>\n",
       "      <td>As the Olympics are approaching, the spread of...</td>\n",
       "    </tr>\n",
       "  </tbody>\n",
       "</table>\n",
       "</div>"
      ],
      "text/plain": [
       "   category                                title  \\\n",
       "0       101    SK바이오사이언스, 코로나19 백신 임상 3상 시험계획 제출   \n",
       "1       102             고양시 노래연습장 코로나19 누적확진 41명   \n",
       "2       103        코로나19 신규 감염, 28일 오후 9시까지 542명   \n",
       "3       103            프로야구 수도권 구단서 코로나19 확진자 발생   \n",
       "4       104    \"코로나 확진자 '0명'인 날은 절대 오지 않는다\" 美전문가   \n",
       "5       104  올림픽 다가오는데 도쿄 코로나 확산 빨라져...일주일새 25％↑   \n",
       "\n",
       "                                            title_en  \n",
       "0  SK Bioscience Submits Phase III Clinical Trial...  \n",
       "1  41 cumulative COVID-19 confirmed patients at G...  \n",
       "2  New COVID-19 infections, 542 people by 9 p.m. ...  \n",
       "3  Covid-19 confirmed cases in professional baseb...  \n",
       "4  \"The day when there are zero confirmed cases o...  \n",
       "5  As the Olympics are approaching, the spread of...  "
      ]
     },
     "execution_count": 27,
     "metadata": {},
     "output_type": "execute_result"
    }
   ],
   "source": [
    "covid['title_en'] = covid_en\n",
    "covid"
   ]
  },
  {
   "cell_type": "code",
   "execution_count": 28,
   "id": "b35799ce-73fa-4e10-bee3-fb0fc77a8bff",
   "metadata": {},
   "outputs": [],
   "source": [
    "# covid.to_excel('covid_en.xlsx', index=False, encoding='utf-8-sig') # 저장 완!"
   ]
  },
  {
   "cell_type": "code",
   "execution_count": null,
   "id": "df90feae-0344-45cd-80fc-6cc1000b4dd4",
   "metadata": {},
   "outputs": [],
   "source": [
    "# utf-8-sig: excel에서 사용하는 인코딩 방식과 호환이 되는 utf-8 인코딩 방식 "
   ]
  },
  {
   "cell_type": "code",
   "execution_count": null,
   "id": "170651e1-ae9d-4396-b08e-823cd3b7e8b5",
   "metadata": {},
   "outputs": [],
   "source": []
  },
  {
   "cell_type": "code",
   "execution_count": null,
   "id": "9033a8ba-84a6-4a2f-834b-4ed0068126b8",
   "metadata": {},
   "outputs": [],
   "source": [
    "# 함수: Scope"
   ]
  },
  {
   "cell_type": "code",
   "execution_count": 32,
   "id": "d73fd81b-f6ac-408c-8605-c1a059c9f9d7",
   "metadata": {},
   "outputs": [
    {
     "name": "stdout",
     "output_type": "stream",
     "text": [
      "10\n"
     ]
    }
   ],
   "source": [
    "data = 10\n",
    "\n",
    "def change():\n",
    "    data = 20\n",
    "    \n",
    "change()\n",
    "print(data) # 20이 나올 줄 알았는데..! 10이 나온다!"
   ]
  },
  {
   "cell_type": "markdown",
   "id": "a18a6b25-44f4-4072-b1f4-036ee29c9479",
   "metadata": {},
   "source": [
    "변수를 선언할 때, **함수 밖**에서 선언하는지 **함수 안**에서 선언하는지에 따라 메모리 저장 공간이 다르다.  \n",
    "전역(global) 영역: **함수 밖**의 영역  \n",
    "지역(local) 영역: **함수 안**의 영역  \n",
    "global: 지역 영역에서 전역 영역에 있는 변수를 가져올 때 사용하는 명령어"
   ]
  },
  {
   "cell_type": "code",
   "execution_count": 33,
   "id": "e5a6a413-ec48-41d9-875d-195bb752e9f3",
   "metadata": {},
   "outputs": [
    {
     "name": "stdout",
     "output_type": "stream",
     "text": [
      "20\n"
     ]
    }
   ],
   "source": [
    "data = 10\n",
    "\n",
    "def change():\n",
    "    global data # 전역 영역에 있는 데이터를 지역 영역으로 가져옴\n",
    "    data = 20\n",
    "    \n",
    "change()\n",
    "print(data)"
   ]
  }
 ],
 "metadata": {
  "kernelspec": {
   "display_name": "Python 3",
   "language": "python",
   "name": "python3"
  },
  "language_info": {
   "codemirror_mode": {
    "name": "ipython",
    "version": 3
   },
   "file_extension": ".py",
   "mimetype": "text/x-python",
   "name": "python",
   "nbconvert_exporter": "python",
   "pygments_lexer": "ipython3",
   "version": "3.8.8"
  }
 },
 "nbformat": 4,
 "nbformat_minor": 5
}
