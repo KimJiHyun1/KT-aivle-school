{
 "cells": [
  {
   "cell_type": "markdown",
   "id": "1e06cdd2-cb2b-4a4e-aad3-cd58589cd99d",
   "metadata": {},
   "source": [
    "### scrapy \n",
    "#### 파이썬 코드로 웹페이지의 데이터를 수집하는 프레임워크\n",
    "- 비동기 방식으로 데이터를 수집해 속도가 빠르다"
   ]
  },
  {
   "cell_type": "code",
   "execution_count": 1,
   "id": "8f1254d6-1461-44a9-a163-cf1584222c08",
   "metadata": {},
   "outputs": [],
   "source": [
    "import scrapy, requests\n",
    "from scrapy.http import TextResponse"
   ]
  },
  {
   "cell_type": "code",
   "execution_count": null,
   "id": "43cc187c-9227-4a3e-a083-f9fd64000721",
   "metadata": {},
   "outputs": [],
   "source": [
    "# gmarket 베스트 200 상품 데이터 수집 "
   ]
  },
  {
   "cell_type": "code",
   "execution_count": null,
   "id": "5b054289-01eb-4392-bf42-07d98cd463e5",
   "metadata": {},
   "outputs": [],
   "source": [
    "# 1. scrapy project 생성 (project name : gmarket)"
   ]
  },
  {
   "cell_type": "code",
   "execution_count": 2,
   "id": "de302340-3725-4337-86e1-0891460f98ba",
   "metadata": {},
   "outputs": [
    {
     "name": "stdout",
     "output_type": "stream",
     "text": [
      "New Scrapy project 'gmarket', using template directory 'c:\\users\\user\\anaconda3\\lib\\site-packages\\scrapy\\templates\\project', created in:\n",
      "    C:\\Users\\User\\Downloads\\AIVLE SCHOOL\\웹크롤링\\day3\\gmarket\n",
      "\n",
      "You can start your first spider with:\n",
      "    cd gmarket\n",
      "    scrapy genspider example example.com\n"
     ]
    }
   ],
   "source": [
    "!scrapy startproject gmarket"
   ]
  },
  {
   "cell_type": "code",
   "execution_count": 3,
   "id": "38bd09fe-54d1-4916-b7b8-375a3d0bf1df",
   "metadata": {},
   "outputs": [
    {
     "name": "stdout",
     "output_type": "stream",
     "text": [
      "폴더 PATH의 목록입니다.\n",
      "볼륨 일련 번호가 00000086 7C6C:FC35입니다.\n",
      "C:\\USERS\\USER\\DOWNLOADS\\AIVLE SCHOOL\\웹크롤링\\DAY3\\GMARKET\n",
      "│  scrapy.cfg\n",
      "│  \n",
      "└─gmarket\n",
      "    │  items.py\n",
      "    │  middlewares.py\n",
      "    │  pipelines.py\n",
      "    │  settings.py\n",
      "    │  __init__.py\n",
      "    │  \n",
      "    └─spiders\n",
      "            __init__.py\n",
      "            \n"
     ]
    }
   ],
   "source": [
    "!tree gmarket /f"
   ]
  },
  {
   "cell_type": "code",
   "execution_count": null,
   "id": "ec7a558e-5964-44f1-a643-106b3c5035f9",
   "metadata": {},
   "outputs": [],
   "source": [
    "# item.py : 수집할 데이터의 구조 정의\n",
    "# middlewares.py : 데이터를 수집할 때 headers 정보와 같은 내용을 설정 \n",
    "# piplines.py : 데이터 수집 후 코드 실행을 정의\n",
    "# setting.py : 크롤링 설정 : 크롤링 시간 텀, robots.txt 규칙 지킬지 말지\n",
    "# spiders : 디렉토리 : 크롤링 절차 정의 "
   ]
  },
  {
   "cell_type": "code",
   "execution_count": null,
   "id": "4527d63a-c2da-4161-9656-a858df59a05e",
   "metadata": {},
   "outputs": [],
   "source": [
    "# 2. xpath 찾기 : link, 상세 페이지의 데이터"
   ]
  },
  {
   "cell_type": "code",
   "execution_count": null,
   "id": "051e228c-402d-4f39-85d8-74b9c7ed7bad",
   "metadata": {},
   "outputs": [],
   "source": [
    "url = 'http://corners.gmarket.co.kr/Bestsellers'"
   ]
  },
  {
   "cell_type": "code",
   "execution_count": null,
   "id": "2cba767a-7dcc-4dcb-9eb9-936cb10c79a7",
   "metadata": {},
   "outputs": [],
   "source": [
    "# link 데이터 수집 "
   ]
  },
  {
   "cell_type": "code",
   "execution_count": 4,
   "id": "08b57b4a-957a-49dc-b0e9-cb9a0f81ec7b",
   "metadata": {},
   "outputs": [
    {
     "data": {
      "text/plain": [
       "<200 http://corners.gmarket.co.kr/Bestsellers>"
      ]
     },
     "execution_count": 4,
     "metadata": {},
     "output_type": "execute_result"
    }
   ],
   "source": [
    "request = requests.get('http://corners.gmarket.co.kr/Bestsellers')\n",
    "response = TextResponse(request.url, body=request.text, encoding=\"utf-8\")"
   ]
  },
  {
   "cell_type": "code",
   "execution_count": 6,
   "id": "5b5c8a56-04aa-4821-a210-02d3c34d1d6b",
   "metadata": {},
   "outputs": [
    {
     "data": {
      "text/plain": [
       "['http://item.gmarket.co.kr/Item?goodscode=2519604129&ver=637953125702971589',\n",
       " 'http://item.gmarket.co.kr/Item?goodscode=2520466046&ver=637953125702971589']"
      ]
     },
     "execution_count": 6,
     "metadata": {},
     "output_type": "execute_result"
    }
   ],
   "source": [
    "links = response.xpath('//*[@id=\"gBestWrap\"]/div/div[3]/div/ul/li/a/@href').extract()\n",
    "# 텍스트쪽 xpath # 모든 거 가져올 거니까 li[1]에서 [1] 지운다! \n",
    "# @href : 링크\n",
    "# .extract() : 그거만 추출하기 \n",
    "links[:2]"
   ]
  },
  {
   "cell_type": "code",
   "execution_count": null,
   "id": "afecfbf2-8543-4445-ad9f-d8ea0e9e3313",
   "metadata": {},
   "outputs": [],
   "source": [
    "# 상세 페이지 데이터 수집"
   ]
  },
  {
   "cell_type": "code",
   "execution_count": 11,
   "id": "01957110-54ce-48a5-9407-02d1b03562f4",
   "metadata": {},
   "outputs": [],
   "source": [
    "link = links[0] # 이 url에 있는 상세 페이지 데이터 가져올거임\n",
    "request = requests.get(link)\n",
    "response = TextResponse(request.url, body=request.text, encoding=\"utf-8\")"
   ]
  },
  {
   "cell_type": "code",
   "execution_count": 12,
   "id": "1894bd18-54e4-4000-81ad-29a3695b4c26",
   "metadata": {},
   "outputs": [
    {
     "data": {
      "text/plain": [
       "('브라운 면도기 세정액 CCR5+1 ', '25,030')"
      ]
     },
     "execution_count": 12,
     "metadata": {},
     "output_type": "execute_result"
    }
   ],
   "source": [
    "title = response.xpath('//*[@id=\"itemcase_basic\"]/div/h1/text()')[0].extract()\n",
    "price = response.xpath('//*[@id=\"itemcase_basic\"]/div/p/span/strong/text()')[0].extract()\n",
    "title, price"
   ]
  },
  {
   "cell_type": "code",
   "execution_count": null,
   "id": "bc8d6857-64b7-45f8-b8ed-bd5302145245",
   "metadata": {},
   "outputs": [],
   "source": [
    "# 3. item.py : 코드 작성 : model(데이터의 구조 : 수집할 데이터의 컬럼을 정의)"
   ]
  },
  {
   "cell_type": "code",
   "execution_count": 13,
   "id": "bced03c0-4e09-4cac-9325-533aa6a2a3ee",
   "metadata": {},
   "outputs": [
    {
     "name": "stdout",
     "output_type": "stream",
     "text": [
      "Overwriting gmarket/gmarket/items.py\n"
     ]
    }
   ],
   "source": [
    "%%writefile gmarket/gmarket/items.py\n",
    "import scrapy\n",
    "\n",
    "class GmarketItem(scrapy.Item):\n",
    "    title = scrapy.Field()\n",
    "    price = scrapy.Field()\n",
    "    link = scrapy.Field()"
   ]
  },
  {
   "cell_type": "code",
   "execution_count": null,
   "id": "ecbb4bbd-9bd6-4d7c-807e-8b15747cfeb8",
   "metadata": {},
   "outputs": [],
   "source": [
    "# 4. spider.py : 코드 작성 : 크롤링 절차 정의 "
   ]
  },
  {
   "cell_type": "code",
   "execution_count": 19,
   "id": "a025c474-3bd2-44bf-973c-ec136f85ca20",
   "metadata": {},
   "outputs": [
    {
     "name": "stdout",
     "output_type": "stream",
     "text": [
      "Writing gmarket/gmarket/spiders/spider.py\n"
     ]
    }
   ],
   "source": [
    "%%writefile gmarket/gmarket/spiders/spider.py\n",
    "import scrapy\n",
    "from gmarket.items import GmarketItem\n",
    "\n",
    "class GMSpider(scrapy.Spider):\n",
    "    name = \"GMB\"\n",
    "    allow_domain = [\"gmarket.co.kr\"] \n",
    "    # 크롤링 할 url 도메인 설정: 네이버나 쿠팡 url은 수집 안하겠다 지마켓 url만 수집하겠다\n",
    "    start_urls = [\"http://corners.gmarket.co.kr/Bestsellers\"]\n",
    "    # 최초의 request response하는 url\n",
    "    \n",
    "    def parse(self, response):\n",
    "        links = response.xpath('//*[@id=\"gBestWrap\"]/div/div[3]/div/ul/li/a/@href').extract()\n",
    "        for link in links[:20]: # 상품 200개 중에 20개만... 오래 걸리니까~\n",
    "            yield scrapy.Request(link, callback=self.parse_content)\n",
    "    \n",
    "    def parse_content(self, response):\n",
    "        item = GmarketItem()\n",
    "        item[\"title\"] = response.xpath('//*[@id=\"itemcase_basic\"]/div[1]/h1/text()')[0].extract()\n",
    "        item[\"price\"] = response.xpath('//*[@id=\"itemcase_basic\"]/div[1]/p/span/strong/text()')[0].extract()\n",
    "        item[\"link\"] = response.url\n",
    "        yield item"
   ]
  },
  {
   "cell_type": "code",
   "execution_count": null,
   "id": "2fecefbb-f235-428e-ae20-e23c1f60efc5",
   "metadata": {},
   "outputs": [],
   "source": [
    "# 5. scrapy project 실행 \n",
    "# gmarket 디렉토리\n",
    "# scrapy crwal GMB -o items.csv : 터미널에서 실행 "
   ]
  },
  {
   "cell_type": "code",
   "execution_count": null,
   "id": "4ed96fcc-93cc-47c4-aa97-cf3f37a9dcdb",
   "metadata": {},
   "outputs": [],
   "source": [
    "# 터미널 창에서 어떻게 하는지 못봤다.. 복습 필요 ㅠ"
   ]
  },
  {
   "cell_type": "code",
   "execution_count": 21,
   "id": "9ad4db0a-4663-486f-907e-dfaa620c7aec",
   "metadata": {},
   "outputs": [
    {
     "data": {
      "text/plain": [
       "'C:\\\\Users\\\\User\\\\Downloads\\\\AIVLE SCHOOL\\\\웹크롤링\\\\day3'"
      ]
     },
     "execution_count": 21,
     "metadata": {},
     "output_type": "execute_result"
    }
   ],
   "source": [
    "%pwd"
   ]
  },
  {
   "cell_type": "code",
   "execution_count": null,
   "id": "20b7e7f2-926f-4f8a-ac9c-fa247ad27827",
   "metadata": {},
   "outputs": [],
   "source": [
    "pd.read_csv(\"gmarket/items.csv\").tail(2)"
   ]
  }
 ],
 "metadata": {
  "kernelspec": {
   "display_name": "Python 3",
   "language": "python",
   "name": "python3"
  },
  "language_info": {
   "codemirror_mode": {
    "name": "ipython",
    "version": 3
   },
   "file_extension": ".py",
   "mimetype": "text/x-python",
   "name": "python",
   "nbconvert_exporter": "python",
   "pygments_lexer": "ipython3",
   "version": "3.8.8"
  }
 },
 "nbformat": 4,
 "nbformat_minor": 5
}
