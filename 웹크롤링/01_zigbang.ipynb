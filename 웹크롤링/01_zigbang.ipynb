{
 "cells": [
  {
   "cell_type": "markdown",
   "id": "7e7cce10-ac6a-4e56-a9d2-5339ddfc9da7",
   "metadata": {},
   "source": [
    "### 직방의 원룸 매물정보 수집\n",
    "- 절차\n",
    "    - 동 이름 > 위도, 경도 수집\n",
    "    - 위도, 경도(점) > geohash(범위, 영역) 수집\n",
    "    - geohash(영역) > 매물 아이디 수집\n",
    "    - 매물 아이디 > 매물 정보 수집 "
   ]
  },
  {
   "cell_type": "code",
   "execution_count": 1,
   "id": "f78fe986-5dd9-4521-a71c-a8c3ea5997e2",
   "metadata": {},
   "outputs": [],
   "source": [
    "import requests\n",
    "import pandas as pd\n",
    "import geohash2"
   ]
  },
  {
   "cell_type": "code",
   "execution_count": 2,
   "id": "9040ca2c-c624-45c2-8a81-815fa2710f27",
   "metadata": {},
   "outputs": [],
   "source": [
    "# 1. 동 이름 > 위도, 경도"
   ]
  },
  {
   "cell_type": "code",
   "execution_count": 3,
   "id": "de736e79-79e5-4454-b272-dff76a29dda8",
   "metadata": {},
   "outputs": [
    {
     "data": {
      "text/plain": [
       "<Response [200]>"
      ]
     },
     "execution_count": 3,
     "metadata": {},
     "output_type": "execute_result"
    }
   ],
   "source": [
    "addr = '용산구 한남동'\n",
    "url = f'https://apis.zigbang.com/v2/search?leaseYn=N&q={addr}&serviceType=원룸'\n",
    "response = requests.get(url)\n",
    "response"
   ]
  },
  {
   "cell_type": "code",
   "execution_count": 4,
   "id": "81c43e68-b01c-48a3-b7a3-379cdb87244d",
   "metadata": {},
   "outputs": [
    {
     "data": {
      "text/plain": [
       "'{\"success\":true,\"code\":\"200\",\"items\":[{\"id\":4311,\"type\":\"address\",\"name\":\"한남동\",\"hint\":\"\",\"description\":\"서울시 용산구 한남동\",\"lat\":37.53458023071289,\"lng\":127.00049591064453,\"zoom\":5,\"polygon\":[],\"_score\":null,\"_source\":{\"name_length\":3,\"local1\":\"서울시\",\"local2\":\"용산구\",\"local3\":\"한남동\",\"web_level\":15,\"web_lat\":3'"
      ]
     },
     "execution_count": 4,
     "metadata": {},
     "output_type": "execute_result"
    }
   ],
   "source": [
    "response.text[:300]"
   ]
  },
  {
   "cell_type": "code",
   "execution_count": 5,
   "id": "58a17a78-39a9-42f2-b6bb-4e145ce1f02d",
   "metadata": {},
   "outputs": [
    {
     "data": {
      "text/plain": [
       "(37.53458023071289, 127.00049591064453)"
      ]
     },
     "execution_count": 5,
     "metadata": {},
     "output_type": "execute_result"
    }
   ],
   "source": [
    "data = response.json()['items'][0]\n",
    "lat, lng = data['lat'], data['lng']\n",
    "lat, lng"
   ]
  },
  {
   "cell_type": "code",
   "execution_count": 6,
   "id": "772a59de-2620-4683-8a51-07cb705a3bc3",
   "metadata": {},
   "outputs": [],
   "source": [
    "# 2. 위도, 경도 > geohash"
   ]
  },
  {
   "cell_type": "code",
   "execution_count": 7,
   "id": "2c166271-f3fc-4e82-a7ba-37222c39ad82",
   "metadata": {},
   "outputs": [
    {
     "data": {
      "text/plain": [
       "'wydm9'"
      ]
     },
     "execution_count": 7,
     "metadata": {},
     "output_type": "execute_result"
    }
   ],
   "source": [
    "# precision이 커질수록 영역이 작아짐\n",
    "geohash = geohash2.encode(lat, lng, precision=5)\n",
    "geohash"
   ]
  },
  {
   "cell_type": "code",
   "execution_count": 8,
   "id": "838b51b5-3803-4a20-80be-18d67dc690e3",
   "metadata": {},
   "outputs": [],
   "source": [
    "# 3. geohash > 매물 아이디"
   ]
  },
  {
   "cell_type": "code",
   "execution_count": 9,
   "id": "b69e6535-ec80-4346-ad1d-98206e2a0897",
   "metadata": {},
   "outputs": [],
   "source": [
    "# 한줄이 너무 길 때 역슬래쉬를 치고 엔터하면 된다. 역슬래쉬 뒤에 아무 문자도 있으면 안됨. 역슬래쉬도.\n",
    "url = f'https://apis.zigbang.com/v2/items?deposit_gteq=0&domain=zigbang\\\n",
    "&geohash={geohash}&needHasNoFiltered=true&rent_gteq=0&sales_type_in=전세|월세&service_type_eq=원룸'"
   ]
  },
  {
   "cell_type": "code",
   "execution_count": 10,
   "id": "57fb986a-8016-4343-b9b3-f4d37bd17a1f",
   "metadata": {},
   "outputs": [
    {
     "data": {
      "text/plain": [
       "<Response [200]>"
      ]
     },
     "execution_count": 10,
     "metadata": {},
     "output_type": "execute_result"
    }
   ],
   "source": [
    "response = requests.get(url)\n",
    "response"
   ]
  },
  {
   "cell_type": "code",
   "execution_count": 11,
   "id": "f5bcc965-b7e9-43e7-91a4-bce807144d95",
   "metadata": {},
   "outputs": [
    {
     "data": {
      "text/plain": [
       "(783,\n",
       " [{'lat': 37.52973487718673, 'lng': 126.99838537647315, 'item_id': 32680542},\n",
       "  {'lat': 37.530015589074594, 'lng': 127.00178630216995, 'item_id': 32547973}])"
      ]
     },
     "execution_count": 11,
     "metadata": {},
     "output_type": "execute_result"
    }
   ],
   "source": [
    "items = response.json()['items']\n",
    "len(items), items[:2]"
   ]
  },
  {
   "cell_type": "code",
   "execution_count": 12,
   "id": "0098052d-9e0d-42a8-b165-48fa8074c1b3",
   "metadata": {},
   "outputs": [
    {
     "data": {
      "text/plain": [
       "[32680542, 32547973, 32472988, 32821869, 32818112]"
      ]
     },
     "execution_count": 12,
     "metadata": {},
     "output_type": "execute_result"
    }
   ],
   "source": [
    "ids = [item['item_id'] for item in items]\n",
    "ids[:5]"
   ]
  },
  {
   "cell_type": "code",
   "execution_count": 13,
   "id": "e1274075-0336-4cb4-b8ba-0f26619741ad",
   "metadata": {},
   "outputs": [],
   "source": [
    "# 4. 매물 아이디 > 매물 정보 "
   ]
  },
  {
   "cell_type": "code",
   "execution_count": 14,
   "id": "4b914ef2-5d6e-4319-bc83-75fde2556030",
   "metadata": {},
   "outputs": [
    {
     "data": {
      "text/plain": [
       "<Response [200]>"
      ]
     },
     "execution_count": 14,
     "metadata": {},
     "output_type": "execute_result"
    }
   ],
   "source": [
    "url = 'https://apis.zigbang.com/v2/items/list'\n",
    "params = {\n",
    "    'domain': \"zigbang\",\n",
    "    'withCoalition': 'true',\n",
    "    'item_ids': ids[:900] # 99몇개부터는 안가져와짐\n",
    "}\n",
    "response = requests.post(url, params) # params에 한글이 없어서 json.dumps() 안해도 됨\n",
    "response"
   ]
  },
  {
   "cell_type": "code",
   "execution_count": 15,
   "id": "98fb52cf-088d-4b25-a84b-75aa0c5ce74e",
   "metadata": {},
   "outputs": [
    {
     "data": {
      "text/plain": [
       "'{\"items\":[{\"section_type\":null,\"item_id\":32680542,\"images_thumbnail\":\"https://ic.zigbang.com/ic/items/32680542/1.jpg\",\"sales_type\":\"월세\",\"sales_title\":\"월세\",\"deposit\":1000,\"rent\":60,\"size_m2\":42.98,\"공급면적\":{\"m2\":42.98,\"p\":\"13\"},\"전용면적\":{\"m2\":39.67,\"p\":\"12\"},\"계약면적\":null,\"room_type_title\":null,\"floor\":\"2\"'"
      ]
     },
     "execution_count": 15,
     "metadata": {},
     "output_type": "execute_result"
    }
   ],
   "source": [
    "response.text[:300]"
   ]
  },
  {
   "cell_type": "code",
   "execution_count": 16,
   "id": "67ad2bcf-a1e0-477d-80f4-e3d78a13e721",
   "metadata": {},
   "outputs": [
    {
     "data": {
      "text/html": [
       "<div>\n",
       "<style scoped>\n",
       "    .dataframe tbody tr th:only-of-type {\n",
       "        vertical-align: middle;\n",
       "    }\n",
       "\n",
       "    .dataframe tbody tr th {\n",
       "        vertical-align: top;\n",
       "    }\n",
       "\n",
       "    .dataframe thead th {\n",
       "        text-align: right;\n",
       "    }\n",
       "</style>\n",
       "<table border=\"1\" class=\"dataframe\">\n",
       "  <thead>\n",
       "    <tr style=\"text-align: right;\">\n",
       "      <th></th>\n",
       "      <th>section_type</th>\n",
       "      <th>item_id</th>\n",
       "      <th>images_thumbnail</th>\n",
       "      <th>sales_type</th>\n",
       "      <th>sales_title</th>\n",
       "      <th>deposit</th>\n",
       "      <th>rent</th>\n",
       "      <th>size_m2</th>\n",
       "      <th>공급면적</th>\n",
       "      <th>전용면적</th>\n",
       "      <th>...</th>\n",
       "      <th>is_zzim</th>\n",
       "      <th>status</th>\n",
       "      <th>service_type</th>\n",
       "      <th>tags</th>\n",
       "      <th>address1</th>\n",
       "      <th>address2</th>\n",
       "      <th>address3</th>\n",
       "      <th>manage_cost</th>\n",
       "      <th>reg_date</th>\n",
       "      <th>is_new</th>\n",
       "    </tr>\n",
       "  </thead>\n",
       "  <tbody>\n",
       "    <tr>\n",
       "      <th>0</th>\n",
       "      <td>None</td>\n",
       "      <td>32680542</td>\n",
       "      <td>https://ic.zigbang.com/ic/items/32680542/1.jpg</td>\n",
       "      <td>월세</td>\n",
       "      <td>월세</td>\n",
       "      <td>1000</td>\n",
       "      <td>60</td>\n",
       "      <td>42.98</td>\n",
       "      <td>{'m2': 42.98, 'p': '13'}</td>\n",
       "      <td>{'m2': 39.67, 'p': '12'}</td>\n",
       "      <td>...</td>\n",
       "      <td>False</td>\n",
       "      <td>True</td>\n",
       "      <td>빌라</td>\n",
       "      <td>[]</td>\n",
       "      <td>서울시 용산구 보광동</td>\n",
       "      <td>None</td>\n",
       "      <td>None</td>\n",
       "      <td>0</td>\n",
       "      <td>2022-08-01T11:26:57+09:00</td>\n",
       "      <td>False</td>\n",
       "    </tr>\n",
       "    <tr>\n",
       "      <th>1</th>\n",
       "      <td>None</td>\n",
       "      <td>32547973</td>\n",
       "      <td>https://ic.zigbang.com/ic/items/32547973/1.jpg</td>\n",
       "      <td>전세</td>\n",
       "      <td>전세</td>\n",
       "      <td>10000</td>\n",
       "      <td>0</td>\n",
       "      <td>36.36</td>\n",
       "      <td>{'m2': 36.36, 'p': '11'}</td>\n",
       "      <td>{'m2': 33.21, 'p': '10'}</td>\n",
       "      <td>...</td>\n",
       "      <td>False</td>\n",
       "      <td>True</td>\n",
       "      <td>빌라</td>\n",
       "      <td>[]</td>\n",
       "      <td>서울시 용산구 보광동</td>\n",
       "      <td>None</td>\n",
       "      <td>None</td>\n",
       "      <td>0</td>\n",
       "      <td>2022-07-29T17:57:20+09:00</td>\n",
       "      <td>False</td>\n",
       "    </tr>\n",
       "    <tr>\n",
       "      <th>2</th>\n",
       "      <td>None</td>\n",
       "      <td>32472988</td>\n",
       "      <td>https://ic.zigbang.com/ic/items/32472988/1.jpg</td>\n",
       "      <td>전세</td>\n",
       "      <td>전세</td>\n",
       "      <td>23000</td>\n",
       "      <td>0</td>\n",
       "      <td>50.12</td>\n",
       "      <td>{'m2': 50.12, 'p': '15.2'}</td>\n",
       "      <td>{'m2': 47, 'p': '14.2'}</td>\n",
       "      <td>...</td>\n",
       "      <td>False</td>\n",
       "      <td>True</td>\n",
       "      <td>빌라</td>\n",
       "      <td>[]</td>\n",
       "      <td>서울시 용산구 보광동</td>\n",
       "      <td>None</td>\n",
       "      <td>None</td>\n",
       "      <td>0</td>\n",
       "      <td>2022-07-22T11:25:58+09:00</td>\n",
       "      <td>False</td>\n",
       "    </tr>\n",
       "  </tbody>\n",
       "</table>\n",
       "<p>3 rows × 30 columns</p>\n",
       "</div>"
      ],
      "text/plain": [
       "  section_type   item_id                                images_thumbnail  \\\n",
       "0         None  32680542  https://ic.zigbang.com/ic/items/32680542/1.jpg   \n",
       "1         None  32547973  https://ic.zigbang.com/ic/items/32547973/1.jpg   \n",
       "2         None  32472988  https://ic.zigbang.com/ic/items/32472988/1.jpg   \n",
       "\n",
       "  sales_type sales_title  deposit  rent  size_m2                        공급면적  \\\n",
       "0         월세          월세     1000    60    42.98    {'m2': 42.98, 'p': '13'}   \n",
       "1         전세          전세    10000     0    36.36    {'m2': 36.36, 'p': '11'}   \n",
       "2         전세          전세    23000     0    50.12  {'m2': 50.12, 'p': '15.2'}   \n",
       "\n",
       "                       전용면적  ... is_zzim status service_type tags  \\\n",
       "0  {'m2': 39.67, 'p': '12'}  ...   False   True           빌라   []   \n",
       "1  {'m2': 33.21, 'p': '10'}  ...   False   True           빌라   []   \n",
       "2   {'m2': 47, 'p': '14.2'}  ...   False   True           빌라   []   \n",
       "\n",
       "      address1 address2 address3 manage_cost                   reg_date is_new  \n",
       "0  서울시 용산구 보광동     None     None           0  2022-08-01T11:26:57+09:00  False  \n",
       "1  서울시 용산구 보광동     None     None           0  2022-07-29T17:57:20+09:00  False  \n",
       "2  서울시 용산구 보광동     None     None           0  2022-07-22T11:25:58+09:00  False  \n",
       "\n",
       "[3 rows x 30 columns]"
      ]
     },
     "execution_count": 16,
     "metadata": {},
     "output_type": "execute_result"
    }
   ],
   "source": [
    "items = response.json()['items']\n",
    "df = pd.DataFrame(items)\n",
    "df.head(3) # ...이 거슬린다면?"
   ]
  },
  {
   "cell_type": "code",
   "execution_count": 17,
   "id": "f296c9b4-5bdd-4a65-8a60-f9b81d267be4",
   "metadata": {},
   "outputs": [
    {
     "data": {
      "text/plain": [
       "20"
      ]
     },
     "execution_count": 17,
     "metadata": {},
     "output_type": "execute_result"
    }
   ],
   "source": [
    "# max row, max column 설정\n",
    "pd.options.display.max_columns # 20"
   ]
  },
  {
   "cell_type": "code",
   "execution_count": 18,
   "id": "09f7846b-ac87-4fe5-bfb7-478ee1c44d0a",
   "metadata": {},
   "outputs": [
    {
     "data": {
      "text/html": [
       "<div>\n",
       "<style scoped>\n",
       "    .dataframe tbody tr th:only-of-type {\n",
       "        vertical-align: middle;\n",
       "    }\n",
       "\n",
       "    .dataframe tbody tr th {\n",
       "        vertical-align: top;\n",
       "    }\n",
       "\n",
       "    .dataframe thead th {\n",
       "        text-align: right;\n",
       "    }\n",
       "</style>\n",
       "<table border=\"1\" class=\"dataframe\">\n",
       "  <thead>\n",
       "    <tr style=\"text-align: right;\">\n",
       "      <th></th>\n",
       "      <th>section_type</th>\n",
       "      <th>item_id</th>\n",
       "      <th>images_thumbnail</th>\n",
       "      <th>sales_type</th>\n",
       "      <th>sales_title</th>\n",
       "      <th>deposit</th>\n",
       "      <th>rent</th>\n",
       "      <th>size_m2</th>\n",
       "      <th>공급면적</th>\n",
       "      <th>전용면적</th>\n",
       "      <th>계약면적</th>\n",
       "      <th>room_type_title</th>\n",
       "      <th>floor</th>\n",
       "      <th>floor_string</th>\n",
       "      <th>building_floor</th>\n",
       "      <th>title</th>\n",
       "      <th>is_first_movein</th>\n",
       "      <th>room_type</th>\n",
       "      <th>address</th>\n",
       "      <th>random_location</th>\n",
       "      <th>is_zzim</th>\n",
       "      <th>status</th>\n",
       "      <th>service_type</th>\n",
       "      <th>tags</th>\n",
       "      <th>address1</th>\n",
       "      <th>address2</th>\n",
       "      <th>address3</th>\n",
       "      <th>manage_cost</th>\n",
       "      <th>reg_date</th>\n",
       "      <th>is_new</th>\n",
       "    </tr>\n",
       "  </thead>\n",
       "  <tbody>\n",
       "    <tr>\n",
       "      <th>0</th>\n",
       "      <td>None</td>\n",
       "      <td>32680542</td>\n",
       "      <td>https://ic.zigbang.com/ic/items/32680542/1.jpg</td>\n",
       "      <td>월세</td>\n",
       "      <td>월세</td>\n",
       "      <td>1000</td>\n",
       "      <td>60</td>\n",
       "      <td>42.98</td>\n",
       "      <td>{'m2': 42.98, 'p': '13'}</td>\n",
       "      <td>{'m2': 39.67, 'p': '12'}</td>\n",
       "      <td>None</td>\n",
       "      <td>None</td>\n",
       "      <td>2</td>\n",
       "      <td>2</td>\n",
       "      <td>2</td>\n",
       "      <td>용산구 보광동 월세.주택(2층.방2)1.000/60만원</td>\n",
       "      <td>None</td>\n",
       "      <td>04</td>\n",
       "      <td>용산구 보광동</td>\n",
       "      <td>{'lat': 37.52924586722087, 'lng': 126.99904228...</td>\n",
       "      <td>False</td>\n",
       "      <td>True</td>\n",
       "      <td>빌라</td>\n",
       "      <td>[]</td>\n",
       "      <td>서울시 용산구 보광동</td>\n",
       "      <td>None</td>\n",
       "      <td>None</td>\n",
       "      <td>0</td>\n",
       "      <td>2022-08-01T11:26:57+09:00</td>\n",
       "      <td>False</td>\n",
       "    </tr>\n",
       "    <tr>\n",
       "      <th>1</th>\n",
       "      <td>None</td>\n",
       "      <td>32547973</td>\n",
       "      <td>https://ic.zigbang.com/ic/items/32547973/1.jpg</td>\n",
       "      <td>전세</td>\n",
       "      <td>전세</td>\n",
       "      <td>10000</td>\n",
       "      <td>0</td>\n",
       "      <td>36.36</td>\n",
       "      <td>{'m2': 36.36, 'p': '11'}</td>\n",
       "      <td>{'m2': 33.21, 'p': '10'}</td>\n",
       "      <td>None</td>\n",
       "      <td>None</td>\n",
       "      <td>2</td>\n",
       "      <td>2</td>\n",
       "      <td>2</td>\n",
       "      <td>용산구 보광동 전세.주택(2층.방2)1억원</td>\n",
       "      <td>None</td>\n",
       "      <td>04</td>\n",
       "      <td>용산구 보광동</td>\n",
       "      <td>{'lat': 37.530019714104526, 'lng': 127.0011643...</td>\n",
       "      <td>False</td>\n",
       "      <td>True</td>\n",
       "      <td>빌라</td>\n",
       "      <td>[]</td>\n",
       "      <td>서울시 용산구 보광동</td>\n",
       "      <td>None</td>\n",
       "      <td>None</td>\n",
       "      <td>0</td>\n",
       "      <td>2022-07-29T17:57:20+09:00</td>\n",
       "      <td>False</td>\n",
       "    </tr>\n",
       "    <tr>\n",
       "      <th>2</th>\n",
       "      <td>None</td>\n",
       "      <td>32472988</td>\n",
       "      <td>https://ic.zigbang.com/ic/items/32472988/1.jpg</td>\n",
       "      <td>전세</td>\n",
       "      <td>전세</td>\n",
       "      <td>23000</td>\n",
       "      <td>0</td>\n",
       "      <td>50.12</td>\n",
       "      <td>{'m2': 50.12, 'p': '15.2'}</td>\n",
       "      <td>{'m2': 47, 'p': '14.2'}</td>\n",
       "      <td>None</td>\n",
       "      <td>None</td>\n",
       "      <td>2</td>\n",
       "      <td>2</td>\n",
       "      <td>3</td>\n",
       "      <td>올수리된 꺠끗한 주차가능 방2개 전세</td>\n",
       "      <td>None</td>\n",
       "      <td>04</td>\n",
       "      <td>용산구 보광동</td>\n",
       "      <td>{'lat': 37.52949746741094, 'lng': 126.99975339...</td>\n",
       "      <td>False</td>\n",
       "      <td>True</td>\n",
       "      <td>빌라</td>\n",
       "      <td>[]</td>\n",
       "      <td>서울시 용산구 보광동</td>\n",
       "      <td>None</td>\n",
       "      <td>None</td>\n",
       "      <td>0</td>\n",
       "      <td>2022-07-22T11:25:58+09:00</td>\n",
       "      <td>False</td>\n",
       "    </tr>\n",
       "  </tbody>\n",
       "</table>\n",
       "</div>"
      ],
      "text/plain": [
       "  section_type   item_id                                images_thumbnail  \\\n",
       "0         None  32680542  https://ic.zigbang.com/ic/items/32680542/1.jpg   \n",
       "1         None  32547973  https://ic.zigbang.com/ic/items/32547973/1.jpg   \n",
       "2         None  32472988  https://ic.zigbang.com/ic/items/32472988/1.jpg   \n",
       "\n",
       "  sales_type sales_title  deposit  rent  size_m2                        공급면적  \\\n",
       "0         월세          월세     1000    60    42.98    {'m2': 42.98, 'p': '13'}   \n",
       "1         전세          전세    10000     0    36.36    {'m2': 36.36, 'p': '11'}   \n",
       "2         전세          전세    23000     0    50.12  {'m2': 50.12, 'p': '15.2'}   \n",
       "\n",
       "                       전용면적  계약면적 room_type_title floor floor_string  \\\n",
       "0  {'m2': 39.67, 'p': '12'}  None            None     2            2   \n",
       "1  {'m2': 33.21, 'p': '10'}  None            None     2            2   \n",
       "2   {'m2': 47, 'p': '14.2'}  None            None     2            2   \n",
       "\n",
       "  building_floor                           title is_first_movein room_type  \\\n",
       "0              2  용산구 보광동 월세.주택(2층.방2)1.000/60만원            None        04   \n",
       "1              2         용산구 보광동 전세.주택(2층.방2)1억원            None        04   \n",
       "2              3            올수리된 꺠끗한 주차가능 방2개 전세            None        04   \n",
       "\n",
       "   address                                    random_location  is_zzim  \\\n",
       "0  용산구 보광동  {'lat': 37.52924586722087, 'lng': 126.99904228...    False   \n",
       "1  용산구 보광동  {'lat': 37.530019714104526, 'lng': 127.0011643...    False   \n",
       "2  용산구 보광동  {'lat': 37.52949746741094, 'lng': 126.99975339...    False   \n",
       "\n",
       "   status service_type tags     address1 address2 address3 manage_cost  \\\n",
       "0    True           빌라   []  서울시 용산구 보광동     None     None           0   \n",
       "1    True           빌라   []  서울시 용산구 보광동     None     None           0   \n",
       "2    True           빌라   []  서울시 용산구 보광동     None     None           0   \n",
       "\n",
       "                    reg_date  is_new  \n",
       "0  2022-08-01T11:26:57+09:00   False  \n",
       "1  2022-07-29T17:57:20+09:00   False  \n",
       "2  2022-07-22T11:25:58+09:00   False  "
      ]
     },
     "execution_count": 18,
     "metadata": {},
     "output_type": "execute_result"
    }
   ],
   "source": [
    "pd.options.display.max_columns = 50\n",
    "df.head(3) # ...이 다 보인다~"
   ]
  },
  {
   "cell_type": "code",
   "execution_count": 21,
   "id": "f4e9215a-511c-4107-90ac-87bf7828a4c4",
   "metadata": {},
   "outputs": [
    {
     "data": {
      "text/html": [
       "<div>\n",
       "<style scoped>\n",
       "    .dataframe tbody tr th:only-of-type {\n",
       "        vertical-align: middle;\n",
       "    }\n",
       "\n",
       "    .dataframe tbody tr th {\n",
       "        vertical-align: top;\n",
       "    }\n",
       "\n",
       "    .dataframe thead th {\n",
       "        text-align: right;\n",
       "    }\n",
       "</style>\n",
       "<table border=\"1\" class=\"dataframe\">\n",
       "  <thead>\n",
       "    <tr style=\"text-align: right;\">\n",
       "      <th></th>\n",
       "      <th>item_id</th>\n",
       "      <th>sales_type</th>\n",
       "      <th>deposit</th>\n",
       "      <th>rent</th>\n",
       "      <th>size_m2</th>\n",
       "      <th>address1</th>\n",
       "      <th>manage_cost</th>\n",
       "    </tr>\n",
       "  </thead>\n",
       "  <tbody>\n",
       "    <tr>\n",
       "      <th>0</th>\n",
       "      <td>32680542</td>\n",
       "      <td>월세</td>\n",
       "      <td>1000</td>\n",
       "      <td>60</td>\n",
       "      <td>42.98</td>\n",
       "      <td>서울시 용산구 보광동</td>\n",
       "      <td>0</td>\n",
       "    </tr>\n",
       "    <tr>\n",
       "      <th>1</th>\n",
       "      <td>32547973</td>\n",
       "      <td>전세</td>\n",
       "      <td>10000</td>\n",
       "      <td>0</td>\n",
       "      <td>36.36</td>\n",
       "      <td>서울시 용산구 보광동</td>\n",
       "      <td>0</td>\n",
       "    </tr>\n",
       "    <tr>\n",
       "      <th>2</th>\n",
       "      <td>32472988</td>\n",
       "      <td>전세</td>\n",
       "      <td>23000</td>\n",
       "      <td>0</td>\n",
       "      <td>50.12</td>\n",
       "      <td>서울시 용산구 보광동</td>\n",
       "      <td>0</td>\n",
       "    </tr>\n",
       "    <tr>\n",
       "      <th>3</th>\n",
       "      <td>32821869</td>\n",
       "      <td>월세</td>\n",
       "      <td>1000</td>\n",
       "      <td>85</td>\n",
       "      <td>51.00</td>\n",
       "      <td>서울시 용산구 보광동</td>\n",
       "      <td>0</td>\n",
       "    </tr>\n",
       "    <tr>\n",
       "      <th>4</th>\n",
       "      <td>32818112</td>\n",
       "      <td>월세</td>\n",
       "      <td>500</td>\n",
       "      <td>40</td>\n",
       "      <td>46.28</td>\n",
       "      <td>서울시 용산구 보광동</td>\n",
       "      <td>0</td>\n",
       "    </tr>\n",
       "  </tbody>\n",
       "</table>\n",
       "</div>"
      ],
      "text/plain": [
       "    item_id sales_type  deposit  rent  size_m2     address1 manage_cost\n",
       "0  32680542         월세     1000    60    42.98  서울시 용산구 보광동           0\n",
       "1  32547973         전세    10000     0    36.36  서울시 용산구 보광동           0\n",
       "2  32472988         전세    23000     0    50.12  서울시 용산구 보광동           0\n",
       "3  32821869         월세     1000    85    51.00  서울시 용산구 보광동           0\n",
       "4  32818112         월세      500    40    46.28  서울시 용산구 보광동           0"
      ]
     },
     "execution_count": 21,
     "metadata": {},
     "output_type": "execute_result"
    }
   ],
   "source": [
    "columns=['item_id', 'sales_type', 'deposit', 'rent', 'size_m2', 'address1', 'manage_cost']\n",
    "df = pd.DataFrame(items)[columns]\n",
    "df.head(5)"
   ]
  },
  {
   "cell_type": "code",
   "execution_count": 22,
   "id": "3238a54b-d128-47ca-b0a6-276bcccd7df1",
   "metadata": {},
   "outputs": [],
   "source": [
    "# 함수 만들기\n",
    "def oneroom(addr):\n",
    "    url = f'https://apis.zigbang.com/v2/search?leaseYn=N&q={addr}&serviceType=원룸'\n",
    "    response = requests.get(url)\n",
    "    data = response.json()['items'][0]\n",
    "    lat, lng = data['lat'], data['lng']\n",
    "    \n",
    "    geohash = geohash2.encode(lat, lng, precision=5)\n",
    "    \n",
    "    url = f'https://apis.zigbang.com/v2/items?deposit_gteq=0&domain=zigbang\\\n",
    "&geohash={geohash}&needHasNoFiltered=true&rent_gteq=0&sales_type_in=전세|월세&service_type_eq=원룸'\n",
    "    response = requests.get(url)\n",
    "    items = response.json()['items']\n",
    "    ids = [item['item_id'] for item in items]\n",
    "    \n",
    "    url = 'https://apis.zigbang.com/v2/items/list'\n",
    "    params = {\n",
    "        'domain': \"zigbang\",\n",
    "        'withCoalition': 'true',\n",
    "        'item_ids': ids[:900] # 990몇개부터는 안가져와짐\n",
    "    }\n",
    "    response = requests.post(url, params)\n",
    "    items = response.json()['items']\n",
    "    columns=['item_id', 'sales_type', 'deposit', 'rent', 'size_m2', 'address1', 'manage_cost']\n",
    "    df = pd.DataFrame(items)[columns]\n",
    "    return df"
   ]
  },
  {
   "cell_type": "code",
   "execution_count": 25,
   "id": "19cbd35a-ae9d-49d6-9761-890982d5933c",
   "metadata": {},
   "outputs": [
    {
     "data": {
      "text/html": [
       "<div>\n",
       "<style scoped>\n",
       "    .dataframe tbody tr th:only-of-type {\n",
       "        vertical-align: middle;\n",
       "    }\n",
       "\n",
       "    .dataframe tbody tr th {\n",
       "        vertical-align: top;\n",
       "    }\n",
       "\n",
       "    .dataframe thead th {\n",
       "        text-align: right;\n",
       "    }\n",
       "</style>\n",
       "<table border=\"1\" class=\"dataframe\">\n",
       "  <thead>\n",
       "    <tr style=\"text-align: right;\">\n",
       "      <th></th>\n",
       "      <th>item_id</th>\n",
       "      <th>sales_type</th>\n",
       "      <th>deposit</th>\n",
       "      <th>rent</th>\n",
       "      <th>size_m2</th>\n",
       "      <th>address1</th>\n",
       "      <th>manage_cost</th>\n",
       "    </tr>\n",
       "  </thead>\n",
       "  <tbody>\n",
       "    <tr>\n",
       "      <th>742</th>\n",
       "      <td>32862490</td>\n",
       "      <td>전세</td>\n",
       "      <td>43000</td>\n",
       "      <td>0</td>\n",
       "      <td>31.74</td>\n",
       "      <td>서울시 마포구 중동</td>\n",
       "      <td>5</td>\n",
       "    </tr>\n",
       "    <tr>\n",
       "      <th>743</th>\n",
       "      <td>32866975</td>\n",
       "      <td>월세</td>\n",
       "      <td>3000</td>\n",
       "      <td>90</td>\n",
       "      <td>49.59</td>\n",
       "      <td>서울시 마포구 중동</td>\n",
       "      <td>2</td>\n",
       "    </tr>\n",
       "  </tbody>\n",
       "</table>\n",
       "</div>"
      ],
      "text/plain": [
       "      item_id sales_type  deposit  rent  size_m2    address1 manage_cost\n",
       "742  32862490         전세    43000     0    31.74  서울시 마포구 중동           5\n",
       "743  32866975         월세     3000    90    49.59  서울시 마포구 중동           2"
      ]
     },
     "execution_count": 25,
     "metadata": {},
     "output_type": "execute_result"
    }
   ],
   "source": [
    "addr = '마포구 합정동'\n",
    "df = oneroom(addr)\n",
    "df.tail(2)"
   ]
  },
  {
   "cell_type": "code",
   "execution_count": 29,
   "id": "b1cb37af-0abc-4453-bfb7-4d0be137317a",
   "metadata": {},
   "outputs": [
    {
     "data": {
      "text/html": [
       "<div>\n",
       "<style scoped>\n",
       "    .dataframe tbody tr th:only-of-type {\n",
       "        vertical-align: middle;\n",
       "    }\n",
       "\n",
       "    .dataframe tbody tr th {\n",
       "        vertical-align: top;\n",
       "    }\n",
       "\n",
       "    .dataframe thead th {\n",
       "        text-align: right;\n",
       "    }\n",
       "</style>\n",
       "<table border=\"1\" class=\"dataframe\">\n",
       "  <thead>\n",
       "    <tr style=\"text-align: right;\">\n",
       "      <th></th>\n",
       "      <th>item_id</th>\n",
       "      <th>sales_type</th>\n",
       "      <th>deposit</th>\n",
       "      <th>rent</th>\n",
       "      <th>size_m2</th>\n",
       "      <th>address1</th>\n",
       "      <th>manage_cost</th>\n",
       "    </tr>\n",
       "  </thead>\n",
       "  <tbody>\n",
       "    <tr>\n",
       "      <th>0</th>\n",
       "      <td>32662713</td>\n",
       "      <td>전세</td>\n",
       "      <td>17700</td>\n",
       "      <td>0</td>\n",
       "      <td>39.67</td>\n",
       "      <td>서울시 마포구 합정동</td>\n",
       "      <td>0</td>\n",
       "    </tr>\n",
       "    <tr>\n",
       "      <th>1</th>\n",
       "      <td>32668759</td>\n",
       "      <td>전세</td>\n",
       "      <td>17700</td>\n",
       "      <td>0</td>\n",
       "      <td>39.67</td>\n",
       "      <td>서울시 마포구 합정동</td>\n",
       "      <td>0</td>\n",
       "    </tr>\n",
       "    <tr>\n",
       "      <th>2</th>\n",
       "      <td>32726690</td>\n",
       "      <td>전세</td>\n",
       "      <td>19900</td>\n",
       "      <td>0</td>\n",
       "      <td>36.28</td>\n",
       "      <td>서울시 마포구 합정동</td>\n",
       "      <td>0</td>\n",
       "    </tr>\n",
       "    <tr>\n",
       "      <th>3</th>\n",
       "      <td>32542700</td>\n",
       "      <td>월세</td>\n",
       "      <td>1500</td>\n",
       "      <td>95</td>\n",
       "      <td>49.59</td>\n",
       "      <td>서울시 마포구 합정동</td>\n",
       "      <td>7</td>\n",
       "    </tr>\n",
       "    <tr>\n",
       "      <th>4</th>\n",
       "      <td>32513282</td>\n",
       "      <td>전세</td>\n",
       "      <td>5000</td>\n",
       "      <td>0</td>\n",
       "      <td>23.14</td>\n",
       "      <td>서울시 마포구 합정동</td>\n",
       "      <td>5</td>\n",
       "    </tr>\n",
       "    <tr>\n",
       "      <th>...</th>\n",
       "      <td>...</td>\n",
       "      <td>...</td>\n",
       "      <td>...</td>\n",
       "      <td>...</td>\n",
       "      <td>...</td>\n",
       "      <td>...</td>\n",
       "      <td>...</td>\n",
       "    </tr>\n",
       "    <tr>\n",
       "      <th>95</th>\n",
       "      <td>32794268</td>\n",
       "      <td>월세</td>\n",
       "      <td>1000</td>\n",
       "      <td>90</td>\n",
       "      <td>59.50</td>\n",
       "      <td>서울시 마포구 합정동</td>\n",
       "      <td>2</td>\n",
       "    </tr>\n",
       "    <tr>\n",
       "      <th>96</th>\n",
       "      <td>32794303</td>\n",
       "      <td>월세</td>\n",
       "      <td>3000</td>\n",
       "      <td>80</td>\n",
       "      <td>59.50</td>\n",
       "      <td>서울시 마포구 합정동</td>\n",
       "      <td>2</td>\n",
       "    </tr>\n",
       "    <tr>\n",
       "      <th>97</th>\n",
       "      <td>32804404</td>\n",
       "      <td>월세</td>\n",
       "      <td>2000</td>\n",
       "      <td>85</td>\n",
       "      <td>61.24</td>\n",
       "      <td>서울시 마포구 합정동</td>\n",
       "      <td>2</td>\n",
       "    </tr>\n",
       "    <tr>\n",
       "      <th>98</th>\n",
       "      <td>32812101</td>\n",
       "      <td>월세</td>\n",
       "      <td>3000</td>\n",
       "      <td>80</td>\n",
       "      <td>61.24</td>\n",
       "      <td>서울시 마포구 합정동</td>\n",
       "      <td>2</td>\n",
       "    </tr>\n",
       "    <tr>\n",
       "      <th>99</th>\n",
       "      <td>32836233</td>\n",
       "      <td>월세</td>\n",
       "      <td>1000</td>\n",
       "      <td>45</td>\n",
       "      <td>13.95</td>\n",
       "      <td>서울시 마포구 합정동</td>\n",
       "      <td>5</td>\n",
       "    </tr>\n",
       "  </tbody>\n",
       "</table>\n",
       "<p>100 rows × 7 columns</p>\n",
       "</div>"
      ],
      "text/plain": [
       "     item_id sales_type  deposit  rent  size_m2     address1 manage_cost\n",
       "0   32662713         전세    17700     0    39.67  서울시 마포구 합정동           0\n",
       "1   32668759         전세    17700     0    39.67  서울시 마포구 합정동           0\n",
       "2   32726690         전세    19900     0    36.28  서울시 마포구 합정동           0\n",
       "3   32542700         월세     1500    95    49.59  서울시 마포구 합정동           7\n",
       "4   32513282         전세     5000     0    23.14  서울시 마포구 합정동           5\n",
       "..       ...        ...      ...   ...      ...          ...         ...\n",
       "95  32794268         월세     1000    90    59.50  서울시 마포구 합정동           2\n",
       "96  32794303         월세     3000    80    59.50  서울시 마포구 합정동           2\n",
       "97  32804404         월세     2000    85    61.24  서울시 마포구 합정동           2\n",
       "98  32812101         월세     3000    80    61.24  서울시 마포구 합정동           2\n",
       "99  32836233         월세     1000    45    13.95  서울시 마포구 합정동           5\n",
       "\n",
       "[100 rows x 7 columns]"
      ]
     },
     "execution_count": 29,
     "metadata": {},
     "output_type": "execute_result"
    }
   ],
   "source": [
    "# 합정동만 보고 싶다면?\n",
    "df_filtered = df[df['address1'].str.contains(addr)].reset_index(drop=True)\n",
    "df_filtered"
   ]
  },
  {
   "cell_type": "code",
   "execution_count": null,
   "id": "8f38e1ed-97ff-4dc0-8594-9d460e1def5d",
   "metadata": {},
   "outputs": [],
   "source": [
    "# 모듈 파일 만들기"
   ]
  },
  {
   "cell_type": "code",
   "execution_count": 30,
   "id": "58d4c2df-8108-4229-a7cd-69914c163f92",
   "metadata": {},
   "outputs": [
    {
     "name": "stdout",
     "output_type": "stream",
     "text": [
      " C 드라이브의 볼륨에는 이름이 없습니다.\n",
      " 볼륨 일련 번호: 7C6C-FC35\n",
      "\n",
      " C:\\Users\\User\\Downloads\\AIVLE SCHOOL\\웹크롤링\\day2 디렉터리\n",
      "\n",
      "2022-08-04  오후 01:30    <DIR>          .\n",
      "2022-08-04  오후 01:30    <DIR>          ..\n",
      "2022-08-04  오전 11:08    <DIR>          .ipynb_checkpoints\n",
      "2022-08-04  오전 11:03            20,775 01_html.ipynb\n",
      "2022-08-04  오후 01:30            36,624 01_zigbang.ipynb\n",
      "2022-08-04  오전 11:03             7,617 02_css_selector.ipynb\n",
      "2022-08-04  오전 11:04               920 02_kakao_api_실습.ipynb\n",
      "2022-08-04  오전 11:03            21,109 03_naver_relational_keywords.ipynb\n",
      "2022-08-04  오전 11:03           250,909 04_gmarket.ipynb\n",
      "2022-08-04  오전 11:02            54,793 naver_api_2.ipynb\n",
      "               7개 파일             392,747 바이트\n",
      "               3개 디렉터리  133,836,169,216 바이트 남음\n"
     ]
    }
   ],
   "source": [
    "%ls"
   ]
  },
  {
   "cell_type": "code",
   "execution_count": null,
   "id": "7fc1fad5-1853-41af-85e8-e8d4715a378d",
   "metadata": {},
   "outputs": [],
   "source": [
    "# %%writefile zigbang.py 위에 아무 글씨도 있으면 안됨. 주석도."
   ]
  },
  {
   "cell_type": "code",
   "execution_count": 32,
   "id": "9526e157-0740-4c63-b257-ff3140e8d943",
   "metadata": {},
   "outputs": [
    {
     "name": "stdout",
     "output_type": "stream",
     "text": [
      "Writing zigbang.py\n"
     ]
    }
   ],
   "source": [
    "%%writefile zigbang.py\n",
    "\n",
    "import requests\n",
    "import pandas as pd\n",
    "import geohash2\n",
    "\n",
    "def oneroom(addr):\n",
    "    url = f'https://apis.zigbang.com/v2/search?leaseYn=N&q={addr}&serviceType=원룸'\n",
    "    response = requests.get(url)\n",
    "    data = response.json()['items'][0]\n",
    "    lat, lng = data['lat'], data['lng']\n",
    "    \n",
    "    geohash = geohash2.encode(lat, lng, precision=5)\n",
    "    \n",
    "    url = f'https://apis.zigbang.com/v2/items?deposit_gteq=0&domain=zigbang\\\n",
    "&geohash={geohash}&needHasNoFiltered=true&rent_gteq=0&sales_type_in=전세|월세&service_type_eq=원룸'\n",
    "    response = requests.get(url)\n",
    "    items = response.json()['items']\n",
    "    ids = [item['item_id'] for item in items]\n",
    "    \n",
    "    url = 'https://apis.zigbang.com/v2/items/list'\n",
    "    params = {\n",
    "        'domain': \"zigbang\",\n",
    "        'withCoalition': 'true',\n",
    "        'item_ids': ids[:900] # 990몇개부터는 안가져와짐\n",
    "    }\n",
    "    response = requests.post(url, params)\n",
    "    items = response.json()['items']\n",
    "    columns=['item_id', 'sales_type', 'deposit', 'rent', 'size_m2', 'address1', 'manage_cost']\n",
    "    df = pd.DataFrame(items)[columns]\n",
    "    return df"
   ]
  },
  {
   "cell_type": "code",
   "execution_count": 33,
   "id": "249d1740-afef-44ef-9eec-3ad99bc6a04c",
   "metadata": {},
   "outputs": [
    {
     "name": "stdout",
     "output_type": "stream",
     "text": [
      " C 드라이브의 볼륨에는 이름이 없습니다.\n",
      " 볼륨 일련 번호: 7C6C-FC35\n",
      "\n",
      " C:\\Users\\User\\Downloads\\AIVLE SCHOOL\\웹크롤링\\day2 디렉터리\n",
      "\n",
      "2022-08-04  오후 01:33    <DIR>          .\n",
      "2022-08-04  오후 01:33    <DIR>          ..\n",
      "2022-08-04  오전 11:08    <DIR>          .ipynb_checkpoints\n",
      "2022-08-04  오전 11:03            20,775 01_html.ipynb\n",
      "2022-08-04  오후 01:32            39,450 01_zigbang.ipynb\n",
      "2022-08-04  오전 11:03             7,617 02_css_selector.ipynb\n",
      "2022-08-04  오전 11:04               920 02_kakao_api_실습.ipynb\n",
      "2022-08-04  오전 11:03            21,109 03_naver_relational_keywords.ipynb\n",
      "2022-08-04  오전 11:03           250,909 04_gmarket.ipynb\n",
      "2022-08-04  오전 11:02            54,793 naver_api_2.ipynb\n",
      "2022-08-04  오후 01:33             1,095 zigbang.py\n",
      "               8개 파일             396,668 바이트\n",
      "               3개 디렉터리  133,836,005,376 바이트 남음\n"
     ]
    }
   ],
   "source": [
    "%ls"
   ]
  },
  {
   "cell_type": "code",
   "execution_count": 34,
   "id": "520505e2-ed03-4249-9f89-3dfd942edbac",
   "metadata": {},
   "outputs": [],
   "source": [
    "import zigbang as zb"
   ]
  },
  {
   "cell_type": "code",
   "execution_count": 35,
   "id": "07020ea2-f91c-46d9-b905-ce78d890c2b5",
   "metadata": {},
   "outputs": [
    {
     "data": {
      "text/html": [
       "<div>\n",
       "<style scoped>\n",
       "    .dataframe tbody tr th:only-of-type {\n",
       "        vertical-align: middle;\n",
       "    }\n",
       "\n",
       "    .dataframe tbody tr th {\n",
       "        vertical-align: top;\n",
       "    }\n",
       "\n",
       "    .dataframe thead th {\n",
       "        text-align: right;\n",
       "    }\n",
       "</style>\n",
       "<table border=\"1\" class=\"dataframe\">\n",
       "  <thead>\n",
       "    <tr style=\"text-align: right;\">\n",
       "      <th></th>\n",
       "      <th>item_id</th>\n",
       "      <th>sales_type</th>\n",
       "      <th>deposit</th>\n",
       "      <th>rent</th>\n",
       "      <th>size_m2</th>\n",
       "      <th>address1</th>\n",
       "      <th>manage_cost</th>\n",
       "    </tr>\n",
       "  </thead>\n",
       "  <tbody>\n",
       "    <tr>\n",
       "      <th>744</th>\n",
       "      <td>32862490</td>\n",
       "      <td>전세</td>\n",
       "      <td>43000</td>\n",
       "      <td>0</td>\n",
       "      <td>31.74</td>\n",
       "      <td>서울시 마포구 중동</td>\n",
       "      <td>5</td>\n",
       "    </tr>\n",
       "    <tr>\n",
       "      <th>745</th>\n",
       "      <td>32866975</td>\n",
       "      <td>월세</td>\n",
       "      <td>3000</td>\n",
       "      <td>90</td>\n",
       "      <td>49.59</td>\n",
       "      <td>서울시 마포구 중동</td>\n",
       "      <td>2</td>\n",
       "    </tr>\n",
       "  </tbody>\n",
       "</table>\n",
       "</div>"
      ],
      "text/plain": [
       "      item_id sales_type  deposit  rent  size_m2    address1 manage_cost\n",
       "744  32862490         전세    43000     0    31.74  서울시 마포구 중동           5\n",
       "745  32866975         월세     3000    90    49.59  서울시 마포구 중동           2"
      ]
     },
     "execution_count": 35,
     "metadata": {},
     "output_type": "execute_result"
    }
   ],
   "source": [
    "df = zb.oneroom('망원동')\n",
    "df.tail(2)"
   ]
  },
  {
   "cell_type": "code",
   "execution_count": 37,
   "id": "8fb81951-cfec-4863-8bd6-e6a75b9045a6",
   "metadata": {},
   "outputs": [
    {
     "name": "stdout",
     "output_type": "stream",
     "text": [
      "Variable      Type         Data/Info\n",
      "------------------------------------\n",
      "addr          str          마포구 합정동\n",
      "columns       list         n=7\n",
      "data          dict         n=13\n",
      "df            DataFrame          item_id sales_type <...>n\\n[746 rows x 7 columns]\n",
      "df_filtered   DataFrame         item_id sales_type  <...>n\\n[100 rows x 7 columns]\n",
      "geohash       str          wydm9\n",
      "geohash2      module       <module 'geohash2' from '<...>\\\\geohash2\\\\__init__.py'>\n",
      "ids           list         n=783\n",
      "items         list         n=783\n",
      "lat           float        37.53458023071289\n",
      "lng           float        127.00049591064453\n",
      "oneroom       function     <function oneroom at 0x000001621BBC3D30>\n",
      "params        dict         n=3\n",
      "pd            module       <module 'pandas' from 'C:<...>es\\\\pandas\\\\__init__.py'>\n",
      "requests      module       <module 'requests' from '<...>\\\\requests\\\\__init__.py'>\n",
      "response      Response     <Response [200]>\n",
      "url           str          https://apis.zigbang.com/v2/items/list\n",
      "zb            module       <module 'zigbang' from 'C<...>\\웹크롤링\\\\day2\\\\zigbang.py'>\n"
     ]
    }
   ],
   "source": [
    "%whos\n",
    "# 변수 목록"
   ]
  },
  {
   "cell_type": "code",
   "execution_count": 38,
   "id": "5c68997a-ae01-47ab-a09b-dfd4bbf0ea50",
   "metadata": {},
   "outputs": [
    {
     "name": "stdin",
     "output_type": "stream",
     "text": [
      "Once deleted, variables cannot be recovered. Proceed (y/[n])?  y\n"
     ]
    }
   ],
   "source": [
    "%reset\n",
    "# 변수 초기화"
   ]
  },
  {
   "cell_type": "code",
   "execution_count": 39,
   "id": "0eba3a18-d532-454f-81e2-66df926aeaaf",
   "metadata": {},
   "outputs": [
    {
     "name": "stdout",
     "output_type": "stream",
     "text": [
      "Interactive namespace is empty.\n"
     ]
    }
   ],
   "source": [
    "%whos"
   ]
  }
 ],
 "metadata": {
  "kernelspec": {
   "display_name": "Python 3",
   "language": "python",
   "name": "python3"
  },
  "language_info": {
   "codemirror_mode": {
    "name": "ipython",
    "version": 3
   },
   "file_extension": ".py",
   "mimetype": "text/x-python",
   "name": "python",
   "nbconvert_exporter": "python",
   "pygments_lexer": "ipython3",
   "version": "3.8.8"
  }
 },
 "nbformat": 4,
 "nbformat_minor": 5
}
