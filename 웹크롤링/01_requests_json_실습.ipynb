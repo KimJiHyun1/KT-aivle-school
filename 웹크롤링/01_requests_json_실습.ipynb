{
 "cells": [
  {
   "cell_type": "markdown",
   "id": "83841d29-d8ff-4dea-abb9-113fe68f85df",
   "metadata": {},
   "source": [
    "### Web Crawling\n",
    "- 웹페이지의 종류\n",
    "    - 정적 페이지: 페이지의 데이터가 변경될 때 URL이 변경O\n",
    "    - 동적 페이지: 페이지의 데이터가 변경될 때 URL이 변경X\n",
    "- requests package\n",
    "    - 브라우저의 URL을 입력하면 서버에서 데이터를 다운받아 화면에 출력: URL을 입력하면 data를 받아옴.\n",
    "    - requests package: URL을 입력하면 data를 받아옴."
   ]
  },
  {
   "cell_type": "markdown",
   "id": "9ae39bed-28db-4f72-866f-f23f792d55c4",
   "metadata": {},
   "source": [
    "### Naver Stock Data\n",
    "- Kospi 지수\n",
    "- Kosdaq 지수\n",
    "- USD : 원달러 환율"
   ]
  },
  {
   "cell_type": "code",
   "execution_count": 4,
   "id": "e223759d-089b-4c0c-b5ce-d358c2052e72",
   "metadata": {},
   "outputs": [],
   "source": [
    "import pandas as pd\n",
    "import requests"
   ]
  },
  {
   "cell_type": "code",
   "execution_count": 5,
   "id": "263e0c5a-5c49-4349-b7dd-0062c1da7e4f",
   "metadata": {},
   "outputs": [],
   "source": [
    "# 1. 웹서비스를 분석: 크롬 개발자 도구를 사용 -> URL 알아내기"
   ]
  },
  {
   "cell_type": "markdown",
   "id": "402e8039-6ca0-4249-a42f-b412048e9075",
   "metadata": {},
   "source": [
    "네이버 코스피 https://finance.naver.com/sise/sise_index.naver?code=KOSPI  \n",
    "1페이지 2페이지 눌러도 URL이 바뀌지 않음 = 동적 페이지 -> JSON 포맷의 데이터를 수집해와야 함  \n",
    "\n",
    "웹페이지는 정보가 너무 많으니 모바일 페이지로 본다  \n",
    "https://m.stock.naver.com/domestic/index/KOSPI"
   ]
  },
  {
   "cell_type": "code",
   "execution_count": 6,
   "id": "60092cc1-c5dc-4957-bd87-de7c1f144aee",
   "metadata": {},
   "outputs": [],
   "source": [
    "url = 'https://m.stock.naver.com/api/index/KOSPI/price?pageSize=10&page=3'"
   ]
  },
  {
   "cell_type": "code",
   "execution_count": 7,
   "id": "d5c6c223-0176-4a9f-9aae-defe096184d8",
   "metadata": {},
   "outputs": [],
   "source": [
    "# 2. Request(데이터 요청) > response(데이터 받아오기) => JSON 포맷의 str 타입 데이터를 받아옴."
   ]
  },
  {
   "cell_type": "code",
   "execution_count": 8,
   "id": "786b08e9-0383-48ce-8f77-55fbb671ec7a",
   "metadata": {},
   "outputs": [
    {
     "name": "stdout",
     "output_type": "stream",
     "text": [
      "<Response [200]>\n"
     ]
    }
   ],
   "source": [
    "response = requests.get(url)\n",
    "print(response) # status code 200 => 잘 가져왔다!"
   ]
  },
  {
   "cell_type": "code",
   "execution_count": 9,
   "id": "70837fbf-d7fb-470e-95ec-5dd07aeec897",
   "metadata": {},
   "outputs": [
    {
     "name": "stdout",
     "output_type": "stream",
     "text": [
      "[{\"localTradedAt\":\"2022-07-06\",\"closePrice\":\"2,292.01\",\"compareToPreviousClosePrice\":\"-49.77\",\"compareToPreviousPrice\":{\"code\":\"5\",\"text\":\"하락\",\"name\":\"FALLING\"},\"fluctuationsRatio\":\"-2.13\",\"openPrice\" \n",
      "\n",
      "<class 'str'>\n"
     ]
    }
   ],
   "source": [
    "print(response.text[:200],'\\n')\n",
    "print(type(response.text)) # str 타입 "
   ]
  },
  {
   "cell_type": "code",
   "execution_count": 10,
   "id": "1ab61d90-9b7a-4873-9cb4-8df3e5cd3279",
   "metadata": {},
   "outputs": [],
   "source": [
    "# 3. JSON(str) > list, dict > DataFrame으로 변환 "
   ]
  },
  {
   "cell_type": "code",
   "execution_count": 11,
   "id": "fabc1934-0c74-4ba1-a5f5-03be99c94eb3",
   "metadata": {},
   "outputs": [
    {
     "name": "stdout",
     "output_type": "stream",
     "text": [
      "<class 'list'> \n",
      "\n",
      "{'localTradedAt': '2022-07-06', 'closePrice': '2,292.01', 'compareToPreviousClosePrice': '-49.77', 'compareToPreviousPrice': {'code': '5', 'text': '하락', 'name': 'FALLING'}, 'fluctuationsRatio': '-2.13', 'openPrice': '2,330.11', 'highPrice': '2,332.14', 'lowPrice': '2,290.33'}\n"
     ]
    }
   ],
   "source": [
    "data = response.json()\n",
    "print(type(data),'\\n')\n",
    "print(data[0])"
   ]
  },
  {
   "cell_type": "code",
   "execution_count": 12,
   "id": "b4b0a43c-8906-4a97-a41d-4835fb4c4958",
   "metadata": {},
   "outputs": [
    {
     "data": {
      "text/html": [
       "<div>\n",
       "<style scoped>\n",
       "    .dataframe tbody tr th:only-of-type {\n",
       "        vertical-align: middle;\n",
       "    }\n",
       "\n",
       "    .dataframe tbody tr th {\n",
       "        vertical-align: top;\n",
       "    }\n",
       "\n",
       "    .dataframe thead th {\n",
       "        text-align: right;\n",
       "    }\n",
       "</style>\n",
       "<table border=\"1\" class=\"dataframe\">\n",
       "  <thead>\n",
       "    <tr style=\"text-align: right;\">\n",
       "      <th></th>\n",
       "      <th>localTradedAt</th>\n",
       "      <th>closePrice</th>\n",
       "    </tr>\n",
       "  </thead>\n",
       "  <tbody>\n",
       "    <tr>\n",
       "      <th>0</th>\n",
       "      <td>2022-07-06</td>\n",
       "      <td>2,292.01</td>\n",
       "    </tr>\n",
       "    <tr>\n",
       "      <th>1</th>\n",
       "      <td>2022-07-05</td>\n",
       "      <td>2,341.78</td>\n",
       "    </tr>\n",
       "    <tr>\n",
       "      <th>2</th>\n",
       "      <td>2022-07-04</td>\n",
       "      <td>2,300.34</td>\n",
       "    </tr>\n",
       "    <tr>\n",
       "      <th>3</th>\n",
       "      <td>2022-07-01</td>\n",
       "      <td>2,305.42</td>\n",
       "    </tr>\n",
       "    <tr>\n",
       "      <th>4</th>\n",
       "      <td>2022-06-30</td>\n",
       "      <td>2,332.64</td>\n",
       "    </tr>\n",
       "  </tbody>\n",
       "</table>\n",
       "</div>"
      ],
      "text/plain": [
       "  localTradedAt closePrice\n",
       "0    2022-07-06   2,292.01\n",
       "1    2022-07-05   2,341.78\n",
       "2    2022-07-04   2,300.34\n",
       "3    2022-07-01   2,305.42\n",
       "4    2022-06-30   2,332.64"
      ]
     },
     "execution_count": 12,
     "metadata": {},
     "output_type": "execute_result"
    }
   ],
   "source": [
    "df = pd.DataFrame(data)[['localTradedAt', 'closePrice']] # 날짜랑 종가 데이터만 가져옴 \n",
    "df.head()"
   ]
  },
  {
   "cell_type": "code",
   "execution_count": 13,
   "id": "e5d8b8b0-2296-4e4a-bbaa-ab18add21e0f",
   "metadata": {},
   "outputs": [],
   "source": [
    "# 4. 함수 만들기\n",
    "# params = pagesize, page"
   ]
  },
  {
   "cell_type": "code",
   "execution_count": 14,
   "id": "d30a8d0d-89d4-458c-9fc6-d21796d6672e",
   "metadata": {},
   "outputs": [],
   "source": [
    "def stock_price(pagesize, page): # pagesize는 60까지 사용 \n",
    "    url = f'https://m.stock.naver.com/api/index/KOSPI/price?pageSize={pagesize}&page={page}'\n",
    "    response = requests.get(url)\n",
    "    data = response.json()\n",
    "    df = pd.DataFrame(data)[['localTradedAt', 'closePrice']]\n",
    "    return df"
   ]
  },
  {
   "cell_type": "code",
   "execution_count": 15,
   "id": "175a2053-de82-401c-927b-2bf17a991f39",
   "metadata": {},
   "outputs": [
    {
     "data": {
      "text/html": [
       "<div>\n",
       "<style scoped>\n",
       "    .dataframe tbody tr th:only-of-type {\n",
       "        vertical-align: middle;\n",
       "    }\n",
       "\n",
       "    .dataframe tbody tr th {\n",
       "        vertical-align: top;\n",
       "    }\n",
       "\n",
       "    .dataframe thead th {\n",
       "        text-align: right;\n",
       "    }\n",
       "</style>\n",
       "<table border=\"1\" class=\"dataframe\">\n",
       "  <thead>\n",
       "    <tr style=\"text-align: right;\">\n",
       "      <th></th>\n",
       "      <th>localTradedAt</th>\n",
       "      <th>closePrice</th>\n",
       "    </tr>\n",
       "  </thead>\n",
       "  <tbody>\n",
       "    <tr>\n",
       "      <th>0</th>\n",
       "      <td>2022-07-27</td>\n",
       "      <td>2,415.53</td>\n",
       "    </tr>\n",
       "    <tr>\n",
       "      <th>1</th>\n",
       "      <td>2022-07-26</td>\n",
       "      <td>2,412.96</td>\n",
       "    </tr>\n",
       "    <tr>\n",
       "      <th>2</th>\n",
       "      <td>2022-07-25</td>\n",
       "      <td>2,403.69</td>\n",
       "    </tr>\n",
       "    <tr>\n",
       "      <th>3</th>\n",
       "      <td>2022-07-22</td>\n",
       "      <td>2,393.14</td>\n",
       "    </tr>\n",
       "    <tr>\n",
       "      <th>4</th>\n",
       "      <td>2022-07-21</td>\n",
       "      <td>2,409.16</td>\n",
       "    </tr>\n",
       "  </tbody>\n",
       "</table>\n",
       "</div>"
      ],
      "text/plain": [
       "  localTradedAt closePrice\n",
       "0    2022-07-27   2,415.53\n",
       "1    2022-07-26   2,412.96\n",
       "2    2022-07-25   2,403.69\n",
       "3    2022-07-22   2,393.14\n",
       "4    2022-07-21   2,409.16"
      ]
     },
     "execution_count": 15,
     "metadata": {},
     "output_type": "execute_result"
    }
   ],
   "source": [
    "stock_price(5,2)"
   ]
  },
  {
   "cell_type": "code",
   "execution_count": 16,
   "id": "c472c8ef-b340-45e8-8c5e-4ef9bc4f0dc0",
   "metadata": {},
   "outputs": [],
   "source": [
    "# KOSDAQ 데이터 수집 코드 작성"
   ]
  },
  {
   "cell_type": "code",
   "execution_count": 17,
   "id": "4da0bf1d-7297-461d-9d68-a2919b00887d",
   "metadata": {},
   "outputs": [],
   "source": [
    "# 1. 웹서비스 분석: URL"
   ]
  },
  {
   "cell_type": "code",
   "execution_count": 18,
   "id": "6bf8d4aa-ac51-4f4a-9e9f-bb8ac912f491",
   "metadata": {},
   "outputs": [],
   "source": [
    "url = 'https://m.stock.naver.com/api/index/KOSDAQ/price?pageSize=10&page=2'"
   ]
  },
  {
   "cell_type": "code",
   "execution_count": 19,
   "id": "5afeaa99-7a07-4535-9cc3-d857d2b8042f",
   "metadata": {},
   "outputs": [],
   "source": [
    "# 2. Request > response: JSON(str)"
   ]
  },
  {
   "cell_type": "code",
   "execution_count": 20,
   "id": "65504fbf-8c4e-4197-849f-4f8d357b1226",
   "metadata": {},
   "outputs": [
    {
     "name": "stdout",
     "output_type": "stream",
     "text": [
      "<Response [200]>\n"
     ]
    }
   ],
   "source": [
    "response = requests.get(url)\n",
    "print(response)"
   ]
  },
  {
   "cell_type": "code",
   "execution_count": 21,
   "id": "c93a089d-2b69-430c-a7ca-9b503ef42d06",
   "metadata": {},
   "outputs": [],
   "source": [
    "# 3. JSON(str) > list, dict > DataFrame"
   ]
  },
  {
   "cell_type": "code",
   "execution_count": 22,
   "id": "18807778-9ac7-4de6-aa79-81b14b4b9a4e",
   "metadata": {},
   "outputs": [
    {
     "data": {
      "text/html": [
       "<div>\n",
       "<style scoped>\n",
       "    .dataframe tbody tr th:only-of-type {\n",
       "        vertical-align: middle;\n",
       "    }\n",
       "\n",
       "    .dataframe tbody tr th {\n",
       "        vertical-align: top;\n",
       "    }\n",
       "\n",
       "    .dataframe thead th {\n",
       "        text-align: right;\n",
       "    }\n",
       "</style>\n",
       "<table border=\"1\" class=\"dataframe\">\n",
       "  <thead>\n",
       "    <tr style=\"text-align: right;\">\n",
       "      <th></th>\n",
       "      <th>localTradedAt</th>\n",
       "      <th>closePrice</th>\n",
       "    </tr>\n",
       "  </thead>\n",
       "  <tbody>\n",
       "    <tr>\n",
       "      <th>0</th>\n",
       "      <td>2022-07-20</td>\n",
       "      <td>790.72</td>\n",
       "    </tr>\n",
       "    <tr>\n",
       "      <th>1</th>\n",
       "      <td>2022-07-19</td>\n",
       "      <td>782.33</td>\n",
       "    </tr>\n",
       "    <tr>\n",
       "      <th>2</th>\n",
       "      <td>2022-07-18</td>\n",
       "      <td>776.72</td>\n",
       "    </tr>\n",
       "    <tr>\n",
       "      <th>3</th>\n",
       "      <td>2022-07-15</td>\n",
       "      <td>762.39</td>\n",
       "    </tr>\n",
       "    <tr>\n",
       "      <th>4</th>\n",
       "      <td>2022-07-14</td>\n",
       "      <td>766.08</td>\n",
       "    </tr>\n",
       "  </tbody>\n",
       "</table>\n",
       "</div>"
      ],
      "text/plain": [
       "  localTradedAt closePrice\n",
       "0    2022-07-20     790.72\n",
       "1    2022-07-19     782.33\n",
       "2    2022-07-18     776.72\n",
       "3    2022-07-15     762.39\n",
       "4    2022-07-14     766.08"
      ]
     },
     "execution_count": 22,
     "metadata": {},
     "output_type": "execute_result"
    }
   ],
   "source": [
    "data = response.json()\n",
    "df = pd.DataFrame(data)[['localTradedAt', 'closePrice']]\n",
    "df.head()"
   ]
  },
  {
   "cell_type": "code",
   "execution_count": 23,
   "id": "666f3a78-0033-4255-9e23-87d9545269ee",
   "metadata": {},
   "outputs": [],
   "source": [
    "# 4. 함수 만들기\n",
    "# params = pagesize, page, code = KOSPI"
   ]
  },
  {
   "cell_type": "code",
   "execution_count": 24,
   "id": "4002573b-d391-4f50-b83f-c911c7761b92",
   "metadata": {},
   "outputs": [],
   "source": [
    "def stock_price(pagesize, page, code='KOSPI'): # pagesize는 60까지 사용 # 기본은 코스피 데이터 가져오기\n",
    "    # docstring : 함수를 사용하는 방법을 문자열로 작성\n",
    "    \"\"\"This function is crawling stock price from naver webpage.\n",
    "    \n",
    "    Params\n",
    "    ------\n",
    "    pagesize : int : one page size\n",
    "    page : int : page number\n",
    "    code : str : KOSPI or KOSDAQ\n",
    "    \n",
    "    Return\n",
    "    ------\n",
    "    type : DataFrame : display date, price columns\n",
    "    \"\"\"\n",
    "    url = f'https://m.stock.naver.com/api/index/{code}/price?pageSize={pagesize}&page={page}'\n",
    "    response = requests.get(url)\n",
    "    data = response.json()\n",
    "    df = pd.DataFrame(data)[['localTradedAt', 'closePrice']]\n",
    "    return df"
   ]
  },
  {
   "cell_type": "code",
   "execution_count": 25,
   "id": "09848247-914d-46e8-867f-aa8dd14deaa3",
   "metadata": {},
   "outputs": [],
   "source": [
    "kospi = stock_price(60, 1)\n",
    "kosdaq = stock_price(60, 1, 'KOSDAQ')"
   ]
  },
  {
   "cell_type": "code",
   "execution_count": 26,
   "id": "01d84b27-fd1a-494c-94c2-98604a7f73ee",
   "metadata": {},
   "outputs": [
    {
     "name": "stdout",
     "output_type": "stream",
     "text": [
      "Help on function stock_price in module __main__:\n",
      "\n",
      "stock_price(pagesize, page, code='KOSPI')\n",
      "    This function is crawling stock price from naver webpage.\n",
      "    \n",
      "    Params\n",
      "    ------\n",
      "    pagesize : int : one page size\n",
      "    page : int : page number\n",
      "    code : str : KOSPI or KOSDAQ\n",
      "    \n",
      "    Return\n",
      "    ------\n",
      "    type : DataFrame : display date, price columns\n",
      "\n"
     ]
    }
   ],
   "source": [
    "# docstring : 함수를 사용하는 방법을 문자열로 작성\n",
    "# help()를 쓰거나, 함수 이름(함수 이름만 쓰고)에서 shift + tab\n",
    "help(stock_price)"
   ]
  },
  {
   "cell_type": "markdown",
   "id": "1fb61b06-c1b2-4411-916a-95cfa85ab722",
   "metadata": {},
   "source": [
    "* 원달러 환율 데이터 수집 코드 작성"
   ]
  },
  {
   "cell_type": "code",
   "execution_count": 27,
   "id": "85c426ab-84e0-4a66-bb00-0fed4c718b5f",
   "metadata": {},
   "outputs": [],
   "source": [
    "def ExchangeRate(pagesize, page, country = 'USD'):\n",
    "    url = f'https://api.stock.naver.com/marketindex/exchange/FX_{country}KRW/prices?page={page}&pageSize={pagesize}'\n",
    "    response = requests.get(url)\n",
    "    data = response.json()\n",
    "    df = pd.DataFrame(data)[['localTradedAt', 'closePrice']]\n",
    "    return df"
   ]
  },
  {
   "cell_type": "code",
   "execution_count": 28,
   "id": "1b9a1c38-a9da-4877-a0a0-f71103ac4316",
   "metadata": {},
   "outputs": [],
   "source": [
    "usd = ExchangeRate(60,1) # 최근 60일치 원달러 환율 데이터\n",
    "eur = ExchangeRate(60, 1, 'EUR')\n",
    "jpy = ExchangeRate(60, 1, 'JPY')\n",
    "cny = ExchangeRate(60, 1, 'CNY')"
   ]
  },
  {
   "cell_type": "code",
   "execution_count": 29,
   "id": "fecef609-65af-4a70-96e6-111175ffca1b",
   "metadata": {},
   "outputs": [
    {
     "data": {
      "text/html": [
       "<div>\n",
       "<style scoped>\n",
       "    .dataframe tbody tr th:only-of-type {\n",
       "        vertical-align: middle;\n",
       "    }\n",
       "\n",
       "    .dataframe tbody tr th {\n",
       "        vertical-align: top;\n",
       "    }\n",
       "\n",
       "    .dataframe thead th {\n",
       "        text-align: right;\n",
       "    }\n",
       "</style>\n",
       "<table border=\"1\" class=\"dataframe\">\n",
       "  <thead>\n",
       "    <tr style=\"text-align: right;\">\n",
       "      <th></th>\n",
       "      <th>localTradedAt</th>\n",
       "      <th>closePrice</th>\n",
       "    </tr>\n",
       "  </thead>\n",
       "  <tbody>\n",
       "    <tr>\n",
       "      <th>57</th>\n",
       "      <td>2022-05-12</td>\n",
       "      <td>2,550.08</td>\n",
       "    </tr>\n",
       "    <tr>\n",
       "      <th>58</th>\n",
       "      <td>2022-05-11</td>\n",
       "      <td>2,592.27</td>\n",
       "    </tr>\n",
       "    <tr>\n",
       "      <th>59</th>\n",
       "      <td>2022-05-10</td>\n",
       "      <td>2,596.56</td>\n",
       "    </tr>\n",
       "  </tbody>\n",
       "</table>\n",
       "</div>"
      ],
      "text/plain": [
       "   localTradedAt closePrice\n",
       "57    2022-05-12   2,550.08\n",
       "58    2022-05-11   2,592.27\n",
       "59    2022-05-10   2,596.56"
      ]
     },
     "metadata": {},
     "output_type": "display_data"
    },
    {
     "data": {
      "text/html": [
       "<div>\n",
       "<style scoped>\n",
       "    .dataframe tbody tr th:only-of-type {\n",
       "        vertical-align: middle;\n",
       "    }\n",
       "\n",
       "    .dataframe tbody tr th {\n",
       "        vertical-align: top;\n",
       "    }\n",
       "\n",
       "    .dataframe thead th {\n",
       "        text-align: right;\n",
       "    }\n",
       "</style>\n",
       "<table border=\"1\" class=\"dataframe\">\n",
       "  <thead>\n",
       "    <tr style=\"text-align: right;\">\n",
       "      <th></th>\n",
       "      <th>localTradedAt</th>\n",
       "      <th>closePrice</th>\n",
       "    </tr>\n",
       "  </thead>\n",
       "  <tbody>\n",
       "    <tr>\n",
       "      <th>57</th>\n",
       "      <td>2022-05-12</td>\n",
       "      <td>833.66</td>\n",
       "    </tr>\n",
       "    <tr>\n",
       "      <th>58</th>\n",
       "      <td>2022-05-11</td>\n",
       "      <td>866.34</td>\n",
       "    </tr>\n",
       "    <tr>\n",
       "      <th>59</th>\n",
       "      <td>2022-05-10</td>\n",
       "      <td>856.14</td>\n",
       "    </tr>\n",
       "  </tbody>\n",
       "</table>\n",
       "</div>"
      ],
      "text/plain": [
       "   localTradedAt closePrice\n",
       "57    2022-05-12     833.66\n",
       "58    2022-05-11     866.34\n",
       "59    2022-05-10     856.14"
      ]
     },
     "metadata": {},
     "output_type": "display_data"
    },
    {
     "data": {
      "text/html": [
       "<div>\n",
       "<style scoped>\n",
       "    .dataframe tbody tr th:only-of-type {\n",
       "        vertical-align: middle;\n",
       "    }\n",
       "\n",
       "    .dataframe tbody tr th {\n",
       "        vertical-align: top;\n",
       "    }\n",
       "\n",
       "    .dataframe thead th {\n",
       "        text-align: right;\n",
       "    }\n",
       "</style>\n",
       "<table border=\"1\" class=\"dataframe\">\n",
       "  <thead>\n",
       "    <tr style=\"text-align: right;\">\n",
       "      <th></th>\n",
       "      <th>localTradedAt</th>\n",
       "      <th>closePrice</th>\n",
       "    </tr>\n",
       "  </thead>\n",
       "  <tbody>\n",
       "    <tr>\n",
       "      <th>57</th>\n",
       "      <td>2022-05-12</td>\n",
       "      <td>1,290.50</td>\n",
       "    </tr>\n",
       "    <tr>\n",
       "      <th>58</th>\n",
       "      <td>2022-05-11</td>\n",
       "      <td>1,274.50</td>\n",
       "    </tr>\n",
       "    <tr>\n",
       "      <th>59</th>\n",
       "      <td>2022-05-10</td>\n",
       "      <td>1,276.00</td>\n",
       "    </tr>\n",
       "  </tbody>\n",
       "</table>\n",
       "</div>"
      ],
      "text/plain": [
       "   localTradedAt closePrice\n",
       "57    2022-05-12   1,290.50\n",
       "58    2022-05-11   1,274.50\n",
       "59    2022-05-10   1,276.00"
      ]
     },
     "metadata": {},
     "output_type": "display_data"
    },
    {
     "data": {
      "text/html": [
       "<div>\n",
       "<style scoped>\n",
       "    .dataframe tbody tr th:only-of-type {\n",
       "        vertical-align: middle;\n",
       "    }\n",
       "\n",
       "    .dataframe tbody tr th {\n",
       "        vertical-align: top;\n",
       "    }\n",
       "\n",
       "    .dataframe thead th {\n",
       "        text-align: right;\n",
       "    }\n",
       "</style>\n",
       "<table border=\"1\" class=\"dataframe\">\n",
       "  <thead>\n",
       "    <tr style=\"text-align: right;\">\n",
       "      <th></th>\n",
       "      <th>localTradedAt</th>\n",
       "      <th>closePrice</th>\n",
       "    </tr>\n",
       "  </thead>\n",
       "  <tbody>\n",
       "    <tr>\n",
       "      <th>57</th>\n",
       "      <td>2022-05-12</td>\n",
       "      <td>1,347.02</td>\n",
       "    </tr>\n",
       "    <tr>\n",
       "      <th>58</th>\n",
       "      <td>2022-05-11</td>\n",
       "      <td>1,343.77</td>\n",
       "    </tr>\n",
       "    <tr>\n",
       "      <th>59</th>\n",
       "      <td>2022-05-10</td>\n",
       "      <td>1,346.56</td>\n",
       "    </tr>\n",
       "  </tbody>\n",
       "</table>\n",
       "</div>"
      ],
      "text/plain": [
       "   localTradedAt closePrice\n",
       "57    2022-05-12   1,347.02\n",
       "58    2022-05-11   1,343.77\n",
       "59    2022-05-10   1,346.56"
      ]
     },
     "metadata": {},
     "output_type": "display_data"
    },
    {
     "data": {
      "text/html": [
       "<div>\n",
       "<style scoped>\n",
       "    .dataframe tbody tr th:only-of-type {\n",
       "        vertical-align: middle;\n",
       "    }\n",
       "\n",
       "    .dataframe tbody tr th {\n",
       "        vertical-align: top;\n",
       "    }\n",
       "\n",
       "    .dataframe thead th {\n",
       "        text-align: right;\n",
       "    }\n",
       "</style>\n",
       "<table border=\"1\" class=\"dataframe\">\n",
       "  <thead>\n",
       "    <tr style=\"text-align: right;\">\n",
       "      <th></th>\n",
       "      <th>localTradedAt</th>\n",
       "      <th>closePrice</th>\n",
       "    </tr>\n",
       "  </thead>\n",
       "  <tbody>\n",
       "    <tr>\n",
       "      <th>57</th>\n",
       "      <td>2022-05-12</td>\n",
       "      <td>1,002.68</td>\n",
       "    </tr>\n",
       "    <tr>\n",
       "      <th>58</th>\n",
       "      <td>2022-05-11</td>\n",
       "      <td>981.55</td>\n",
       "    </tr>\n",
       "    <tr>\n",
       "      <th>59</th>\n",
       "      <td>2022-05-10</td>\n",
       "      <td>980.75</td>\n",
       "    </tr>\n",
       "  </tbody>\n",
       "</table>\n",
       "</div>"
      ],
      "text/plain": [
       "   localTradedAt closePrice\n",
       "57    2022-05-12   1,002.68\n",
       "58    2022-05-11     981.55\n",
       "59    2022-05-10     980.75"
      ]
     },
     "metadata": {},
     "output_type": "display_data"
    },
    {
     "data": {
      "text/html": [
       "<div>\n",
       "<style scoped>\n",
       "    .dataframe tbody tr th:only-of-type {\n",
       "        vertical-align: middle;\n",
       "    }\n",
       "\n",
       "    .dataframe tbody tr th {\n",
       "        vertical-align: top;\n",
       "    }\n",
       "\n",
       "    .dataframe thead th {\n",
       "        text-align: right;\n",
       "    }\n",
       "</style>\n",
       "<table border=\"1\" class=\"dataframe\">\n",
       "  <thead>\n",
       "    <tr style=\"text-align: right;\">\n",
       "      <th></th>\n",
       "      <th>localTradedAt</th>\n",
       "      <th>closePrice</th>\n",
       "    </tr>\n",
       "  </thead>\n",
       "  <tbody>\n",
       "    <tr>\n",
       "      <th>57</th>\n",
       "      <td>2022-05-12</td>\n",
       "      <td>189.48</td>\n",
       "    </tr>\n",
       "    <tr>\n",
       "      <th>58</th>\n",
       "      <td>2022-05-11</td>\n",
       "      <td>189.10</td>\n",
       "    </tr>\n",
       "    <tr>\n",
       "      <th>59</th>\n",
       "      <td>2022-05-10</td>\n",
       "      <td>188.97</td>\n",
       "    </tr>\n",
       "  </tbody>\n",
       "</table>\n",
       "</div>"
      ],
      "text/plain": [
       "   localTradedAt closePrice\n",
       "57    2022-05-12     189.48\n",
       "58    2022-05-11     189.10\n",
       "59    2022-05-10     188.97"
      ]
     },
     "metadata": {},
     "output_type": "display_data"
    }
   ],
   "source": [
    "display(kospi.tail(3))\n",
    "display(kosdaq.tail(3))\n",
    "display(usd.tail(3))\n",
    "display(eur.tail(3))\n",
    "display(jpy.tail(3))\n",
    "display(cny.tail(3))"
   ]
  },
  {
   "cell_type": "code",
   "execution_count": 30,
   "id": "3907827b-54c3-40ff-b2cf-e68413d09429",
   "metadata": {},
   "outputs": [],
   "source": [
    "# 데이터 분석\n",
    "# 상관 관계 분석: 두 데이터 집합 사이에 어떤 관계가 있는 확인하는 분석 방법\n",
    "# 원달러 환율이 높으면 코스피, 코스닥 지수가 낮다 = 음의 상관 관계를 갖는다"
   ]
  },
  {
   "cell_type": "code",
   "execution_count": 31,
   "id": "5a14f5f9-b98b-4ff1-9015-7f0973ff064c",
   "metadata": {},
   "outputs": [],
   "source": [
    "# 피어슨 상관계수: df.corr()\n",
    "# 1과 가까울수록 강한 양의 상관 관계를 갖는다.\n",
    "# -1과 가까울수록 강한 음의 상관 관계를 갖는다.\n",
    "# 0과 가까울수록 관계가 없다."
   ]
  },
  {
   "cell_type": "code",
   "execution_count": 54,
   "id": "ca74a89d-3271-4318-b176-f5cdc3beda14",
   "metadata": {},
   "outputs": [
    {
     "data": {
      "text/html": [
       "<div>\n",
       "<style scoped>\n",
       "    .dataframe tbody tr th:only-of-type {\n",
       "        vertical-align: middle;\n",
       "    }\n",
       "\n",
       "    .dataframe tbody tr th {\n",
       "        vertical-align: top;\n",
       "    }\n",
       "\n",
       "    .dataframe thead th {\n",
       "        text-align: right;\n",
       "    }\n",
       "</style>\n",
       "<table border=\"1\" class=\"dataframe\">\n",
       "  <thead>\n",
       "    <tr style=\"text-align: right;\">\n",
       "      <th></th>\n",
       "      <th>localTradedAt</th>\n",
       "      <th>kospi</th>\n",
       "      <th>kosdaq</th>\n",
       "      <th>usd</th>\n",
       "    </tr>\n",
       "  </thead>\n",
       "  <tbody>\n",
       "    <tr>\n",
       "      <th>55</th>\n",
       "      <td>2022-05-16</td>\n",
       "      <td>2,596.58</td>\n",
       "      <td>856.25</td>\n",
       "      <td>1,285.00</td>\n",
       "    </tr>\n",
       "    <tr>\n",
       "      <th>56</th>\n",
       "      <td>2022-05-13</td>\n",
       "      <td>2,604.24</td>\n",
       "      <td>853.08</td>\n",
       "      <td>1,284.00</td>\n",
       "    </tr>\n",
       "    <tr>\n",
       "      <th>57</th>\n",
       "      <td>2022-05-12</td>\n",
       "      <td>2,550.08</td>\n",
       "      <td>833.66</td>\n",
       "      <td>1,290.50</td>\n",
       "    </tr>\n",
       "    <tr>\n",
       "      <th>58</th>\n",
       "      <td>2022-05-11</td>\n",
       "      <td>2,592.27</td>\n",
       "      <td>866.34</td>\n",
       "      <td>1,274.50</td>\n",
       "    </tr>\n",
       "    <tr>\n",
       "      <th>59</th>\n",
       "      <td>2022-05-10</td>\n",
       "      <td>2,596.56</td>\n",
       "      <td>856.14</td>\n",
       "      <td>1,276.00</td>\n",
       "    </tr>\n",
       "  </tbody>\n",
       "</table>\n",
       "</div>"
      ],
      "text/plain": [
       "   localTradedAt     kospi  kosdaq       usd\n",
       "55    2022-05-16  2,596.58  856.25  1,285.00\n",
       "56    2022-05-13  2,604.24  853.08  1,284.00\n",
       "57    2022-05-12  2,550.08  833.66  1,290.50\n",
       "58    2022-05-11  2,592.27  866.34  1,274.50\n",
       "59    2022-05-10  2,596.56  856.14  1,276.00"
      ]
     },
     "execution_count": 54,
     "metadata": {},
     "output_type": "execute_result"
    }
   ],
   "source": [
    "# 데이터 전처리\n",
    "df = kospi.copy()\n",
    "df['kosdaq'] = kosdaq['closePrice']\n",
    "df['usd'] = usd['closePrice']\n",
    "df = df.rename(columns={'closePrice':'kospi'})\n",
    "df.tail()"
   ]
  },
  {
   "cell_type": "code",
   "execution_count": 33,
   "id": "1e8075cc-5d73-4b96-967a-39c141094430",
   "metadata": {},
   "outputs": [
    {
     "data": {
      "text/html": [
       "<div>\n",
       "<style scoped>\n",
       "    .dataframe tbody tr th:only-of-type {\n",
       "        vertical-align: middle;\n",
       "    }\n",
       "\n",
       "    .dataframe tbody tr th {\n",
       "        vertical-align: top;\n",
       "    }\n",
       "\n",
       "    .dataframe thead th {\n",
       "        text-align: right;\n",
       "    }\n",
       "</style>\n",
       "<table border=\"1\" class=\"dataframe\">\n",
       "  <thead>\n",
       "    <tr style=\"text-align: right;\">\n",
       "      <th></th>\n",
       "    </tr>\n",
       "  </thead>\n",
       "  <tbody>\n",
       "  </tbody>\n",
       "</table>\n",
       "</div>"
      ],
      "text/plain": [
       "Empty DataFrame\n",
       "Columns: []\n",
       "Index: []"
      ]
     },
     "execution_count": 33,
     "metadata": {},
     "output_type": "execute_result"
    }
   ],
   "source": [
    "df[['kospi','kosdaq','usd']].corr() # 아무 것도 안나옴"
   ]
  },
  {
   "cell_type": "code",
   "execution_count": 34,
   "id": "23b21db0-a978-427c-9aef-77e4adba6902",
   "metadata": {},
   "outputs": [
    {
     "data": {
      "text/plain": [
       "localTradedAt    object\n",
       "kospi            object\n",
       "kosdaq           object\n",
       "usd              object\n",
       "dtype: object"
      ]
     },
     "execution_count": 34,
     "metadata": {},
     "output_type": "execute_result"
    }
   ],
   "source": [
    "df.dtypes # 왜냐면 type이 문자열이라서... int나 float으로 바꿔줘야함"
   ]
  },
  {
   "cell_type": "code",
   "execution_count": 55,
   "id": "443c6c0a-ab44-4363-b7be-f050057cd88b",
   "metadata": {},
   "outputs": [],
   "source": [
    "# 컬럼 데이터 타입 변경: str > float\n",
    "# df[column].apply(): 모든 데이터를 함수에 대입한 결과를 출력 \n",
    "df['kospi'] = df['kospi'].apply(lambda data: float(data.replace(\",\",\"\")))\n",
    "df['kosdaq'] = df['kosdaq'].apply(lambda data: float(data.replace(\",\",\"\")))\n",
    "df['usd'] = df['usd'].apply(lambda data: float(data.replace(\",\",\"\")))"
   ]
  },
  {
   "cell_type": "code",
   "execution_count": 56,
   "id": "c1b20293-2a63-4821-b4b3-1f3d66afe68b",
   "metadata": {},
   "outputs": [
    {
     "data": {
      "text/plain": [
       "localTradedAt     object\n",
       "kospi            float64\n",
       "kosdaq           float64\n",
       "usd              float64\n",
       "dtype: object"
      ]
     },
     "execution_count": 56,
     "metadata": {},
     "output_type": "execute_result"
    }
   ],
   "source": [
    "df.dtypes"
   ]
  },
  {
   "cell_type": "code",
   "execution_count": 37,
   "id": "6c09b829-07ab-4ffc-9edf-d182aee9bb51",
   "metadata": {},
   "outputs": [
    {
     "data": {
      "text/html": [
       "<div>\n",
       "<style scoped>\n",
       "    .dataframe tbody tr th:only-of-type {\n",
       "        vertical-align: middle;\n",
       "    }\n",
       "\n",
       "    .dataframe tbody tr th {\n",
       "        vertical-align: top;\n",
       "    }\n",
       "\n",
       "    .dataframe thead th {\n",
       "        text-align: right;\n",
       "    }\n",
       "</style>\n",
       "<table border=\"1\" class=\"dataframe\">\n",
       "  <thead>\n",
       "    <tr style=\"text-align: right;\">\n",
       "      <th></th>\n",
       "      <th>kospi</th>\n",
       "      <th>kosdaq</th>\n",
       "      <th>usd</th>\n",
       "    </tr>\n",
       "  </thead>\n",
       "  <tbody>\n",
       "    <tr>\n",
       "      <th>kospi</th>\n",
       "      <td>1.000000</td>\n",
       "      <td>0.984073</td>\n",
       "      <td>-0.878312</td>\n",
       "    </tr>\n",
       "    <tr>\n",
       "      <th>kosdaq</th>\n",
       "      <td>0.984073</td>\n",
       "      <td>1.000000</td>\n",
       "      <td>-0.821434</td>\n",
       "    </tr>\n",
       "    <tr>\n",
       "      <th>usd</th>\n",
       "      <td>-0.878312</td>\n",
       "      <td>-0.821434</td>\n",
       "      <td>1.000000</td>\n",
       "    </tr>\n",
       "  </tbody>\n",
       "</table>\n",
       "</div>"
      ],
      "text/plain": [
       "           kospi    kosdaq       usd\n",
       "kospi   1.000000  0.984073 -0.878312\n",
       "kosdaq  0.984073  1.000000 -0.821434\n",
       "usd    -0.878312 -0.821434  1.000000"
      ]
     },
     "execution_count": 37,
     "metadata": {},
     "output_type": "execute_result"
    }
   ],
   "source": [
    "df[['kospi','kosdaq','usd']].corr()"
   ]
  },
  {
   "cell_type": "code",
   "execution_count": 38,
   "id": "e60d9d08-d56c-4e84-ad0c-0c830f0a10d8",
   "metadata": {},
   "outputs": [],
   "source": [
    "# kospi - kosdq : 0.984 => 1과 가까우면 강한 양의 상관 관계 \n",
    "# kospi - usd : -0.878 => -1과 가까우면 강한 음의 상관 관계 \n",
    "# ~> 원달러 환율이 높으므로 코스피가 낮다. 그러므로 코스피를 사라..!"
   ]
  },
  {
   "cell_type": "code",
   "execution_count": null,
   "id": "fc6319cf-5d92-49ee-9981-cebd055ed8ce",
   "metadata": {},
   "outputs": [],
   "source": []
  },
  {
   "cell_type": "code",
   "execution_count": 39,
   "id": "920e16fd-0307-45f0-991a-46e5ff4281c9",
   "metadata": {},
   "outputs": [],
   "source": [
    "# copy(), apply, lambda"
   ]
  },
  {
   "cell_type": "code",
   "execution_count": 40,
   "id": "eee5f726-a57d-4e83-91d6-02866c3cba40",
   "metadata": {},
   "outputs": [
    {
     "name": "stdout",
     "output_type": "stream",
     "text": [
      "[1, 2, 3] [1, 2, 3]\n",
      "[1, 4, 3] [1, 4, 3]\n"
     ]
    }
   ],
   "source": [
    "data1 = [1, 2, 3]\n",
    "data2 = data1\n",
    "print(data1, data2) # [1, 2, 3] [1, 2, 3]\n",
    "\n",
    "data1[1] = 4\n",
    "print(data1, data2) # [1, 4, 3] [1, 2, 3]? NO!\n",
    "# => data1만 바꿨는데 data1과 data2가 다 바뀌었다"
   ]
  },
  {
   "cell_type": "code",
   "execution_count": 42,
   "id": "06d79b36-5e7b-4156-8b68-e549498d474c",
   "metadata": {},
   "outputs": [
    {
     "name": "stdout",
     "output_type": "stream",
     "text": [
      "[1, 2, 3] [1, 2, 3] [1, 2, 3]\n",
      "[1, 4, 3] [1, 4, 3] [1, 2, 3]\n"
     ]
    }
   ],
   "source": [
    "data1 = [1, 2, 3]\n",
    "data2 = data1         # 얕은 복사(call by reference): 주소값 복사\n",
    "data3 = data1.copy()  # 깊은 복사(call by value): 값 복사\n",
    "print(data1, data2, data3)\n",
    "\n",
    "data1[1] = 4\n",
    "print(data1, data2, data3)\n",
    "# => .copy()를 해서 값을 복사해다 쓰면 원본을 바꿔도 복사한 값이 바뀌지 않는다"
   ]
  },
  {
   "cell_type": "code",
   "execution_count": null,
   "id": "da5b24fb-297e-42a4-b233-b70f4992eaa8",
   "metadata": {},
   "outputs": [],
   "source": [
    "# apply(func): 모든 데이터를 func을 적용시킨 결과를 출력"
   ]
  },
  {
   "cell_type": "code",
   "execution_count": 43,
   "id": "f3ea04ef-1c79-4dc6-a8ee-39aa415dd0fd",
   "metadata": {},
   "outputs": [
    {
     "data": {
      "text/html": [
       "<div>\n",
       "<style scoped>\n",
       "    .dataframe tbody tr th:only-of-type {\n",
       "        vertical-align: middle;\n",
       "    }\n",
       "\n",
       "    .dataframe tbody tr th {\n",
       "        vertical-align: top;\n",
       "    }\n",
       "\n",
       "    .dataframe thead th {\n",
       "        text-align: right;\n",
       "    }\n",
       "</style>\n",
       "<table border=\"1\" class=\"dataframe\">\n",
       "  <thead>\n",
       "    <tr style=\"text-align: right;\">\n",
       "      <th></th>\n",
       "      <th>age</th>\n",
       "    </tr>\n",
       "  </thead>\n",
       "  <tbody>\n",
       "    <tr>\n",
       "      <th>0</th>\n",
       "      <td>23</td>\n",
       "    </tr>\n",
       "    <tr>\n",
       "      <th>1</th>\n",
       "      <td>36</td>\n",
       "    </tr>\n",
       "    <tr>\n",
       "      <th>2</th>\n",
       "      <td>27</td>\n",
       "    </tr>\n",
       "  </tbody>\n",
       "</table>\n",
       "</div>"
      ],
      "text/plain": [
       "   age\n",
       "0   23\n",
       "1   36\n",
       "2   27"
      ]
     },
     "execution_count": 43,
     "metadata": {},
     "output_type": "execute_result"
    }
   ],
   "source": [
    "df = pd.DataFrame([{'age':23}, {'age':36}, {'age':27}])\n",
    "df"
   ]
  },
  {
   "cell_type": "code",
   "execution_count": 44,
   "id": "824653f8-bf2a-4d12-ba8a-a4abe3c81d7e",
   "metadata": {},
   "outputs": [],
   "source": [
    "# 연령대 컬럼을 추가\n",
    "def change_ages(age):\n",
    "    return age // 10 * 10"
   ]
  },
  {
   "cell_type": "code",
   "execution_count": 45,
   "id": "133f5cbf-ba47-4496-afe6-cd5dcbb32f58",
   "metadata": {},
   "outputs": [
    {
     "data": {
      "text/plain": [
       "0    23\n",
       "1    36\n",
       "2    27\n",
       "Name: age, dtype: int64"
      ]
     },
     "execution_count": 45,
     "metadata": {},
     "output_type": "execute_result"
    }
   ],
   "source": [
    "df['age']"
   ]
  },
  {
   "cell_type": "code",
   "execution_count": 49,
   "id": "ea1e3010-fdce-4c89-883b-e12ceadd5c75",
   "metadata": {},
   "outputs": [
    {
     "data": {
      "text/html": [
       "<div>\n",
       "<style scoped>\n",
       "    .dataframe tbody tr th:only-of-type {\n",
       "        vertical-align: middle;\n",
       "    }\n",
       "\n",
       "    .dataframe tbody tr th {\n",
       "        vertical-align: top;\n",
       "    }\n",
       "\n",
       "    .dataframe thead th {\n",
       "        text-align: right;\n",
       "    }\n",
       "</style>\n",
       "<table border=\"1\" class=\"dataframe\">\n",
       "  <thead>\n",
       "    <tr style=\"text-align: right;\">\n",
       "      <th></th>\n",
       "      <th>age</th>\n",
       "      <th>ages</th>\n",
       "    </tr>\n",
       "  </thead>\n",
       "  <tbody>\n",
       "    <tr>\n",
       "      <th>0</th>\n",
       "      <td>23</td>\n",
       "      <td>20</td>\n",
       "    </tr>\n",
       "    <tr>\n",
       "      <th>1</th>\n",
       "      <td>36</td>\n",
       "      <td>30</td>\n",
       "    </tr>\n",
       "    <tr>\n",
       "      <th>2</th>\n",
       "      <td>27</td>\n",
       "      <td>20</td>\n",
       "    </tr>\n",
       "  </tbody>\n",
       "</table>\n",
       "</div>"
      ],
      "text/plain": [
       "   age  ages\n",
       "0   23    20\n",
       "1   36    30\n",
       "2   27    20"
      ]
     },
     "execution_count": 49,
     "metadata": {},
     "output_type": "execute_result"
    }
   ],
   "source": [
    "df['ages'] = df['age'].apply(change_ages)\n",
    "df"
   ]
  },
  {
   "cell_type": "code",
   "execution_count": null,
   "id": "3260f5f3-3ae0-4f10-a3b2-9b9ddabc1177",
   "metadata": {},
   "outputs": [],
   "source": [
    "# lambda: 일회성 함수\n",
    "# 사용 이유: 간단한 함수를 메모리를 절약해서 사용할 수 있다\n",
    "# 간단한 함수 = 파라미터를 받아서 바로 리턴하는 함수"
   ]
  },
  {
   "cell_type": "code",
   "execution_count": 50,
   "id": "002f83f2-278a-482e-b44c-e13f797a956e",
   "metadata": {},
   "outputs": [],
   "source": [
    "def plus(n1, n2):\n",
    "    return n1 + n2\n",
    "\n",
    "def minus(n1, n2):\n",
    "    return n1 - n2\n",
    "\n",
    "def calc(func, n1, n2):\n",
    "    return func(n1, n2)\n",
    "\n",
    "# 함수 3개 사용 = 메모리 3칸 사용"
   ]
  },
  {
   "cell_type": "code",
   "execution_count": 51,
   "id": "ce70fd22-d429-4ce0-8e0a-e332fc631a69",
   "metadata": {},
   "outputs": [
    {
     "data": {
      "text/plain": [
       "(3, -1)"
      ]
     },
     "execution_count": 51,
     "metadata": {},
     "output_type": "execute_result"
    }
   ],
   "source": [
    "calc(plus, 1, 2), calc(minus, 1, 2)"
   ]
  },
  {
   "cell_type": "code",
   "execution_count": 52,
   "id": "af143b40-9ea8-4f8b-aac6-1a1d3aed7166",
   "metadata": {},
   "outputs": [
    {
     "data": {
      "text/plain": [
       "(5, 5)"
      ]
     },
     "execution_count": 52,
     "metadata": {},
     "output_type": "execute_result"
    }
   ],
   "source": [
    "# lambda 변수 : return할 값\n",
    "plus_lambda = lambda n1, n2: n1 + n2\n",
    "plus(2,3), plus_lambda(2,3)"
   ]
  },
  {
   "cell_type": "code",
   "execution_count": 53,
   "id": "3f1240a0-a069-4ea3-833a-8d7422a74bf4",
   "metadata": {},
   "outputs": [
    {
     "data": {
      "text/plain": [
       "(3, -1)"
      ]
     },
     "execution_count": 53,
     "metadata": {},
     "output_type": "execute_result"
    }
   ],
   "source": [
    "def calc(func, n1, n2): return func(n1, n2)\n",
    "\n",
    "calc(lambda n1, n2: n1 + n2, 1, 2), calc(lambda n1, n2: n1 - n2, 1, 2)\n",
    "# 함수 1개 사용 = 메모리 1칸 사용"
   ]
  },
  {
   "cell_type": "code",
   "execution_count": null,
   "id": "a36a2b67-c3f1-4797-9886-75ebe3315159",
   "metadata": {},
   "outputs": [],
   "source": [
    "# summary\n",
    "# 웹페이지의 종류\n",
    "# - 정적 페이지: 데이터가 변경될 때 URL 변경 O: HTML 포맷 데이터로 수집\n",
    "# - 동적 페이지: 데이터가 변경될 때 URL 변경 X: JSON 포맷 데이터로 수집\n",
    "\n",
    "# 웹크롤링 절차\n",
    "# 1. 웹서비스 분석: 크롬 개발자 도구 사용: URL을 찾아냄\n",
    "# 2. requests(url) > response(json) => JSON(str)\n",
    "# 3. JSON(str) > list or dict > DataFrame으로 변환"
   ]
  }
 ],
 "metadata": {
  "kernelspec": {
   "display_name": "Python 3",
   "language": "python",
   "name": "python3"
  },
  "language_info": {
   "codemirror_mode": {
    "name": "ipython",
    "version": 3
   },
   "file_extension": ".py",
   "mimetype": "text/x-python",
   "name": "python",
   "nbconvert_exporter": "python",
   "pygments_lexer": "ipython3",
   "version": "3.8.8"
  }
 },
 "nbformat": 4,
 "nbformat_minor": 5
}
