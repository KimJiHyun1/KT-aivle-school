{
 "cells": [
  {
   "cell_type": "markdown",
   "id": "abdf04e5-b21c-459e-8444-867d54ccfbcd",
   "metadata": {},
   "source": [
    "### gmarket\n",
    "- Best 상품 200개 수집\n",
    "- 이미지 파일은 내일 수집 (이미지 url 사용해서)"
   ]
  },
  {
   "cell_type": "code",
   "execution_count": 1,
   "id": "4f6fd57d-8679-4baa-bdf9-40a6c78cfaca",
   "metadata": {},
   "outputs": [],
   "source": [
    "import pandas as pd\n",
    "import requests\n",
    "from bs4 import BeautifulSoup"
   ]
  },
  {
   "cell_type": "code",
   "execution_count": null,
   "id": "c9c4cdc4-0641-4de4-84e5-1f1d3dd0dae6",
   "metadata": {},
   "outputs": [],
   "source": [
    "# 1. URL"
   ]
  },
  {
   "cell_type": "code",
   "execution_count": 2,
   "id": "774cda47-1146-4c86-bee1-2521e89a2577",
   "metadata": {},
   "outputs": [],
   "source": [
    "url = 'http://corners.gmarket.co.kr/Bestsellers'"
   ]
  },
  {
   "cell_type": "code",
   "execution_count": null,
   "id": "7d86681c-b1c1-4e58-a66f-eb38cf4e4729",
   "metadata": {},
   "outputs": [],
   "source": [
    "# 2. request > response : HTML(str)"
   ]
  },
  {
   "cell_type": "code",
   "execution_count": 6,
   "id": "6175edad-8829-4570-8762-e1e8ee64a1f7",
   "metadata": {},
   "outputs": [
    {
     "data": {
      "text/plain": [
       "<Response [200]>"
      ]
     },
     "execution_count": 6,
     "metadata": {},
     "output_type": "execute_result"
    }
   ],
   "source": [
    "response = requests.get(url)\n",
    "response"
   ]
  },
  {
   "cell_type": "code",
   "execution_count": 7,
   "id": "d9dadb7b-1e4d-447d-b5c8-abd66d10e4cb",
   "metadata": {},
   "outputs": [
    {
     "data": {
      "text/plain": [
       "'<!DOCTYPE HTML PUBLIC \"-//W3C//DTD HTML 4.01 Transitional//EN\" \"http://www.w3.org/TR/html4/loose.dtd\">\\r\\n<html lang=\"ko\">\\r\\n<head>\\r\\n\\t<title>G마켓 - G마켓 베스트</title>\\r\\n\\t<meta http-equiv=\"X-UA-Compatible\" content=\"IE=edge\" />\\r\\n\\t<meta http-equiv=\"content-type\" content=\"text/html; charset=utf-8\" />\\r\\n\\t<meta ht'"
      ]
     },
     "execution_count": 7,
     "metadata": {},
     "output_type": "execute_result"
    }
   ],
   "source": [
    "response.text[:300] # HTML(str)"
   ]
  },
  {
   "cell_type": "code",
   "execution_count": null,
   "id": "333e8b97-b3fd-45e7-a61e-4cfcf887c296",
   "metadata": {},
   "outputs": [],
   "source": [
    "# 3. HTML(str) > BeautifulSoup Object"
   ]
  },
  {
   "cell_type": "code",
   "execution_count": 10,
   "id": "d70ea2e7-b7a1-4493-8530-4c2355a42201",
   "metadata": {},
   "outputs": [
    {
     "data": {
      "text/plain": [
       "bs4.BeautifulSoup"
      ]
     },
     "execution_count": 10,
     "metadata": {},
     "output_type": "execute_result"
    }
   ],
   "source": [
    "dom = BeautifulSoup(response.text, 'html.parser')\n",
    "type(dom)"
   ]
  },
  {
   "cell_type": "code",
   "execution_count": null,
   "id": "67fa400e-1b51-4044-9c1c-b48777570b49",
   "metadata": {},
   "outputs": [],
   "source": [
    "# 4. BeautifulSoup Object > css-selector > DataFrame"
   ]
  },
  {
   "cell_type": "code",
   "execution_count": null,
   "id": "00be84ff-2ea6-4839-923e-de85f9819e14",
   "metadata": {},
   "outputs": [],
   "source": []
  },
  {
   "cell_type": "code",
   "execution_count": 13,
   "id": "3e38c8d1-0014-455f-8009-9908e1052388",
   "metadata": {},
   "outputs": [
    {
     "data": {
      "text/plain": [
       "200"
      ]
     },
     "execution_count": 13,
     "metadata": {},
     "output_type": "execute_result"
    }
   ],
   "source": [
    "# 200개 상품 element 선택\n",
    "\n",
    "# copy selector 하면\n",
    "#gBestWrap > div > div:nth-child(5) > div > ul > li:nth-child(2) \n",
    "# :nth-child(2)는 두번째 element라는 뜻이니까 이건 빼고 ~ \n",
    "elements = dom.select('#gBestWrap > div > div:nth-child(5) > div > ul > li')\n",
    "len(elements)"
   ]
  },
  {
   "cell_type": "code",
   "execution_count": 16,
   "id": "0aecdc07-c171-4e36-823c-49d61fd629e4",
   "metadata": {},
   "outputs": [
    {
     "data": {
      "text/plain": [
       "<li class=\"first\">\n",
       "<p class=\"no1\" id=\"no1\">1</p>\n",
       "<div class=\"thumb\">\n",
       "<a href=\"http://item.gmarket.co.kr/Item?goodscode=1798110680&amp;ver=637952285280442835\" onclick=\"pdsClickLog('200000680', 'Item', {'ASN': 1, 'goodsCode': '1798110680'});\"><img alt=\"[한상궁김치]한상궁김치 국산 겉절이 2kg 출고당일생산\" class=\"lazy\" data-original=\"//gdimg.gmarket.co.kr/1798110680/still/300?ver=2022080416\" height=\"210\" src=\"//image.gmarket.co.kr/challenge/neo_image/no_image.gif\" width=\"210\"/></a>\n",
       "</div>\n",
       "<!--div class=\"goods-view\">\n",
       "\t\t\t\t\t\t\t\t\t<a href=\"http://minishop.gmarket.co.kr/hansanggungfood\"><span class=\"view\">판매자 다른상품 보기</span>맛있는한상궁</a>\n",
       "\t\t\t\t\t\t\t\t</div-->\n",
       "<a class=\"itemname\" href=\"http://item.gmarket.co.kr/Item?goodscode=1798110680&amp;ver=637952285280442835\" onclick=\"pdsClickLog('200000680', 'Item', {'ASN': 1, 'goodsCode': '1798110680'});\">[한상궁김치]한상궁김치 국산 겉절이 2kg 출고당일생산</a>\n",
       "<div class=\"item_price\">\n",
       "<div class=\"o-price\"><span><span>23,400원</span></span></div>\n",
       "<div class=\"s-price\">\n",
       "<strong><span><span>11,000원</span></span></strong>\n",
       "<span><span class=\"sale\"></span><em>52%</em></span>\n",
       "</div>\n",
       "<div class=\"icon\">\n",
       "<img alt=\"무료배송\" src=\"//pics.gmkt.kr/pc/ko/corner/gbest/ic_freeshipping.gif\"/>\n",
       "</div>\n",
       "</div>\n",
       "</li>"
      ]
     },
     "execution_count": 16,
     "metadata": {},
     "output_type": "execute_result"
    }
   ],
   "source": [
    "element = elements[0]\n",
    "element"
   ]
  },
  {
   "cell_type": "code",
   "execution_count": 24,
   "id": "e21a6430-c58c-49e4-8859-154a14ce797e",
   "metadata": {},
   "outputs": [
    {
     "data": {
      "text/plain": [
       "{'title': '[한상궁김치]한상궁김치 국산 겉절이 2kg 출고당일생산',\n",
       " 'o_price': '23,400원',\n",
       " 's_price': '11,000원',\n",
       " 'img': 'http://gdimg.gmarket.co.kr/1798110680/still/300?ver=2022080416'}"
      ]
     },
     "execution_count": 24,
     "metadata": {},
     "output_type": "execute_result"
    }
   ],
   "source": [
    "data = {\n",
    "    'title': element.select_one('.itemname').text,\n",
    "    'o_price': element.select_one('.o-price').text,\n",
    "    's_price': element.select_one('.s-price > strong').text,\n",
    "    'img': 'http:' + element.select_one('img').get('data-original'),\n",
    "}\n",
    "data"
   ]
  },
  {
   "cell_type": "code",
   "execution_count": 25,
   "id": "d6029509-6c56-4b02-be6d-e4e442d4ae6b",
   "metadata": {},
   "outputs": [
    {
     "data": {
      "text/plain": [
       "[{'title': '[한상궁김치]한상궁김치 국산 겉절이 2kg 출고당일생산',\n",
       "  'o_price': '23,400원',\n",
       "  's_price': '11,000원',\n",
       "  'img': 'http://gdimg.gmarket.co.kr/1798110680/still/300?ver=2022080416'},\n",
       " {'title': '[광동]아이스웨일 레몬라임 탄산수 500ml 40pet/음료/음료수',\n",
       "  'o_price': '17,300원',\n",
       "  's_price': '13,900원',\n",
       "  'img': 'http://gdimg.gmarket.co.kr/2355814801/still/300?ver=2022080416'}]"
      ]
     },
     "execution_count": 25,
     "metadata": {},
     "output_type": "execute_result"
    }
   ],
   "source": [
    "items = []\n",
    "\n",
    "for element in elements:\n",
    "    data = {\n",
    "    'title': element.select_one('.itemname').text,\n",
    "    'o_price': element.select_one('.o-price').text,\n",
    "    's_price': element.select_one('.s-price > strong').text,\n",
    "    'img': 'http:' + element.select_one('img').get('data-original'),\n",
    "    }\n",
    "    items.append(data)\n",
    "    \n",
    "items[:2]"
   ]
  },
  {
   "cell_type": "code",
   "execution_count": 27,
   "id": "33dd22fb-ebe8-4da4-abd8-e46fd0c705b4",
   "metadata": {},
   "outputs": [
    {
     "data": {
      "text/html": [
       "<div>\n",
       "<style scoped>\n",
       "    .dataframe tbody tr th:only-of-type {\n",
       "        vertical-align: middle;\n",
       "    }\n",
       "\n",
       "    .dataframe tbody tr th {\n",
       "        vertical-align: top;\n",
       "    }\n",
       "\n",
       "    .dataframe thead th {\n",
       "        text-align: right;\n",
       "    }\n",
       "</style>\n",
       "<table border=\"1\" class=\"dataframe\">\n",
       "  <thead>\n",
       "    <tr style=\"text-align: right;\">\n",
       "      <th></th>\n",
       "      <th>title</th>\n",
       "      <th>o_price</th>\n",
       "      <th>s_price</th>\n",
       "      <th>img</th>\n",
       "    </tr>\n",
       "  </thead>\n",
       "  <tbody>\n",
       "    <tr>\n",
       "      <th>197</th>\n",
       "      <td>헬스브로 칼슘 마그네슘 아연 비타민D 12개월(360정)</td>\n",
       "      <td></td>\n",
       "      <td>30,300원</td>\n",
       "      <td>http://gdimg.gmarket.co.kr/1942509711/still/30...</td>\n",
       "    </tr>\n",
       "    <tr>\n",
       "      <th>198</th>\n",
       "      <td>주니어김영사 놓지 마 어휘 한자어 1 2 3 4 번 전4권 세트</td>\n",
       "      <td>81,000원</td>\n",
       "      <td>55,200원</td>\n",
       "      <td>http://gdimg.gmarket.co.kr/2298871614/still/30...</td>\n",
       "    </tr>\n",
       "    <tr>\n",
       "      <th>199</th>\n",
       "      <td>김치메밀전병900gx2봉1.8kg/만두 간식 메밀 2봉/HACCP/</td>\n",
       "      <td>19,900원</td>\n",
       "      <td>12,500원</td>\n",
       "      <td>http://gdimg.gmarket.co.kr/1521852173/still/30...</td>\n",
       "    </tr>\n",
       "  </tbody>\n",
       "</table>\n",
       "</div>"
      ],
      "text/plain": [
       "                                     title  o_price  s_price  \\\n",
       "197        헬스브로 칼슘 마그네슘 아연 비타민D 12개월(360정)           30,300원   \n",
       "198    주니어김영사 놓지 마 어휘 한자어 1 2 3 4 번 전4권 세트  81,000원  55,200원   \n",
       "199  김치메밀전병900gx2봉1.8kg/만두 간식 메밀 2봉/HACCP/  19,900원  12,500원   \n",
       "\n",
       "                                                   img  \n",
       "197  http://gdimg.gmarket.co.kr/1942509711/still/30...  \n",
       "198  http://gdimg.gmarket.co.kr/2298871614/still/30...  \n",
       "199  http://gdimg.gmarket.co.kr/1521852173/still/30...  "
      ]
     },
     "execution_count": 27,
     "metadata": {},
     "output_type": "execute_result"
    }
   ],
   "source": [
    "df = pd.DataFrame(items)\n",
    "df.tail(3)"
   ]
  },
  {
   "cell_type": "code",
   "execution_count": null,
   "id": "50028fb6-27fb-41ce-8c7c-a87b104afe43",
   "metadata": {},
   "outputs": [],
   "source": []
  },
  {
   "cell_type": "code",
   "execution_count": null,
   "id": "d000796e-09a7-48e7-a9f2-6a04b1e2a0e0",
   "metadata": {},
   "outputs": [],
   "source": [
    "# summary\n",
    "\n",
    "# 웹페이지의 종류\n",
    "# - 동적 페이지 : URL 변경 없이 웹페이지 데이터 변경 : \n",
    "#                JSON : API 형태로 데이터를 수집할 때\n",
    "# - 정적 페이지 : URL 변경 해서 웹페이지 데이터 변겅 : \n",
    "#                HTML : BeautifulSOUP(css selector)를 사용해서 데이터 수집"
   ]
  },
  {
   "cell_type": "code",
   "execution_count": null,
   "id": "3983deb9-45d8-4e43-bdc2-6c8c1e198b2e",
   "metadata": {},
   "outputs": [],
   "source": [
    "# 오늘 한 실습 (0804)\n",
    "# naver api : 검색어 트렌드\n",
    "# zigbang : 원룸 데이터 수집\n",
    "# daum exchange : headers(user-agent, referer) 설정해서 환율 데이터 수집\n",
    "# html, css-selector\n",
    "# naver relational keyword (연관 검색어) (BeautifulSoup)\n",
    "# gmarket best 200 items"
   ]
  },
  {
   "cell_type": "code",
   "execution_count": null,
   "id": "f9794964-4a70-4da7-965c-2f3a1b979b20",
   "metadata": {},
   "outputs": [],
   "source": [
    "# 내일 할 실습 (0805)\n",
    "# crawling images\n",
    "# crawling using selenium\n",
    "# xpath (css-selector 말고 딴 거임)\n",
    "# python web crawling framework : scrapy (실무에서 사용하는 거!)"
   ]
  }
 ],
 "metadata": {
  "kernelspec": {
   "display_name": "Python 3",
   "language": "python",
   "name": "python3"
  },
  "language_info": {
   "codemirror_mode": {
    "name": "ipython",
    "version": 3
   },
   "file_extension": ".py",
   "mimetype": "text/x-python",
   "name": "python",
   "nbconvert_exporter": "python",
   "pygments_lexer": "ipython3",
   "version": "3.8.8"
  }
 },
 "nbformat": 4,
 "nbformat_minor": 5
}
