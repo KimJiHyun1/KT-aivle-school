{
 "cells": [
  {
   "cell_type": "code",
   "execution_count": null,
   "id": "66673e1d-bc85-4b5a-8446-3054c1f44171",
   "metadata": {},
   "outputs": [],
   "source": [
    "# scrapy에서의 yeild 명령어 "
   ]
  },
  {
   "cell_type": "code",
   "execution_count": null,
   "id": "9100ab46-f71a-4c88-9a9c-c2713e2c39b3",
   "metadata": {},
   "outputs": [],
   "source": [
    "# iterable : 순서가 있는 데이터 집합 : list, tuple\n",
    "# iterator : next 함수를 실행하여 값을 발생시키는 값 생성기 \n",
    "# generator : iterator를 간단하게 구현한 문법 "
   ]
  },
  {
   "cell_type": "code",
   "execution_count": 6,
   "id": "e3edd317-565d-4802-a8b5-d349e6e34d35",
   "metadata": {},
   "outputs": [
    {
     "data": {
      "text/plain": [
       "list_iterator"
      ]
     },
     "execution_count": 6,
     "metadata": {},
     "output_type": "execute_result"
    }
   ],
   "source": [
    "# iterator 만들기\n",
    "iterator = iter([1,2,3])\n",
    "type(iterator)"
   ]
  },
  {
   "cell_type": "code",
   "execution_count": null,
   "id": "b1263664-bd4b-451e-bf75-8f97e6313f17",
   "metadata": {},
   "outputs": [],
   "source": [
    "# class로 iterator 만들기 : 피보나치 수열 "
   ]
  },
  {
   "cell_type": "code",
   "execution_count": 11,
   "id": "23c98b32-d9b9-4d54-a89a-fa9666a2e202",
   "metadata": {},
   "outputs": [],
   "source": [
    "class Fib:\n",
    "    def __init__(self):\n",
    "        self.prev = 0\n",
    "        self.curr = 1\n",
    "    def __iter__(self):\n",
    "        return self\n",
    "    def __next__(self): # 피보나치 수열에 대한 알고리즘\n",
    "        value = self.curr\n",
    "        self.curr += self.prev\n",
    "        self.prev = value\n",
    "        return value"
   ]
  },
  {
   "cell_type": "code",
   "execution_count": 12,
   "id": "34ab0648-245d-4e20-83d6-e7350d80e337",
   "metadata": {},
   "outputs": [
    {
     "data": {
      "text/plain": [
       "__main__.Fib"
      ]
     },
     "execution_count": 12,
     "metadata": {},
     "output_type": "execute_result"
    }
   ],
   "source": [
    "fib = Fib()\n",
    "type(fib)"
   ]
  },
  {
   "cell_type": "code",
   "execution_count": 29,
   "id": "310c9ed4-c23b-48fd-92dd-2bddcee1ff75",
   "metadata": {},
   "outputs": [
    {
     "data": {
      "text/plain": [
       "1597"
      ]
     },
     "execution_count": 29,
     "metadata": {},
     "output_type": "execute_result"
    }
   ],
   "source": [
    "next(fib) # 실행할 때마다 피보나치 수열이 계속 나옴 "
   ]
  },
  {
   "cell_type": "code",
   "execution_count": null,
   "id": "6aa0da96-482f-4dd5-9dcc-61500a036414",
   "metadata": {},
   "outputs": [],
   "source": [
    "# iterator를 generator로 구현하기 "
   ]
  },
  {
   "cell_type": "code",
   "execution_count": null,
   "id": "3de2221b-5936-4965-9549-508ac2b5eee1",
   "metadata": {},
   "outputs": [],
   "source": [
    "## yield : 일반 함수를 generator로 만들어주는 명령어 \n",
    "# next 함수를 실행해서 yield를 만나면 코드 실행이 중단된다\n"
   ]
  },
  {
   "cell_type": "code",
   "execution_count": 34,
   "id": "493110b6-14c4-4d98-bf16-f81965b8b9ba",
   "metadata": {},
   "outputs": [],
   "source": [
    "def fib():\n",
    "    prev, curr = 0, 1\n",
    "    while True:\n",
    "        yield curr # curr를 return하고 코드 실행 준단 \n",
    "        prev, curr = curr, prev + curr"
   ]
  },
  {
   "cell_type": "code",
   "execution_count": 36,
   "id": "7ee90056-ecb4-408e-96b8-4445f23c50a3",
   "metadata": {},
   "outputs": [
    {
     "data": {
      "text/plain": [
       "generator"
      ]
     },
     "execution_count": 36,
     "metadata": {},
     "output_type": "execute_result"
    }
   ],
   "source": [
    "f = fib()\n",
    "type(f)"
   ]
  },
  {
   "cell_type": "code",
   "execution_count": 45,
   "id": "18bf9d49-f3d5-45cb-add1-b0b26516f9e9",
   "metadata": {},
   "outputs": [
    {
     "data": {
      "text/plain": [
       "34"
      ]
     },
     "execution_count": 45,
     "metadata": {},
     "output_type": "execute_result"
    }
   ],
   "source": [
    "next(f)"
   ]
  },
  {
   "cell_type": "code",
   "execution_count": null,
   "id": "008a6133-283d-4467-b7dc-d92b990a0b7d",
   "metadata": {},
   "outputs": [],
   "source": [
    "# yield : 함수를 호출할 때마다 return을 여러 번 하는 방법"
   ]
  },
  {
   "cell_type": "code",
   "execution_count": 51,
   "id": "2c9c298a-d2cb-498e-be73-eb102679af61",
   "metadata": {},
   "outputs": [],
   "source": [
    "def gen():\n",
    "    yield 1 # 첫번 실행했을 때\n",
    "    yield 2 # 두번 실행했을 때\n",
    "    yield 3 # 세번 실행했을 때\n",
    "    # 그 이상 실행하면 오류 \n",
    "    \n",
    "g = gen()"
   ]
  },
  {
   "cell_type": "code",
   "execution_count": 54,
   "id": "67e68594-54fe-492b-8416-a49e5231a823",
   "metadata": {},
   "outputs": [
    {
     "data": {
      "text/plain": [
       "3"
      ]
     },
     "execution_count": 54,
     "metadata": {},
     "output_type": "execute_result"
    }
   ],
   "source": [
    "next(g)"
   ]
  }
 ],
 "metadata": {
  "kernelspec": {
   "display_name": "Python 3",
   "language": "python",
   "name": "python3"
  },
  "language_info": {
   "codemirror_mode": {
    "name": "ipython",
    "version": 3
   },
   "file_extension": ".py",
   "mimetype": "text/x-python",
   "name": "python",
   "nbconvert_exporter": "python",
   "pygments_lexer": "ipython3",
   "version": "3.8.8"
  }
 },
 "nbformat": 4,
 "nbformat_minor": 5
}
